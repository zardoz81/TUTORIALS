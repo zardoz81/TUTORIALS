{
 "cells": [
  {
   "cell_type": "code",
   "execution_count": 1,
   "metadata": {},
   "outputs": [],
   "source": [
    "\"\"\"\n",
    "THE BEST IMPLEMENTATION IS WHEN YOU MAKE A CLASS AND STORE ALL INTERMEDIATE VARS IN SELF.VAR. THAT MAKES\n",
    "DEBUGGING HECK OF A LOT EASIER BECAUSE IF ANYTHING FAILS, YOU CAN ALWAYS INSPECT ANY VAR BY CALLING \n",
    "PRINT(CLASS_INSTANCE.VAR). YOU CAN RUN CLASS METHODS SEPARATELY AND SEE THEIR OUTPUTS!\n",
    "\"\"\"\n",
    "\n",
    "# make sure you don't hog all the video memory\n",
    "import os\n",
    "import sys\n",
    "import pickle\n",
    "import time\n",
    "import tensorflow as tf\n",
    "from tensorflow.python.client import device_lib\n",
    "config = tf.ConfigProto()\n",
    "config.gpu_options.allow_growth = True\n",
    "sess = tf.Session(config=config)\n",
    "# os.environ[\"CUDAa_VISIBLE_DEVICES\"]=\"2\"\n",
    "###################################\n",
    "\n",
    "from keras import backend as K\n",
    "from keras.optimizers import RMSprop, Adam, SGD\n",
    "from keras.layers import Input, Dense, Dropout, Flatten, ELU, Activation, Conv2D, Lambda, SeparableConv2D\n",
    "from keras.models import Model, load_model\n",
    "\n",
    "import gym\n",
    "import numpy as np\n",
    "from collections import deque\n",
    "\n",
    "# import matplotlib\n",
    "# matplotlib.use('TkAgg')\n",
    "import matplotlib.pyplot as plt\n",
    "%matplotlib inline\n",
    "\n",
    "from skimage.transform import resize\n",
    "from skimage.color import rgb2gray\n",
    "\n",
    "\n",
    "class DQNAgent:\n",
    "    def __init__(self, frames):\n",
    "        self.f_len = frames\n",
    "        self.memory = deque(maxlen=self.f_len)\n",
    "        self.target_shape = (80,80)\n",
    "        self.fit_flag = True\n",
    "#         self.state4 = np.zeros([80,80,self.f_len], dtype='float32')\n",
    "        self.sum_disc_raw = []\n",
    "        self.sum_raw_rew = []\n",
    "        self.prev_raw_rew = -21\n",
    "        self.init_env()\n",
    "        self.init_brain()\n",
    "\n",
    "        \n",
    "        # Define the fit function (to update the weights; we won't be compiling the model)\n",
    "        action_prob_placeholder = self.brain.output\n",
    "        action_onehot_placeholder = K.placeholder(shape=(None, 2))\n",
    "        discount_reward_placeholder = K.placeholder(shape=(None,))\n",
    "        action_prob = K.sum(action_prob_placeholder * action_onehot_placeholder, axis=1)\n",
    "        log_action_prob = K.log(action_prob)\n",
    "        loss = - log_action_prob * discount_reward_placeholder\n",
    "        loss = K.sum(loss)\n",
    "        adam = Adam(lr=0.001)\n",
    "        updates = adam.get_updates(params=self.brain.trainable_weights, loss=loss)\n",
    "        self.fit = K.function(inputs=[self.brain.input,\n",
    "                                           action_onehot_placeholder,\n",
    "                                           discount_reward_placeholder],\n",
    "                                   outputs=[loss],\n",
    "                                   updates=updates)\n",
    "    def init_brain(self):\n",
    "        # this is the policy network\n",
    "        input_img = Input(shape=(80, 80, self.f_len))\n",
    "        x = Conv2D(16, (6, 6), activation='relu', padding='valid', strides=(4,4), kernel_initializer='lecun_uniform')(input_img)\n",
    "        x = Conv2D(32, (2, 2), activation='relu', padding='valid', strides=(2,2), kernel_initializer='lecun_uniform')(x)\n",
    "        x = Flatten()(x)\n",
    "        x = Dense(250, activation='relu', kernel_initializer='lecun_uniform')(x)\n",
    "        x = Dropout(0.33)(x)\n",
    "        x = Dense(2)(x)\n",
    "        x = Lambda(lambda x: K.tf.nn.softmax(x))(x)\n",
    "        self.brain = Model(input_img, x)\n",
    "        self.brain.summary()\n",
    "\n",
    "    def init_env(self):\n",
    "        # initialize the environment\n",
    "        self.env = gym.make(\"Pong-v0\")\n",
    "        self.state = self.env.reset()\n",
    "        self.done = False  \n",
    "        # get the first four frames to fill the memory\n",
    "        for i in range(self.f_len):\n",
    "            self.action = np.random.choice([2,3])\n",
    "            state, reward, self.done, _ = self.env.step(self.action)\n",
    "            state = self.fi(state)\n",
    "            self.memory.append(state) # нет ли смещения ????\n",
    "        self.state4 = np.stack(self.memory, axis=2)\n",
    "        self.state4 = self.state4[None,:,:,:]\n",
    "        \n",
    "    def step1(self):\n",
    "        state, self.reward, self.done, _ = self.env.step(self.action)\n",
    "        # self.env.render()\n",
    "        state = self.fi(state)\n",
    "        self.memory.append(state)\n",
    "        self.state4 = np.stack(self.memory, axis=2)\n",
    "        self.state4 = self.state4[None,:,:,:] if self.f_len > 1 else self.state4[None,:,:,:]\n",
    "#         self.state4 = state - self.state4 ############### SUBTRACTION NOW\n",
    "    \n",
    "    def fi(self, I):\n",
    "        \"\"\" prepro 210x160x3 uint8 frame into 6400 (80x80) 1D float vector \"\"\"\n",
    "        I = I[35:195] # crop\n",
    "        I = I[::2,::2,0] # downsample by factor of 2\n",
    "        I[I == 144] = 0 # erase background (background type 1)\n",
    "        I[I == 109] = 0 # erase background (background type 2)\n",
    "        I[I != 0] = 1 # everything else (paddles, ball) just set to 1\n",
    "        return I\n",
    "\n",
    "    def predict_next_step(self):\n",
    "        act = self.brain.predict(self.state4).flatten().tolist()\n",
    "        act[1] = 1 - act[0] # this hack is needed because of numpy rounding error (probs don't sum to 1)\n",
    "        self.action = np.random.choice([2,3],1, p=act) #### !!! ### !!! ###@@ you are more likely to send 2 if your policy net (brain) says [0.9 0.1]\n",
    "\n",
    "    def discount_rewards(self, r, gamma=0.99):\n",
    "        discounted_r = np.zeros_like(r, dtype='float32')\n",
    "        running_add = 0\n",
    "        for t in reversed(range(0, r.size)):\n",
    "            if r[t] != 0:\n",
    "                running_add = 0\n",
    "            running_add = running_add * gamma + r[t]\n",
    "            discounted_r[t] = running_add\n",
    "#         discounted_r = discounted_r - 0.01\n",
    "        sum_disc_raw = np.sum(discounted_r)\n",
    "        discounted_r -= np.mean(discounted_r)\n",
    "        discounted_r /= np.std(discounted_r)\n",
    "        return discounted_r, sum_disc_raw\n",
    "\n",
    "    def play1game(self):\n",
    "        log_state4, log_reward, log_action = [], [], []\n",
    "        for subep in range(1):\n",
    "            self.init_env()\n",
    "            while not self.done:\n",
    "                self.predict_next_step()\n",
    "                self.step1()\n",
    "                log_state4.append(self.state4)\n",
    "                log_reward.append(self.reward)\n",
    "                log_action.append([1,0] if self.action==2 else [0,1]) #### !!! ### !!! ###@@ you are more likely to send 2 if your policy net (brain) says [0.9 0.1]\n",
    "            log_state4 = self.invert_last(log_state4)\n",
    "            d_rewards, sum_disc_raw = self.discount_rewards(np.array(log_reward), gamma=0.99)\n",
    "            loss = self.fit([np.vstack(log_state4),\n",
    "                             np.vstack(log_action),\n",
    "                             d_rewards])\n",
    "        self.sum_raw_rew = log_reward\n",
    "        self.sum_disc_raw = sum_disc_raw\n",
    "        return d_rewards, log_state4, log_action, loss\n",
    "\n",
    "    def invert_last(self, log_state4):\n",
    "        for i in range(len(log_state4)):\n",
    "            log_state4[i] = log_state4[i].astype('float16')\n",
    "            log_state4[i][:,:,:,0] = log_state4[i][:,:,:,0]*0.2\n",
    "            log_state4[i][:,:,:,1] = log_state4[i][:,:,:,1]*0.4\n",
    "            log_state4[i][:,:,:,2] = log_state4[i][:,:,:,2]*0.6\n",
    "            log_state4[i][:,:,:,3] = log_state4[i][:,:,:,3]*0.8\n",
    "#             print(np.max(log_state4[i][:,:,:,0]), np.max(log_state4[i][:,:,:,1]), np.max(log_state4[i][:,:,:,2]), np.max(log_state4[i][:,:,:,3]), np.max(log_state4[i][:,:,:,4]))\n",
    "        return log_state4\n",
    "        \n",
    "    def save_if_reward_increased(self):\n",
    "        tot_raw_rew = np.sum(self.sum_raw_rew)\n",
    "        if (tot_raw_rew > self.prev_raw_rew):\n",
    "            self.prev_raw_rew = tot_raw_rew\n",
    "            print('saving weights_' + str(tot_raw_rew))\n",
    "            name = str('2_PG_4frames_weights_' + str(tot_raw_rew) + '.h5')\n",
    "            self.brain.save_weights(name)\n",
    "    \n",
    "    def model_diverges(self, log_action):\n",
    "        print(np.mean([log_action[-i][0] for i in range(1,6)]))\n",
    "        m_last_rews = np.mean([log_action[-i][0] for i in range(1,6)])\n",
    "        return True if (m_last_rews > 0.6 or m_last_rews < 0.4) else False\n",
    "    \n",
    "    def train(self, n_episodes):\n",
    "        acc_avg_up = []\n",
    "        for episode in range(n_episodes):\n",
    "            sys.stdout.write(\"\\r EPISODE: {}\".format(episode))\n",
    "            sys.stdout.flush()\n",
    "            d_rewards, log_state4, log_action, loss = self.play1game()\n",
    "            avg_up = np.mean([log_action[i][0] for i in range(len(log_action))])\n",
    "            acc_avg_up.append(avg_up)\n",
    "            last_five = np.mean([acc_avg_up[-i] for i in range(1, np.min([5,len(acc_avg_up)]))])\n",
    "            self.fit_flag = False if (last_five < 0.4 or last_five > 0.6) else True                \n",
    "                \n",
    "            self.save_if_reward_increased()\n",
    "            with open(\"2_PG_4frames.txt\", \"a\") as myfile:\n",
    "                myfile.write(\"episode \" + str(episode) + \"\\t\" +\n",
    "                             \"loss \" + str(np.round(loss, 2)) + \"\\t\" \n",
    "                             \" raw_d_rw \" + str(np.round(self.sum_disc_raw,2)) + \"\\t\" +\n",
    "                             \" raw_rw \" + str(np.round(np.sum(self.sum_raw_rew),2)) + \"\\t\" +\n",
    "                             \" avg_up \" + str(np.round(avg_up,2)) + \"\\t\" +\n",
    "                             \" game_len \" + str(len(d_rewards)) + \"\\t\" +\n",
    "                             \"\\n\")\n",
    "        return log_state4\n",
    "\n",
    "            "
   ]
  },
  {
   "cell_type": "code",
   "execution_count": null,
   "metadata": {},
   "outputs": [
    {
     "name": "stdout",
     "output_type": "stream",
     "text": [
      "_________________________________________________________________\n",
      "Layer (type)                 Output Shape              Param #   \n",
      "=================================================================\n",
      "input_1 (InputLayer)         (None, 80, 80, 5)         0         \n",
      "_________________________________________________________________\n",
      "conv2d_1 (Conv2D)            (None, 19, 19, 16)        2896      \n",
      "_________________________________________________________________\n",
      "conv2d_2 (Conv2D)            (None, 9, 9, 32)          2080      \n",
      "_________________________________________________________________\n",
      "flatten_1 (Flatten)          (None, 2592)              0         \n",
      "_________________________________________________________________\n",
      "dense_1 (Dense)              (None, 250)               648250    \n",
      "_________________________________________________________________\n",
      "dropout_1 (Dropout)          (None, 250)               0         \n",
      "_________________________________________________________________\n",
      "dense_2 (Dense)              (None, 2)                 502       \n",
      "_________________________________________________________________\n",
      "lambda_1 (Lambda)            (None, 2)                 0         \n",
      "=================================================================\n",
      "Total params: 653,728\n",
      "Trainable params: 653,728\n",
      "Non-trainable params: 0\n",
      "_________________________________________________________________\n",
      " EPISODE: 1"
     ]
    },
    {
     "name": "stderr",
     "output_type": "stream",
     "text": [
      "/opt/conda/lib/python3.6/site-packages/numpy/core/fromnumeric.py:2957: RuntimeWarning: Mean of empty slice.\n",
      "  out=out, **kwargs)\n",
      "/opt/conda/lib/python3.6/site-packages/numpy/core/_methods.py:80: RuntimeWarning: invalid value encountered in double_scalars\n",
      "  ret = ret.dtype.type(ret / rcount)\n"
     ]
    },
    {
     "name": "stdout",
     "output_type": "stream",
     "text": [
      "saving weights_-16.0\n",
      " EPISODE: 19saving weights_-15.0\n",
      " EPISODE: 183"
     ]
    },
    {
     "name": "stderr",
     "output_type": "stream",
     "text": [
      "/opt/conda/lib/python3.6/site-packages/ipykernel_launcher.py:115: RuntimeWarning: invalid value encountered in less\n"
     ]
    },
    {
     "name": "stdout",
     "output_type": "stream",
     "text": [
      " EPISODE: 3050"
     ]
    },
    {
     "name": "stderr",
     "output_type": "stream",
     "text": [
      "IOPub message rate exceeded.\n",
      "The notebook server will temporarily stop sending output\n",
      "to the client in order to avoid crashing it.\n",
      "To change this limit, set the config variable\n",
      "`--NotebookApp.iopub_msg_rate_limit`.\n",
      "\n",
      "Current values:\n",
      "NotebookApp.iopub_msg_rate_limit=1000.0 (msgs/sec)\n",
      "NotebookApp.rate_limit_window=3.0 (secs)\n",
      "\n"
     ]
    },
    {
     "name": "stdout",
     "output_type": "stream",
     "text": [
      " EPISODE: 7149"
     ]
    }
   ],
   "source": [
    "agent = DQNAgent(frames=5)\n",
    "log_state4 = agent.train(15000)"
   ]
  },
  {
   "cell_type": "code",
   "execution_count": 6,
   "metadata": {},
   "outputs": [
    {
     "name": "stdout",
     "output_type": "stream",
     "text": [
      "0.2\n",
      "0.4\n",
      "0.6\n",
      "0.8\n",
      "1.0\n"
     ]
    }
   ],
   "source": [
    "print(np.max(log_state4[130][:,:,:,0]))\n",
    "print(np.max(log_state4[130][:,:,:,1]))\n",
    "print(np.max(log_state4[130][:,:,:,2]))\n",
    "print(np.max(log_state4[130][:,:,:,3]))\n",
    "print(np.max(log_state4[130][:,:,:,4]))\n",
    "\n",
    "# f = plt.figure(figsize=(15,15))\n",
    "# for i in range(5):\n",
    "#     ax = plt.subplot(1,5,i+1)\n",
    "#     ax.imshow(log_state4[130][-1,:,:,i])\n",
    "#     ax.set_title(np.max(log_state4[130][-1,:,:,i]))"
   ]
  },
  {
   "cell_type": "code",
   "execution_count": 16,
   "metadata": {},
   "outputs": [
    {
     "name": "stdout",
     "output_type": "stream",
     "text": [
      "[[0 0 0 ... 0 0 0]\n",
      " [0 0 0 ... 0 0 0]\n",
      " [0 0 0 ... 0 0 0]\n",
      " ...\n",
      " [0 0 0 ... 0 0 0]\n",
      " [0 0 0 ... 0 0 0]\n",
      " [0 0 0 ... 0 0 0]]\n"
     ]
    }
   ],
   "source": [
    "log_state4[130][0,:,:,0] = log_state4[130][0,:,:,0] * -1.0\n",
    "print(log_state4[130][0,:,:,0])"
   ]
  },
  {
   "cell_type": "code",
   "execution_count": 17,
   "metadata": {},
   "outputs": [
    {
     "name": "stdout",
     "output_type": "stream",
     "text": [
      "max 0\n"
     ]
    }
   ],
   "source": [
    "print('max', np.min(log_state4[130][:,:,:,0]))\n",
    "log_state4[130][:,:,:,0] = np.negative(log_state4[130][:,:,:,0])\n",
    "for i in range(80):\n",
    "    for j in range(80):\n",
    "        print(log_state4[130][0,i,j,0]) if not log_state4[130][0,i,j,0] == 0 else 'notzero'"
   ]
  },
  {
   "cell_type": "code",
   "execution_count": 92,
   "metadata": {},
   "outputs": [
    {
     "data": {
      "text/plain": [
       "dtype('uint8')"
      ]
     },
     "execution_count": 92,
     "metadata": {},
     "output_type": "execute_result"
    }
   ],
   "source": [
    "log_state4[130][:,:,:,0].dtype"
   ]
  },
  {
   "cell_type": "code",
   "execution_count": 94,
   "metadata": {},
   "outputs": [
    {
     "data": {
      "text/plain": [
       "array([  0, 255], dtype=uint8)"
      ]
     },
     "execution_count": 94,
     "metadata": {},
     "output_type": "execute_result"
    }
   ],
   "source": [
    "np.unique(log_state4[130][:,:,:,0])"
   ]
  },
  {
   "cell_type": "code",
   "execution_count": 7,
   "metadata": {},
   "outputs": [
    {
     "data": {
      "image/png": "[encoded data removed]",
      "text/plain": [
       "<Figure size 1080x1080 with 25 Axes>"
      ]
     },
     "metadata": {
      "needs_background": "light"
     },
     "output_type": "display_data"
    }
   ],
   "source": [
    "f = plt.figure(figsize=(15,15))\n",
    "for i in range(1,26):\n",
    "    a = log_state4[331+i][0,:,:,0] - log_state4[330+i][0,:,:,0]\n",
    "    ax = plt.subplot(5,5,i)\n",
    "    ax.imshow(a)\n",
    "    ax.set_title(i)\n",
    "    plt.tight_layout()"
   ]
  },
  {
   "cell_type": "code",
   "execution_count": 27,
   "metadata": {},
   "outputs": [
    {
     "name": "stdout",
     "output_type": "stream",
     "text": [
      "[[[[239]\n",
      "   [124]\n",
      "   [ 68]]\n",
      "\n",
      "  [[142]\n",
      "   [ 49]\n",
      "   [150]]\n",
      "\n",
      "  [[ 13]\n",
      "   [ 40]\n",
      "   [ 36]]]]\n",
      "[[[[191.2]\n",
      "   [ 99.2]\n",
      "   [ 54.4]]\n",
      "\n",
      "  [[113.6]\n",
      "   [ 39.2]\n",
      "   [120. ]]\n",
      "\n",
      "  [[ 10.4]\n",
      "   [ 32. ]\n",
      "   [ 28.8]]]]\n"
     ]
    }
   ],
   "source": [
    "a = np.random.randint(255,size=(1,3,3,1)).astype('uint8')\n",
    "print(a)\n",
    "a = a*0.8\n",
    "print(a)"
   ]
  },
  {
   "cell_type": "code",
   "execution_count": 41,
   "metadata": {},
   "outputs": [
    {
     "data": {
      "text/plain": [
       "30"
      ]
     },
     "execution_count": 41,
     "metadata": {},
     "output_type": "execute_result"
    }
   ],
   "source": [
    "for i in range(80):\n",
    "    for j in range(80):\n",
    "        a[0,i,j,0] = 0 if a[0,i,j,0]>30 else a[0,i,j,0]\n",
    "np.max(a)"
   ]
  },
  {
   "cell_type": "code",
   "execution_count": null,
   "metadata": {},
   "outputs": [],
   "source": []
  }
 ],
 "metadata": {
  "kernelspec": {
   "display_name": "Python 3",
   "language": "python",
   "name": "python3"
  },
  "language_info": {
   "codemirror_mode": {
    "name": "ipython",
    "version": 3
   },
   "file_extension": ".py",
   "mimetype": "text/x-python",
   "name": "python",
   "nbconvert_exporter": "python",
   "pygments_lexer": "ipython3",
   "version": "3.6.6"
  }
 },
 "nbformat": 4,
 "nbformat_minor": 2
}
