{
 "cells": [
  {
   "cell_type": "markdown",
   "metadata": {},
   "source": [
    "# Basic facts about Marginal and Joint distributions:\n",
    "![title](dist.png)\n",
    "- marginal distrubutions are obtained by summing the rows and columns of the joint distribution (**not** but multiplying the elements of the marginals!!). The marginals can be independent or dependent on each other, and if we multiply them, we cannot magically obtain information about their (in)dependence. If the table below, we see that V1 and V2 are dependent (if you get **red** in V1 there's a 0.4 chance getting **red** in V2).\n",
    "\n",
    "|      |      | V2   |V2    |      |\n",
    "|------|------|------|------|------|\n",
    "|      |      | RED  |BLUE  |**M2**|\n",
    "|**V1**| RED  | 0.4  | 0.1  | 0.5  |\n",
    "|**V1**| BLUE | 0.1  | 0.4  | 0.5  |\n",
    "|      |**M1**| 0.5  | 0.5  | 1.0  |\n",
    "\n",
    "But if you started from the marginals and tried to get the joint distribution from them, you'd lose dependence information:\n",
    "\n",
    "|      |      | V2   |V2    |      |\n",
    "|------|------|------|------|------|\n",
    "|      |      | RED  |BLUE  |**M2**|\n",
    "|**V1**| RED  | 0.25 | 0.25 | 0.5  |\n",
    "|**V1**| BLUE | 0.25 | 0.25 | 0.5  |\n",
    "|      |**M1**| 0.5  | 0.5  | 1.0  |\n",
    "\n",
    "- Both each marginal distribution and the joint distribution always sum to 1."
   ]
  },
  {
   "cell_type": "markdown",
   "metadata": {},
   "source": [
    "## The joint distribution for two **dependent** variables is given by:\n",
    "$$\n",
    "P(A,B) = P(A|B)P(B)\n",
    "$$\n",
    "\n",
    "which makes sense:  and $A$ takes on a particular distribution (which integrates to 1) only if B takes on a particular value $B=b$. If we want to build the joint distribution of $A$ and $B$ $P(A,B)$ we need to get joint probabilities over all possible combinations of values of $A$ and $B$. Another way to interpret the above expression is to say: if P(A,B) is a square matrix of size [A,B] and you want to know the joint probability of that that A=a and B=b you need to get one element at the intersection of a and b in this matrix. But what if you don't have this matrix, but only the curve for $P(A|B)$? You see what is the $P(A=a)$ and then multiply it by $P(B=b)$. In general, $P(B)$, $P(A)$, $P(A|B)$ are **curves or sets of numbers**, but $P(A=a)$, $P(B=b)$, $P(A=a, B=b)$ are the **values** of the probability evaluated for particular values of $a$ and/or $b$\n",
    "\n",
    "A special case here is when $A$ does not depend on $B$ at all. In that case $$P(A|B) = P(A)$$\n",
    "which, again, makes sense, and\n",
    "$$\n",
    "P(A,B) = P(A)P(B)\n",
    "$$"
   ]
  },
  {
   "cell_type": "code",
   "execution_count": null,
   "metadata": {},
   "outputs": [],
   "source": []
  }
 ],
 "metadata": {
  "kernelspec": {
   "display_name": "Python 3",
   "language": "python",
   "name": "python3"
  },
  "language_info": {
   "codemirror_mode": {
    "name": "ipython",
    "version": 3
   },
   "file_extension": ".py",
   "mimetype": "text/x-python",
   "name": "python",
   "nbconvert_exporter": "python",
   "pygments_lexer": "ipython3",
   "version": "3.7.3"
  }
 },
 "nbformat": 4,
 "nbformat_minor": 2
}
