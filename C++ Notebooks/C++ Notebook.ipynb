{
 "cells": [
  {
   "cell_type": "code",
   "execution_count": 1,
   "metadata": {},
   "outputs": [],
   "source": [
    "/* isnan example */\n",
    "#include <iostream>\n",
    "#include <math.h>       /* isnan, sqrt */\n",
    "#include \"/Users/romankoshkin/NRL/eigen-3.3.3/Eigen/Dense\"\n",
    "using namespace Eigen; // you must add this shit to every function in Jupyter\n",
    "using namespace std;\n"
   ]
  },
  {
   "cell_type": "code",
   "execution_count": 2,
   "metadata": {},
   "outputs": [],
   "source": [
    "Eigen::MatrixXd Foo(){\n",
    "    using namespace Eigen; // you must add this shit to every function in Jupyter\n",
    "    using namespace std;\n",
    "    MatrixXd m = MatrixXd::Random(3,3);\n",
    "    m = (m + MatrixXd::Constant(3,3,1.2)) * 50;\n",
    "    return m;\n",
    "}\n"
   ]
  },
  {
   "cell_type": "code",
   "execution_count": 3,
   "metadata": {},
   "outputs": [],
   "source": [
    "Eigen::MatrixXd asd(){\n",
    "    return Foo();\n",
    "}"
   ]
  },
  {
   "cell_type": "code",
   "execution_count": 4,
   "metadata": {},
   "outputs": [],
   "source": [
    "Eigen::MatrixXd aa = asd();\n",
    "Eigen::MatrixXd bb = asd();"
   ]
  },
  {
   "cell_type": "code",
   "execution_count": 5,
   "metadata": {},
   "outputs": [
    {
     "name": "stdout",
     "output_type": "stream",
     "text": [
      "48.3416\n",
      "75.3919"
     ]
    }
   ],
   "source": [
    "// by pointer\n",
    "std::cout << *(aa.data() + 2) << std::endl;\n",
    "std::cout << *(bb.data() + 2);"
   ]
  },
  {
   "cell_type": "code",
   "execution_count": 6,
   "metadata": {},
   "outputs": [
    {
     "name": "stdout",
     "output_type": "stream",
     "text": [
      "77.1149 16.6842 68.8977 \n",
      "10.7698 51.7486 103.044 \n",
      "48.3416 78.6773 94.6167 \n"
     ]
    }
   ],
   "source": [
    "using namespace std;\n",
    "for (int i=0; i<3; i++){\n",
    "    for (int j=0; j<3; j++){\n",
    "        cout << aa.coeff(i,j);\n",
    "        cout << ' ';\n",
    "    };\n",
    "    cout << endl;\n",
    "}\n"
   ]
  },
  {
   "cell_type": "code",
   "execution_count": 7,
   "metadata": {},
   "outputs": [
    {
     "name": "stdout",
     "output_type": "stream",
     "text": [
      "0 0 0 \n",
      "0 0 0 \n",
      "0 0 0 \n"
     ]
    }
   ],
   "source": [
    "using namespace std;\n",
    "for (int i=0; i<3; i++){\n",
    "    for (int j=0; j<3; j++){\n",
    "        cout << isnan(aa.coeff(i,j));\n",
    "        cout << ' ';\n",
    "    };\n",
    "    cout << endl;\n",
    "}"
   ]
  },
  {
   "cell_type": "code",
   "execution_count": 8,
   "metadata": {},
   "outputs": [
    {
     "data": {
      "text/plain": [
       "51.748597"
      ]
     },
     "execution_count": 8,
     "metadata": {},
     "output_type": "execute_result"
    }
   ],
   "source": [
    "aa(1,1)"
   ]
  },
  {
   "cell_type": "code",
   "execution_count": 9,
   "metadata": {},
   "outputs": [],
   "source": [
    "template <typename A, typename B>\n",
    "void check_nan(A _varname, B _m){\n",
    "    if (_m != _m){\n",
    "        std::cout << \"nan dectected in \" << _varname << std::endl;\n",
    "    }\n",
    "    // std::cout << _m.maxCoeff();\n",
    "}"
   ]
  },
  {
   "cell_type": "code",
   "execution_count": 10,
   "metadata": {},
   "outputs": [],
   "source": [
    "check_nan(\"W\", aa)"
   ]
  },
  {
   "cell_type": "code",
   "execution_count": null,
   "metadata": {},
   "outputs": [],
   "source": []
  },
  {
   "cell_type": "code",
   "execution_count": 11,
   "metadata": {},
   "outputs": [
    {
     "name": "stdout",
     "output_type": "stream",
     "text": [
      "77.1149 16.6842 68.8977\n",
      "10.7698     nan 103.044\n",
      "48.3416 78.6773 94.6167"
     ]
    }
   ],
   "source": [
    "aa(1,1) = sqrt(-1.0);\n",
    "std::cout << aa;"
   ]
  },
  {
   "cell_type": "code",
   "execution_count": 12,
   "metadata": {},
   "outputs": [
    {
     "name": "stdout",
     "output_type": "stream",
     "text": [
      "nan dectected in W\n"
     ]
    }
   ],
   "source": [
    "check_nan(\"W\", aa)"
   ]
  },
  {
   "cell_type": "code",
   "execution_count": 13,
   "metadata": {},
   "outputs": [],
   "source": [
    "check_nan(\"bb\", bb)"
   ]
  },
  {
   "cell_type": "code",
   "execution_count": 14,
   "metadata": {},
   "outputs": [
    {
     "name": "stdout",
     "output_type": "stream",
     "text": [
      "16.6842\n",
      "nan\n",
      "78.6773\n"
     ]
    }
   ],
   "source": [
    "for (int i=0; i < 3; i++){\n",
    "    std::cout << aa(i,1) << std::endl;\n",
    "}"
   ]
  },
  {
   "cell_type": "code",
   "execution_count": 15,
   "metadata": {},
   "outputs": [
    {
     "name": "stdout",
     "output_type": "stream",
     "text": [
      "77.1149 16.6842 68.8977\n",
      "10.7698     nan 103.044\n",
      "48.3416 78.6773 94.6167"
     ]
    }
   ],
   "source": [
    "cout << aa;"
   ]
  },
  {
   "cell_type": "code",
   "execution_count": 25,
   "metadata": {},
   "outputs": [
    {
     "name": "stderr",
     "output_type": "stream",
     "text": [
      "\u001b[1minput_line_41:2:8: \u001b[0m\u001b[0;1;31merror: \u001b[0m\u001b[1mexpected unqualified-id\u001b[0m\n",
      " (std::char) 1\n",
      "\u001b[0;1;32m       ^\n",
      "\u001b[0m"
     ]
    },
    {
     "ename": "Interpreter Error",
     "evalue": "",
     "output_type": "error",
     "traceback": [
      "Interpreter Error: "
     ]
    }
   ],
   "source": [
    "(std::char) 1"
   ]
  },
  {
   "cell_type": "code",
   "execution_count": 20,
   "metadata": {},
   "outputs": [
    {
     "name": "stderr",
     "output_type": "stream",
     "text": [
      "\u001b[1minput_line_34:2:14: \u001b[0m\u001b[0;1;31merror: \u001b[0m\u001b[1mredefinition of 'a' with a different type: 'std::string [5]' vs 'std::string'\n",
      "      (aka 'basic_string<char, char_traits<char>, allocator<char> >')\u001b[0m\n",
      " std::string a[5];\n",
      "\u001b[0;1;32m             ^\n",
      "\u001b[0m\u001b[1minput_line_10:2:14: \u001b[0m\u001b[0;1;30mnote: \u001b[0mprevious definition is here\u001b[0m\n",
      " std::string a;\n",
      "\u001b[0;1;32m             ^\n",
      "\u001b[0m"
     ]
    },
    {
     "ename": "Interpreter Error",
     "evalue": "",
     "output_type": "error",
     "traceback": [
      "Interpreter Error: "
     ]
    }
   ],
   "source": [
    "std::string a[5];"
   ]
  },
  {
   "cell_type": "code",
   "execution_count": 37,
   "metadata": {},
   "outputs": [
    {
     "name": "stderr",
     "output_type": "stream",
     "text": [
      "\u001b[1minput_line_59:2:26: \u001b[0m\u001b[0;1;31merror: \u001b[0m\u001b[1mcannot initialize an array element of type 'std::string *' (aka\n",
      "      'basic_string<char, char_traits<char>, allocator<char> > *') with an\n",
      "      lvalue of type 'const char [6]'\u001b[0m\n",
      " std::string* cars[4] = {\"Volvo\", \"BMW\", \"Ford\", \"Mazda\"};\n",
      "\u001b[0;1;32m                         ^~~~~~~\n",
      "\u001b[0m\u001b[1minput_line_59:2:35: \u001b[0m\u001b[0;1;31merror: \u001b[0m\u001b[1mcannot initialize an array element of type 'std::string *' (aka\n",
      "      'basic_string<char, char_traits<char>, allocator<char> > *') with an\n",
      "      lvalue of type 'const char [4]'\u001b[0m\n",
      " std::string* cars[4] = {\"Volvo\", \"BMW\", \"Ford\", \"Mazda\"};\n",
      "\u001b[0;1;32m                                  ^~~~~\n",
      "\u001b[0m\u001b[1minput_line_59:2:42: \u001b[0m\u001b[0;1;31merror: \u001b[0m\u001b[1mcannot initialize an array element of type 'std::string *' (aka\n",
      "      'basic_string<char, char_traits<char>, allocator<char> > *') with an\n",
      "      lvalue of type 'const char [5]'\u001b[0m\n",
      " std::string* cars[4] = {\"Volvo\", \"BMW\", \"Ford\", \"Mazda\"};\n",
      "\u001b[0;1;32m                                         ^~~~~~\n",
      "\u001b[0m\u001b[1minput_line_59:2:50: \u001b[0m\u001b[0;1;31merror: \u001b[0m\u001b[1mcannot initialize an array element of type 'std::string *' (aka\n",
      "      'basic_string<char, char_traits<char>, allocator<char> > *') with an\n",
      "      lvalue of type 'const char [6]'\u001b[0m\n",
      " std::string* cars[4] = {\"Volvo\", \"BMW\", \"Ford\", \"Mazda\"};\n",
      "\u001b[0;1;32m                                                 ^~~~~~~\n",
      "\u001b[0m"
     ]
    },
    {
     "ename": "Interpreter Error",
     "evalue": "",
     "output_type": "error",
     "traceback": [
      "Interpreter Error: "
     ]
    }
   ],
   "source": [
    "std::string* cars[4] = {\"Volvo\", \"BMW\", \"Ford\", \"Mazda\"};"
   ]
  },
  {
   "cell_type": "code",
   "execution_count": 34,
   "metadata": {},
   "outputs": [],
   "source": [
    "\n",
    "for (int i=0; i<4; i++){\n",
    "    cars[i] = std::to_string(i);\n",
    "}\n",
    "return 0;"
   ]
  },
  {
   "cell_type": "code",
   "execution_count": 36,
   "metadata": {},
   "outputs": [
    {
     "data": {
      "text/plain": [
       "@0x7ffeeb8a9920"
      ]
     },
     "execution_count": 36,
     "metadata": {},
     "output_type": "execute_result"
    }
   ],
   "source": [
    "&cars"
   ]
  },
  {
   "cell_type": "code",
   "execution_count": 38,
   "metadata": {},
   "outputs": [
    {
     "name": "stderr",
     "output_type": "stream",
     "text": [
      "\u001b[1minput_line_60:2:23: \u001b[0m\u001b[0;1;31merror: \u001b[0m\u001b[1mcannot initialize an array element of type 'std::string *' (aka\n",
      "      'basic_string<char, char_traits<char>, allocator<char> > *') with an\n",
      "      lvalue of type 'const char [6]'\u001b[0m\n",
      " std::string* c[4] = {\"Volvo\", \"BMW\", \"Ford\", \"Mazda\"};\n",
      "\u001b[0;1;32m                      ^~~~~~~\n",
      "\u001b[0m\u001b[1minput_line_60:2:32: \u001b[0m\u001b[0;1;31merror: \u001b[0m\u001b[1mcannot initialize an array element of type 'std::string *' (aka\n",
      "      'basic_string<char, char_traits<char>, allocator<char> > *') with an\n",
      "      lvalue of type 'const char [4]'\u001b[0m\n",
      " std::string* c[4] = {\"Volvo\", \"BMW\", \"Ford\", \"Mazda\"};\n",
      "\u001b[0;1;32m                               ^~~~~\n",
      "\u001b[0m\u001b[1minput_line_60:2:39: \u001b[0m\u001b[0;1;31merror: \u001b[0m\u001b[1mcannot initialize an array element of type 'std::string *' (aka\n",
      "      'basic_string<char, char_traits<char>, allocator<char> > *') with an\n",
      "      lvalue of type 'const char [5]'\u001b[0m\n",
      " std::string* c[4] = {\"Volvo\", \"BMW\", \"Ford\", \"Mazda\"};\n",
      "\u001b[0;1;32m                                      ^~~~~~\n",
      "\u001b[0m\u001b[1minput_line_60:2:47: \u001b[0m\u001b[0;1;31merror: \u001b[0m\u001b[1mcannot initialize an array element of type 'std::string *' (aka\n",
      "      'basic_string<char, char_traits<char>, allocator<char> > *') with an\n",
      "      lvalue of type 'const char [6]'\u001b[0m\n",
      " std::string* c[4] = {\"Volvo\", \"BMW\", \"Ford\", \"Mazda\"};\n",
      "\u001b[0;1;32m                                              ^~~~~~~\n",
      "\u001b[0m"
     ]
    },
    {
     "ename": "Interpreter Error",
     "evalue": "",
     "output_type": "error",
     "traceback": [
      "Interpreter Error: "
     ]
    }
   ],
   "source": [
    "std::string* c[4] = {\"Volvo\", \"BMW\", \"Ford\", \"Mazda\"};"
   ]
  },
  {
   "cell_type": "code",
   "execution_count": 39,
   "metadata": {},
   "outputs": [],
   "source": [
    "std::string* c[4];"
   ]
  },
  {
   "cell_type": "code",
   "execution_count": 5,
   "metadata": {},
   "outputs": [
    {
     "data": {
      "text/plain": [
       "{ \"\", \"\" }"
      ]
     },
     "execution_count": 5,
     "metadata": {},
     "output_type": "execute_result"
    }
   ],
   "source": [
    "food"
   ]
  },
  {
   "cell_type": "code",
   "execution_count": 3,
   "metadata": {},
   "outputs": [],
   "source": [
    "std::string food[2];"
   ]
  },
  {
   "cell_type": "code",
   "execution_count": 6,
   "metadata": {},
   "outputs": [],
   "source": [
    "for (int i=0; i<2; i++){\n",
    "    food[i] = 'a';\n",
    "}"
   ]
  },
  {
   "cell_type": "code",
   "execution_count": 9,
   "metadata": {},
   "outputs": [
    {
     "data": {
      "text/plain": [
       "{ \"a\", \"a\" }"
      ]
     },
     "execution_count": 9,
     "metadata": {},
     "output_type": "execute_result"
    }
   ],
   "source": [
    "*(&food)"
   ]
  },
  {
   "cell_type": "code",
   "execution_count": 3,
   "metadata": {},
   "outputs": [],
   "source": [
    "void myFunc3(int* food){\n",
    "    std::cout << *food << std::endl;\n",
    "}"
   ]
  },
  {
   "cell_type": "code",
   "execution_count": 4,
   "metadata": {},
   "outputs": [
    {
     "name": "stdout",
     "output_type": "stream",
     "text": [
      "3\n"
     ]
    }
   ],
   "source": [
    "int xxx = 3;\n",
    "myFunc3(&xxx);"
   ]
  },
  {
   "cell_type": "code",
   "execution_count": 7,
   "metadata": {},
   "outputs": [],
   "source": [
    "void myFunc4(std::string* food){\n",
    "    std::cout << *food << std::endl;\n",
    "}"
   ]
  },
  {
   "cell_type": "code",
   "execution_count": 9,
   "metadata": {},
   "outputs": [
    {
     "name": "stdout",
     "output_type": "stream",
     "text": [
      "asdf\n"
     ]
    }
   ],
   "source": [
    "std::string sss = \"asdf\";\n",
    "myFunc4(&sss)"
   ]
  },
  {
   "cell_type": "code",
   "execution_count": 6,
   "metadata": {},
   "outputs": [],
   "source": [
    "std::string n[3] = {\"asd\", \"dfsd\", \"qwer\"};"
   ]
  },
  {
   "cell_type": "code",
   "execution_count": 7,
   "metadata": {},
   "outputs": [
    {
     "data": {
      "text/plain": [
       "{ \"asd\", \"dfsd\", \"qwer\" }"
      ]
     },
     "execution_count": 7,
     "metadata": {},
     "output_type": "execute_result"
    }
   ],
   "source": [
    "n"
   ]
  },
  {
   "cell_type": "code",
   "execution_count": 8,
   "metadata": {},
   "outputs": [],
   "source": [
    "std::string* p;"
   ]
  },
  {
   "cell_type": "code",
   "execution_count": 9,
   "metadata": {},
   "outputs": [],
   "source": [
    "p = n;"
   ]
  },
  {
   "cell_type": "code",
   "execution_count": 10,
   "metadata": {},
   "outputs": [
    {
     "data": {
      "text/plain": [
       "@0x7ffee04ef920"
      ]
     },
     "execution_count": 10,
     "metadata": {},
     "output_type": "execute_result"
    }
   ],
   "source": [
    "p"
   ]
  },
  {
   "cell_type": "code",
   "execution_count": 11,
   "metadata": {},
   "outputs": [
    {
     "data": {
      "text/plain": [
       "{ \"asd\", \"dfsd\", \"qwer\" }"
      ]
     },
     "execution_count": 11,
     "metadata": {},
     "output_type": "execute_result"
    }
   ],
   "source": [
    "n"
   ]
  },
  {
   "cell_type": "code",
   "execution_count": 12,
   "metadata": {},
   "outputs": [
    {
     "data": {
      "text/plain": [
       "@0x7ffee04ef920"
      ]
     },
     "execution_count": 12,
     "metadata": {},
     "output_type": "execute_result"
    }
   ],
   "source": [
    "&p"
   ]
  },
  {
   "cell_type": "code",
   "execution_count": 13,
   "metadata": {},
   "outputs": [
    {
     "data": {
      "text/plain": [
       "@0x7ffee04ef920"
      ]
     },
     "execution_count": 13,
     "metadata": {},
     "output_type": "execute_result"
    }
   ],
   "source": [
    "p"
   ]
  },
  {
   "cell_type": "code",
   "execution_count": 14,
   "metadata": {},
   "outputs": [
    {
     "data": {
      "text/plain": [
       "{ \"asd\", \"dfsd\", \"qwer\" }"
      ]
     },
     "execution_count": 14,
     "metadata": {},
     "output_type": "execute_result"
    }
   ],
   "source": [
    "n"
   ]
  },
  {
   "cell_type": "code",
   "execution_count": 18,
   "metadata": {},
   "outputs": [
    {
     "data": {
      "text/plain": [
       "\"dfsd\""
      ]
     },
     "execution_count": 18,
     "metadata": {},
     "output_type": "execute_result"
    }
   ],
   "source": [
    "*(p + 1)"
   ]
  },
  {
   "cell_type": "code",
   "execution_count": 21,
   "metadata": {},
   "outputs": [
    {
     "name": "stderr",
     "output_type": "stream",
     "text": [
      "\u001b[1minput_line_40:2:6: \u001b[0m\u001b[0;1;31merror: \u001b[0m\u001b[1mexpected unqualified-id\u001b[0m\n",
      " *p->;\n",
      "\u001b[0;1;32m     ^\n",
      "\u001b[0m"
     ]
    },
    {
     "ename": "Interpreter Error",
     "evalue": "",
     "output_type": "error",
     "traceback": [
      "Interpreter Error: "
     ]
    }
   ],
   "source": [
    "*p->;"
   ]
  },
  {
   "cell_type": "code",
   "execution_count": 22,
   "metadata": {},
   "outputs": [],
   "source": [
    "std::string xx[2] = {\"a\", \"b\"}; "
   ]
  },
  {
   "cell_type": "code",
   "execution_count": 26,
   "metadata": {},
   "outputs": [
    {
     "name": "stderr",
     "output_type": "stream",
     "text": [
      "\u001b[1minput_line_46:2:6: \u001b[0m\u001b[0;1;31merror: \u001b[0m\u001b[1mcannot initialize a variable of type 'int' with an rvalue of type\n",
      "      'std::string (*)[2]'\u001b[0m\n",
      " int aa = &xx;\n",
      "\u001b[0;1;32m     ^    ~~~\n",
      "\u001b[0m"
     ]
    },
    {
     "ename": "Interpreter Error",
     "evalue": "",
     "output_type": "error",
     "traceback": [
      "Interpreter Error: "
     ]
    }
   ],
   "source": [
    "int aa = &xx;"
   ]
  },
  {
   "cell_type": "code",
   "execution_count": 31,
   "metadata": {},
   "outputs": [
    {
     "data": {
      "text/plain": [
       "@0x7ffee04ef920"
      ]
     },
     "execution_count": 31,
     "metadata": {},
     "output_type": "execute_result"
    }
   ],
   "source": [
    "&xx"
   ]
  },
  {
   "cell_type": "code",
   "execution_count": 36,
   "metadata": {},
   "outputs": [],
   "source": [
    "std::string *AA[2]"
   ]
  },
  {
   "cell_type": "code",
   "execution_count": 37,
   "metadata": {},
   "outputs": [
    {
     "data": {
      "text/plain": [
       "{ @0x7f96838a20d0, @0x7f96838a20d8 }"
      ]
     },
     "execution_count": 37,
     "metadata": {},
     "output_type": "execute_result"
    }
   ],
   "source": [
    "AA"
   ]
  },
  {
   "cell_type": "code",
   "execution_count": 39,
   "metadata": {},
   "outputs": [
    {
     "name": "stderr",
     "output_type": "stream",
     "text": [
      "\u001b[1minput_line_63:2:5: \u001b[0m\u001b[0;1;31merror: \u001b[0m\u001b[1marray type 'std::string *[2]' is not assignable\u001b[0m\n",
      " AA = &xx;\n",
      "\u001b[0;1;32m ~~ ^\n",
      "\u001b[0m"
     ]
    },
    {
     "ename": "Interpreter Error",
     "evalue": "",
     "output_type": "error",
     "traceback": [
      "Interpreter Error: "
     ]
    }
   ],
   "source": [
    "AA = &xx;"
   ]
  },
  {
   "cell_type": "code",
   "execution_count": 41,
   "metadata": {},
   "outputs": [],
   "source": [
    "std::string* bb = xx;"
   ]
  },
  {
   "cell_type": "code",
   "execution_count": 58,
   "metadata": {},
   "outputs": [],
   "source": [
    "for (int i=0; i<5; i++){\n",
    "    std::cout << i << \" \" << std::endl;\n",
    "}\n"
   ]
  },
  {
   "cell_type": "code",
   "execution_count": 59,
   "metadata": {},
   "outputs": [
    {
     "data": {
      "text/plain": [
       "\"b\""
      ]
     },
     "execution_count": 59,
     "metadata": {},
     "output_type": "execute_result"
    }
   ],
   "source": [
    "*(bb+1)"
   ]
  },
  {
   "cell_type": "code",
   "execution_count": 60,
   "metadata": {},
   "outputs": [],
   "source": [
    "for (int i=0; i<5; i++){\n",
    "    std::cout << i << \" \" << std::endl;\n",
    "}\n"
   ]
  },
  {
   "cell_type": "code",
   "execution_count": null,
   "metadata": {},
   "outputs": [],
   "source": []
  }
 ],
 "metadata": {
  "kernelspec": {
   "display_name": "C++14",
   "language": "C++14",
   "name": "xcpp14"
  },
  "language_info": {
   "codemirror_mode": "text/x-c++src",
   "file_extension": ".cpp",
   "mimetype": "text/x-c++src",
   "name": "c++",
   "version": "14"
  }
 },
 "nbformat": 4,
 "nbformat_minor": 4
}
