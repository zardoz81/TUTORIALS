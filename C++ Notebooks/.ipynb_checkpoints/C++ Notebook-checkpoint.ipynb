{
 "cells": [
  {
   "cell_type": "code",
   "execution_count": 1,
   "metadata": {},
   "outputs": [],
   "source": [
    "/* isnan example */\n",
    "#include <iostream>\n",
    "#include <math.h>       /* isnan, sqrt */\n",
    "#include \"/Users/romankoshkin/NRL/eigen-3.3.3/Eigen/Dense\"\n",
    "using namespace Eigen; // you must add this shit to every function in Jupyter\n",
    "using namespace std;\n"
   ]
  },
  {
   "cell_type": "code",
   "execution_count": 2,
   "metadata": {},
   "outputs": [],
   "source": [
    "Eigen::MatrixXd Foo(){\n",
    "    using namespace Eigen; // you must add this shit to every function in Jupyter\n",
    "    using namespace std;\n",
    "    MatrixXd m = MatrixXd::Random(3,3);\n",
    "    m = (m + MatrixXd::Constant(3,3,1.2)) * 50;\n",
    "    return m;\n",
    "}\n"
   ]
  },
  {
   "cell_type": "code",
   "execution_count": 3,
   "metadata": {},
   "outputs": [],
   "source": [
    "Eigen::MatrixXd asd(){\n",
    "    return Foo();\n",
    "}"
   ]
  },
  {
   "cell_type": "code",
   "execution_count": 4,
   "metadata": {},
   "outputs": [],
   "source": [
    "Eigen::MatrixXd aa = asd();\n",
    "Eigen::MatrixXd bb = asd();"
   ]
  },
  {
   "cell_type": "code",
   "execution_count": 5,
   "metadata": {},
   "outputs": [
    {
     "name": "stdout",
     "output_type": "stream",
     "text": [
      "48.3416\n",
      "75.3919"
     ]
    }
   ],
   "source": [
    "// by pointer\n",
    "std::cout << *(aa.data() + 2) << std::endl;\n",
    "std::cout << *(bb.data() + 2);"
   ]
  },
  {
   "cell_type": "code",
   "execution_count": 6,
   "metadata": {},
   "outputs": [
    {
     "name": "stdout",
     "output_type": "stream",
     "text": [
      "77.1149 16.6842 68.8977 \n",
      "10.7698 51.7486 103.044 \n",
      "48.3416 78.6773 94.6167 \n"
     ]
    }
   ],
   "source": [
    "using namespace std;\n",
    "for (int i=0; i<3; i++){\n",
    "    for (int j=0; j<3; j++){\n",
    "        cout << aa.coeff(i,j);\n",
    "        cout << ' ';\n",
    "    };\n",
    "    cout << endl;\n",
    "}\n"
   ]
  },
  {
   "cell_type": "code",
   "execution_count": 7,
   "metadata": {},
   "outputs": [
    {
     "name": "stdout",
     "output_type": "stream",
     "text": [
      "0 0 0 \n",
      "0 0 0 \n",
      "0 0 0 \n"
     ]
    }
   ],
   "source": [
    "using namespace std;\n",
    "for (int i=0; i<3; i++){\n",
    "    for (int j=0; j<3; j++){\n",
    "        cout << isnan(aa.coeff(i,j));\n",
    "        cout << ' ';\n",
    "    };\n",
    "    cout << endl;\n",
    "}"
   ]
  },
  {
   "cell_type": "code",
   "execution_count": 8,
   "metadata": {},
   "outputs": [
    {
     "data": {
      "text/plain": [
       "51.748597"
      ]
     },
     "execution_count": 8,
     "metadata": {},
     "output_type": "execute_result"
    }
   ],
   "source": [
    "aa(1,1)"
   ]
  },
  {
   "cell_type": "code",
   "execution_count": 9,
   "metadata": {},
   "outputs": [],
   "source": [
    "template <typename A, typename B>\n",
    "void check_nan(A _varname, B _m){\n",
    "    if (_m != _m){\n",
    "        std::cout << \"nan dectected in \" << _varname << std::endl;\n",
    "    }\n",
    "    // std::cout << _m.maxCoeff();\n",
    "}"
   ]
  },
  {
   "cell_type": "code",
   "execution_count": 10,
   "metadata": {},
   "outputs": [],
   "source": [
    "check_nan(\"W\", aa)"
   ]
  },
  {
   "cell_type": "code",
   "execution_count": null,
   "metadata": {},
   "outputs": [],
   "source": []
  },
  {
   "cell_type": "code",
   "execution_count": 11,
   "metadata": {},
   "outputs": [
    {
     "name": "stdout",
     "output_type": "stream",
     "text": [
      "77.1149 16.6842 68.8977\n",
      "10.7698     nan 103.044\n",
      "48.3416 78.6773 94.6167"
     ]
    }
   ],
   "source": [
    "aa(1,1) = sqrt(-1.0);\n",
    "std::cout << aa;"
   ]
  },
  {
   "cell_type": "code",
   "execution_count": 12,
   "metadata": {},
   "outputs": [
    {
     "name": "stdout",
     "output_type": "stream",
     "text": [
      "nan dectected in W\n"
     ]
    }
   ],
   "source": [
    "check_nan(\"W\", aa)"
   ]
  },
  {
   "cell_type": "code",
   "execution_count": 13,
   "metadata": {},
   "outputs": [],
   "source": [
    "check_nan(\"bb\", bb)"
   ]
  },
  {
   "cell_type": "code",
   "execution_count": 14,
   "metadata": {},
   "outputs": [
    {
     "name": "stdout",
     "output_type": "stream",
     "text": [
      "16.6842\n",
      "nan\n",
      "78.6773\n"
     ]
    }
   ],
   "source": [
    "for (int i=0; i < 3; i++){\n",
    "    std::cout << aa(i,1) << std::endl;\n",
    "}"
   ]
  },
  {
   "cell_type": "code",
   "execution_count": 15,
   "metadata": {},
   "outputs": [
    {
     "name": "stdout",
     "output_type": "stream",
     "text": [
      "77.1149 16.6842 68.8977\n",
      "10.7698     nan 103.044\n",
      "48.3416 78.6773 94.6167"
     ]
    }
   ],
   "source": [
    "cout << aa;"
   ]
  },
  {
   "cell_type": "code",
   "execution_count": null,
   "metadata": {},
   "outputs": [],
   "source": []
  },
  {
   "cell_type": "code",
   "execution_count": null,
   "metadata": {},
   "outputs": [],
   "source": []
  }
 ],
 "metadata": {
  "kernelspec": {
   "display_name": "C++14",
   "language": "C++14",
   "name": "xcpp14"
  },
  "language_info": {
   "codemirror_mode": "text/x-c++src",
   "file_extension": ".cpp",
   "mimetype": "text/x-c++src",
   "name": "c++",
   "version": "14"
  }
 },
 "nbformat": 4,
 "nbformat_minor": 4
}
