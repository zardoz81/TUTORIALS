{
 "cells": [
  {
   "cell_type": "code",
   "execution_count": null,
   "metadata": {},
   "outputs": [],
   "source": [
    "#include \"xplot/xfigure.hpp\"\n",
    "#include \"xplot/xmarks.hpp\"\n",
    "#include \"xplot/xaxes.hpp\""
   ]
  },
  {
   "cell_type": "markdown",
   "metadata": {},
   "source": [
    "## Basic Map ##"
   ]
  },
  {
   "cell_type": "code",
   "execution_count": null,
   "metadata": {},
   "outputs": [],
   "source": [
    "xpl::mercator sc_geo;"
   ]
  },
  {
   "cell_type": "code",
   "execution_count": null,
   "metadata": {},
   "outputs": [],
   "source": [
    "xpl::map map(sc_geo);"
   ]
  },
  {
   "cell_type": "code",
   "execution_count": null,
   "metadata": {},
   "outputs": [],
   "source": [
    "xpl::figure fig1;\n",
    "fig1.add_mark(map);\n",
    "fig1.title = \"Basic Map Example\";\n",
    "fig1"
   ]
  },
  {
   "cell_type": "markdown",
   "metadata": {},
   "source": [
    "## Advanced Map and Projection ##"
   ]
  },
  {
   "cell_type": "code",
   "execution_count": null,
   "metadata": {},
   "outputs": [],
   "source": [
    "auto sc_geo_a = xpl::orthographic::initialize()\n",
    "    .scale_factor(375)\n",
    "    .center(std::vector<double>{0, 25})\n",
    "    .rotate(std::vector<double>{-50, 0})\n",
    "    .finalize();"
   ]
  },
  {
   "cell_type": "code",
   "execution_count": null,
   "metadata": {},
   "outputs": [],
   "source": [
    "std::string colors = R\"(\n",
    "{\n",
    "    \"682\": \"Green\",\n",
    "    \"356\": \"Red\",\n",
    "    \"643\": \"#0000ff\",\n",
    "    \"default_color\": \"DarkOrange\"\n",
    "})\";"
   ]
  },
  {
   "cell_type": "code",
   "execution_count": null,
   "metadata": {},
   "outputs": [],
   "source": [
    "auto map_a = xpl::map::initialize(sc_geo_a)\n",
    "            .colors(::xeus::xjson::parse(colors))\n",
    "            .finalize();"
   ]
  },
  {
   "cell_type": "code",
   "execution_count": null,
   "metadata": {},
   "outputs": [],
   "source": [
    "xpl::figure fig2;\n",
    "fig2.add_mark(map_a);\n",
    "fig2.title = \"Advanced Map Example\";\n",
    "fig2"
   ]
  },
  {
   "cell_type": "code",
   "execution_count": null,
   "metadata": {},
   "outputs": [],
   "source": [
    "sc_geo_a.scale_factor = 350;"
   ]
  },
  {
   "cell_type": "markdown",
   "metadata": {},
   "source": [
    "## Choropleth ##"
   ]
  },
  {
   "cell_type": "code",
   "execution_count": null,
   "metadata": {},
   "outputs": [],
   "source": [
    "xpl::mercator sc_geo_c;\n",
    "xpl::color_scale sc_c1;\n",
    "sc_c1.scheme = \"YlOrRd\";"
   ]
  },
  {
   "cell_type": "code",
   "execution_count": null,
   "metadata": {},
   "outputs": [],
   "source": [
    "std::string color_c = R\"(\n",
    "{\n",
    "    \"643\": \"105.\", \n",
    "      \"4\":  \"21.\",\n",
    "    \"398\":  \"23.\",\n",
    "    \"156\":  \"42.\",\n",
    "    \"124\":  \"78.\", \n",
    "     \"76\":  \"98.\"\n",
    "}\n",
    ")\";\n",
    "\n",
    "std::string colors_c = R\"(\n",
    "{\n",
    "    \"default_color\": \"Grey\"\n",
    "}\n",
    ")\";"
   ]
  },
  {
   "cell_type": "code",
   "execution_count": null,
   "metadata": {},
   "outputs": [],
   "source": [
    "auto map_c = xpl::map::initialize(sc_geo_c, sc_c1)\n",
    "            .color(::xeus::xjson::parse(color_c))\n",
    "            .colors(::xeus::xjson::parse(colors_c))\n",
    "            .finalize();"
   ]
  },
  {
   "cell_type": "code",
   "execution_count": null,
   "metadata": {},
   "outputs": [],
   "source": [
    "xpl::figure fig3;\n",
    "fig3.add_mark(map_c);\n",
    "fig3.title = \"Choropleth Example\";\n",
    "fig3"
   ]
  },
  {
   "cell_type": "markdown",
   "metadata": {},
   "source": [
    "## USA State Map ##"
   ]
  },
  {
   "cell_type": "code",
   "execution_count": null,
   "metadata": {},
   "outputs": [],
   "source": [
    "xpl::albers_usa sc_geo_usa;\n",
    "xpl::map map_usa(xpl::topo_load(\"USStatesMap.json\"), sc_geo_usa);"
   ]
  },
  {
   "cell_type": "code",
   "execution_count": null,
   "metadata": {},
   "outputs": [],
   "source": [
    "xpl::figure fig4;\n",
    "fig4.add_mark(map_usa);\n",
    "fig4.title = \"US States Map Example\";\n",
    "fig4"
   ]
  },
  {
   "cell_type": "markdown",
   "metadata": {},
   "source": [
    "## Europe Country Map"
   ]
  },
  {
   "cell_type": "code",
   "execution_count": null,
   "metadata": {},
   "outputs": [],
   "source": [
    "xpl::mercator sc_geo_euro;\n",
    "sc_geo_euro.scale_factor = 450;\n",
    "xpl::map map_euro(xpl::topo_load(\"EuropeMap.json\"), sc_geo_euro);"
   ]
  },
  {
   "cell_type": "code",
   "execution_count": null,
   "metadata": {},
   "outputs": [],
   "source": [
    "xpl::figure fig5;\n",
    "fig5.add_mark(map_euro);\n",
    "fig5.title = \"Europe States Map Example\";\n",
    "fig5"
   ]
  },
  {
   "cell_type": "markdown",
   "metadata": {},
   "source": [
    "## Interactions ##"
   ]
  },
  {
   "cell_type": "code",
   "execution_count": null,
   "metadata": {},
   "outputs": [],
   "source": [
    "// TODO"
   ]
  }
 ],
 "metadata": {
  "kernelspec": {
   "display_name": "C++14",
   "language": "C++14",
   "name": "xcpp14"
  },
  "language_info": {
   "codemirror_mode": "text/x-c++src",
   "file_extension": ".cpp",
   "mimetype": "text/x-c++src",
   "name": "c++",
   "version": "-std=c++14"
  }
 },
 "nbformat": 4,
 "nbformat_minor": 4
}
