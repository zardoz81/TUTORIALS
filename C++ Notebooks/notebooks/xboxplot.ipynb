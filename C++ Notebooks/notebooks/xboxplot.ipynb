{
 "cells": [
  {
   "cell_type": "code",
   "execution_count": null,
   "metadata": {
    "input_collapsed": false
   },
   "outputs": [],
   "source": [
    "#include \"xplot/xfigure.hpp\"\n",
    "#include \"xplot/xmarks.hpp\"\n",
    "#include \"xplot/xaxes.hpp\""
   ]
  },
  {
   "cell_type": "code",
   "execution_count": null,
   "metadata": {
    "input_collapsed": false
   },
   "outputs": [],
   "source": [
    "std::vector<double> x_data{1, 2, 3, 4, 5, 6, 7};\n",
    "\n",
    "std::vector<std::vector<double>> y_data = {\n",
    "    {160.10, 162.34, 161.82, 162.24, 161.44, 158.51, 157.68, 151.93, 151.41, 153.06, 155.38, 161.07, 160.51, 162.99, 161.86, 163.27, 164.05, 164.52, 162.67},\n",
    "    {161.54, 162.17, 161.95, 161.76, 162.15, 160.92, 160.64, 161.43, 161.89, 164.16, 164.16, 162.79, 161.92, 163.30, 163.49, 162.07, 161.46, 161.82, 162.65},\n",
    "    {164.40, 164.35, 163.46, 163.60, 161.87, 162.08, 162.18, 161.79, 163.23, 169.10, 182.05, 179.84, 181.75, 183.80, 183.52, 185.93, 186.42, 189.36, 185.71},\n",
    "    {188.67, 186.91, 187.17, 189.83, 189.64, 190.06, 189.01, 192.31, 191.62, 193.11, 194.00, 193.75, 192.80, 192.96, 191.81, 191.28, 191.72, 191.20, 190.68},\n",
    "    {191.95, 191.56, 192.30, 192.00, 192.25, 192.99, 191.16, 190.41, 191.23, 190.10, 190.07, 189.36, 187.38, 187.88, 191.81, 191.28, 191.72, 189.99, 190.14},\n",
    "    {187.95, 187.34, 187.47, 186.63, 184.30, 185.97, 187.10, 189.64, 189.15, 191.67, 194.00, 194.57, 195.78, 194.40, 195.24, 193.63,  190.85, 192.5, 192.49},\n",
    "    {192.36, 188.49, 189.86, 188.00, 187.70, 188.42, 187.22, 188.04, 188.53, 188.39, 186.35, 181.27, 181.71, 180.37, 180.72, 180.88, 182.14, 181.55, 182.82}\n",
    "};"
   ]
  },
  {
   "cell_type": "code",
   "execution_count": null,
   "metadata": {},
   "outputs": [],
   "source": [
    "xpl::linear_scale xs, ys;"
   ]
  },
  {
   "cell_type": "code",
   "execution_count": null,
   "metadata": {},
   "outputs": [],
   "source": [
    "auto boxplot = xpl::boxplot::initialize(xs, ys)\n",
    "    .x(x_data)\n",
    "    .y(y_data)\n",
    "    .box_fill_color(\"gray\")\n",
    "    .outlier_fill_color(\"black\")\n",
    "    .finalize();"
   ]
  },
  {
   "cell_type": "code",
   "execution_count": null,
   "metadata": {},
   "outputs": [],
   "source": [
    "xpl::axis hx(xs);\n",
    "hx.label = \"X\";"
   ]
  },
  {
   "cell_type": "code",
   "execution_count": null,
   "metadata": {},
   "outputs": [],
   "source": [
    "auto hy = xpl::axis::initialize(ys)\n",
    "    .label(\"Y\")\n",
    "    .orientation(\"vertical\")\n",
    "    .tick_format(\"0.1f\")\n",
    "    .finalize();"
   ]
  },
  {
   "cell_type": "code",
   "execution_count": null,
   "metadata": {},
   "outputs": [],
   "source": [
    "xpl::figure fig;\n",
    "fig.add_mark(boxplot);\n",
    "fig.add_axis(hx);\n",
    "fig.add_axis(hy);\n",
    "fig"
   ]
  },
  {
   "cell_type": "code",
   "execution_count": null,
   "metadata": {},
   "outputs": [],
   "source": [
    "boxplot.stroke = \"red\";\n",
    "boxplot.box_fill_color = \"blue\";\n",
    "boxplot.outlier_fill_color = \"red\";"
   ]
  },
  {
   "cell_type": "code",
   "execution_count": null,
   "metadata": {},
   "outputs": [],
   "source": [
    "boxplot.opacities = std::vector<double>{0.1, 0.2};"
   ]
  }
 ],
 "metadata": {
  "anaconda-cloud": {},
  "kernelspec": {
   "display_name": "C++14",
   "language": "C++14",
   "name": "xcpp14"
  },
  "language_info": {
   "codemirror_mode": "text/x-c++src",
   "file_extension": ".cpp",
   "mimetype": "text/x-c++src",
   "name": "c++",
   "version": "-std=c++14"
  },
  "widgets": {
   "application/vnd.jupyter.widget-state+json": {
    "state": {
     "10901f6ce5f04645bcb82ffa628a4baf": {
      "model_module": "bqplot",
      "model_module_version": "^0.2.3",
      "model_name": "AxisModel",
      "state": {
       "label": "X",
       "scale": "IPY_MODEL_55138ef4947c4b90b6e4debb9d92fc33",
       "side": "bottom",
       "tick_values": {
        "type": null,
        "values": null
       }
      }
     },
     "55138ef4947c4b90b6e4debb9d92fc33": {
      "model_module": "bqplot",
      "model_module_version": "^0.2.3",
      "model_name": "LinearScaleModel",
      "state": {
       "stabilized": false
      }
     },
     "612a09a1d342458cbfdb094ea1d8211b": {
      "model_module": "bqplot",
      "model_module_version": "^0.2.3",
      "model_name": "FigureModel",
      "state": {
       "_dom_classes": [],
       "axes": [
        "IPY_MODEL_10901f6ce5f04645bcb82ffa628a4baf",
        "IPY_MODEL_80f3082f8d0048d882008ff3dcbc2b09"
       ],
       "layout": "IPY_MODEL_b11541f970524334aa238e64102131a8",
       "marks": [
        "IPY_MODEL_7363243883c84738abcfd22a43d26f6d"
       ],
       "max_aspect_ratio": 6,
       "scale_x": "IPY_MODEL_d2f58b5838bd4a1ea699cc86cf94e599",
       "scale_y": "IPY_MODEL_f350c5a63c2b4023ac037f470ecb8f73"
      }
     },
     "7363243883c84738abcfd22a43d26f6d": {
      "model_module": "bqplot",
      "model_module_version": "^0.2.3",
      "model_name": "BoxplotModel",
      "state": {
       "box_fill_color": "blue",
       "display_legend": false,
       "opacities": [
        0.1,
        0.2
       ],
       "outlier_fill_color": "red",
       "scales": {
        "x": "IPY_MODEL_55138ef4947c4b90b6e4debb9d92fc33",
        "y": "IPY_MODEL_8d954a0d53e84492aaf7b32d4543bb1e"
       },
       "selected": [],
       "stroke": "red",
       "x": {
        "type": "float",
        "values": [
         1,
         2,
         3,
         4,
         5,
         6,
         7
        ]
       },
       "y": {
        "type": "float",
        "values": [
         [
          151.41,
          151.93,
          153.06,
          155.38,
          157.68,
          158.51,
          160.1,
          160.51,
          161.07,
          161.44,
          161.82,
          161.86,
          162.24,
          162.34,
          162.67,
          162.99,
          163.27,
          164.05,
          164.52
         ],
         [
          160.64,
          160.92,
          161.43,
          161.46,
          161.54,
          161.76,
          161.82,
          161.89,
          161.92,
          161.95,
          162.07,
          162.15,
          162.17,
          162.65,
          162.79,
          163.3,
          163.49,
          164.16,
          164.16
         ],
         [
          161.79,
          161.87,
          162.08,
          162.18,
          163.23,
          163.46,
          163.6,
          164.35,
          164.4,
          169.1,
          179.84,
          181.75,
          182.05,
          183.52,
          183.8,
          185.71,
          185.93,
          186.42,
          189.36
         ],
         [
          186.91,
          187.17,
          188.67,
          189.01,
          189.64,
          189.83,
          190.06,
          190.68,
          191.2,
          191.28,
          191.62,
          191.72,
          191.81,
          192.31,
          192.8,
          192.96,
          193.11,
          193.75,
          194
         ],
         [
          187.38,
          187.88,
          189.36,
          189.99,
          190.07,
          190.1,
          190.14,
          190.41,
          191.16,
          191.23,
          191.28,
          191.56,
          191.72,
          191.81,
          191.95,
          192,
          192.25,
          192.3,
          192.99
         ],
         [
          184.3,
          185.97,
          186.63,
          187.1,
          187.34,
          187.47,
          187.95,
          189.15,
          189.64,
          190.85,
          191.67,
          192.49,
          192.5,
          193.63,
          194,
          194.4,
          194.57,
          195.24,
          195.78
         ],
         [
          180.37,
          180.72,
          180.88,
          181.27,
          181.55,
          181.71,
          182.14,
          182.82,
          186.35,
          187.22,
          187.7,
          188,
          188.04,
          188.39,
          188.42,
          188.49,
          188.53,
          189.86,
          192.36
         ]
        ]
       }
      }
     },
     "80f3082f8d0048d882008ff3dcbc2b09": {
      "model_module": "bqplot",
      "model_module_version": "^0.2.3",
      "model_name": "AxisModel",
      "state": {
       "label": "Y",
       "orientation": "vertical",
       "scale": "IPY_MODEL_8d954a0d53e84492aaf7b32d4543bb1e",
       "side": "left",
       "tick_format": "0.1f",
       "tick_values": {
        "type": null,
        "values": null
       }
      }
     },
     "8d954a0d53e84492aaf7b32d4543bb1e": {
      "model_module": "bqplot",
      "model_module_version": "^0.2.3",
      "model_name": "LinearScaleModel",
      "state": {
       "stabilized": false
      }
     },
     "b11541f970524334aa238e64102131a8": {
      "model_module": "jupyter-js-widgets",
      "model_module_version": "~2.1.4",
      "model_name": "LayoutModel",
      "state": {
       "_model_module_version": "~2.1.4",
       "_view_module_version": "~2.1.4",
       "min_width": "125px"
      }
     },
     "d2f58b5838bd4a1ea699cc86cf94e599": {
      "model_module": "bqplot",
      "model_module_version": "^0.2.3",
      "model_name": "LinearScaleModel",
      "state": {
       "allow_padding": false,
       "max": 1,
       "min": 0,
       "stabilized": false
      }
     },
     "f350c5a63c2b4023ac037f470ecb8f73": {
      "model_module": "bqplot",
      "model_module_version": "^0.2.3",
      "model_name": "LinearScaleModel",
      "state": {
       "allow_padding": false,
       "max": 1,
       "min": 0,
       "stabilized": false
      }
     }
    },
    "version_major": 1,
    "version_minor": 0
   }
  }
 },
 "nbformat": 4,
 "nbformat_minor": 4
}
