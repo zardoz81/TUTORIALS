{
 "cells": [
  {
   "cell_type": "code",
   "execution_count": null,
   "metadata": {},
   "outputs": [],
   "source": [
    "#include \"random.hpp\"\n",
    "#include \"xplot/xfigure.hpp\"\n",
    "#include \"xplot/xmarks.hpp\"\n",
    "#include \"xplot/xaxes.hpp\""
   ]
  },
  {
   "cell_type": "markdown",
   "metadata": {},
   "source": [
    "## Basic Heat map"
   ]
  },
  {
   "cell_type": "code",
   "execution_count": null,
   "metadata": {},
   "outputs": [],
   "source": [
    "auto data = randn(10, 15);"
   ]
  },
  {
   "cell_type": "code",
   "execution_count": null,
   "metadata": {},
   "outputs": [],
   "source": [
    "xpl::linear_scale xs, ys;\n",
    "xpl::color_scale cs;"
   ]
  },
  {
   "cell_type": "code",
   "execution_count": null,
   "metadata": {},
   "outputs": [],
   "source": [
    "xpl::grid_heat_map grid_map(data, xs, ys, cs);"
   ]
  },
  {
   "cell_type": "code",
   "execution_count": null,
   "metadata": {},
   "outputs": [],
   "source": [
    "xpl::figure fig1;\n",
    "fig1.add_mark(grid_map);\n",
    "fig1.padding_y = 0.;\n",
    "fig1"
   ]
  },
  {
   "cell_type": "markdown",
   "metadata": {},
   "source": [
    "## Heat map with axes"
   ]
  },
  {
   "cell_type": "code",
   "execution_count": null,
   "metadata": {},
   "outputs": [],
   "source": [
    "auto ys_r = ys;\n",
    "ys_r.reverse = true;"
   ]
  },
  {
   "cell_type": "code",
   "execution_count": null,
   "metadata": {},
   "outputs": [],
   "source": [
    "xpl::axis ax_x(xs), ax_y(ys_r);\n",
    "ax_y.orientation = \"vertical\";"
   ]
  },
  {
   "cell_type": "code",
   "execution_count": null,
   "metadata": {},
   "outputs": [],
   "source": [
    "xpl::grid_heat_map grid_map_r(data, xs, ys_r, cs);"
   ]
  },
  {
   "cell_type": "code",
   "execution_count": null,
   "metadata": {},
   "outputs": [],
   "source": [
    "xpl::figure fig2;\n",
    "fig2.add_mark(grid_map_r);\n",
    "fig2.add_axis(ax_x);\n",
    "fig2.add_axis(ax_y);\n",
    "fig2.padding_y = 0.;\n",
    "fig2"
   ]
  },
  {
   "cell_type": "markdown",
   "metadata": {},
   "source": [
    "## Non Uniform Heat map"
   ]
  },
  {
   "cell_type": "code",
   "execution_count": null,
   "metadata": {},
   "outputs": [],
   "source": [
    "auto data_s = randn(10, 10);"
   ]
  },
  {
   "cell_type": "code",
   "execution_count": null,
   "metadata": {},
   "outputs": [],
   "source": [
    "xpl::linear_scale xs_nu, ys_nu;\n",
    "ys_nu.reverse = true;\n",
    "xpl::color_scale cs_nu;"
   ]
  },
  {
   "cell_type": "code",
   "execution_count": null,
   "metadata": {},
   "outputs": [],
   "source": [
    "xpl::axis ax_x_nu(xs_nu), ax_y_nu(ys_nu);\n",
    "ax_y_nu.orientation = \"vertical\";"
   ]
  },
  {
   "cell_type": "code",
   "execution_count": null,
   "metadata": {},
   "outputs": [],
   "source": [
    "std::vector<double> row_data{0, 1, 2, 3, 4, 6, 7, 8, 9, 10};\n",
    "std::vector<double> column_data{10, 11, 12, 13, 14, 15, 16, 17, 18, 19};"
   ]
  },
  {
   "cell_type": "code",
   "execution_count": null,
   "metadata": {},
   "outputs": [],
   "source": [
    "xpl::grid_heat_map grid_map_nu(row_data, column_data, data_s, xs_nu, ys_nu, cs_nu);"
   ]
  },
  {
   "cell_type": "code",
   "execution_count": null,
   "metadata": {},
   "outputs": [],
   "source": [
    "xpl::figure fig3;\n",
    "fig3.add_mark(grid_map_nu);\n",
    "fig3.add_axis(ax_x_nu);\n",
    "fig3.add_axis(ax_y_nu);\n",
    "fig3.padding_y = 0.;\n",
    "fig3"
   ]
  },
  {
   "cell_type": "markdown",
   "metadata": {},
   "source": [
    "## Alignment of the data with respect to the grid"
   ]
  },
  {
   "cell_type": "markdown",
   "metadata": {},
   "source": [
    "For a `N-by-N` matrix, `N+1` points along the row or the column are assumed to be end points."
   ]
  },
  {
   "cell_type": "code",
   "execution_count": null,
   "metadata": {},
   "outputs": [],
   "source": [
    "xpl::linear_scale xs_a, ys_a;\n",
    "xpl::color_scale cs_a;\n",
    "ys_a.reverse = true;"
   ]
  },
  {
   "cell_type": "code",
   "execution_count": null,
   "metadata": {},
   "outputs": [],
   "source": [
    "xpl::axis ax_x_a(xs_a), ax_y_a(ys_a);\n",
    "ax_y_a.orientation = \"vertical\";"
   ]
  },
  {
   "cell_type": "code",
   "execution_count": null,
   "metadata": {},
   "outputs": [],
   "source": [
    "std::vector<double> row_data_a{0, 1, 2, 3, 4, 5, 6, 7, 8, 9, 10};\n",
    "std::vector<double> column_data_a{10, 11, 12, 13, 14, 15, 16, 17, 18, 19, 20};"
   ]
  },
  {
   "cell_type": "code",
   "execution_count": null,
   "metadata": {},
   "outputs": [],
   "source": [
    "xpl::grid_heat_map grid_map_a(row_data_a, column_data_a, data_s, xs_a, ys_a, cs_a);"
   ]
  },
  {
   "cell_type": "code",
   "execution_count": null,
   "metadata": {},
   "outputs": [],
   "source": [
    "xpl::figure fig4;\n",
    "fig4.add_mark(grid_map_a);\n",
    "fig4.add_axis(ax_x_a);\n",
    "fig4.add_axis(ax_y_a);\n",
    "fig4.padding_y = 0.;\n",
    "fig4"
   ]
  },
  {
   "cell_type": "markdown",
   "metadata": {},
   "source": [
    "By default, for `N` points along any dimension, data aligns to the `start` of the rectangles in the grid. \n",
    "The grid extends infinitely in the other direction. By default, the grid extends infintely\n",
    "towards the bottom and the right."
   ]
  },
  {
   "cell_type": "code",
   "execution_count": null,
   "metadata": {},
   "outputs": [],
   "source": [
    "xpl::linear_scale xs_extend, ys_extend;\n",
    "xpl::color_scale cs_extend;\n",
    "ys_extend.reverse = true;\n",
    "ys_extend.max = 15;"
   ]
  },
  {
   "cell_type": "code",
   "execution_count": null,
   "metadata": {},
   "outputs": [],
   "source": [
    "xpl::axis ax_x_extend(xs_extend), ax_y_extend(ys_extend);\n",
    "ax_y_extend.orientation = \"vertical\";"
   ]
  },
  {
   "cell_type": "code",
   "execution_count": null,
   "metadata": {},
   "outputs": [],
   "source": [
    "std::vector<double> row_data_extend{0, 1, 2, 3, 4, 5, 6, 7, 8, 9};\n",
    "std::vector<double> column_data_extend{10, 11, 12, 13, 14, 15, 16, 17, 18, 19};"
   ]
  },
  {
   "cell_type": "code",
   "execution_count": null,
   "metadata": {},
   "outputs": [],
   "source": [
    "xpl::grid_heat_map grid_map_extend(row_data_extend, column_data_extend, data_s, xs_extend, ys_extend, cs_extend);"
   ]
  },
  {
   "cell_type": "code",
   "execution_count": null,
   "metadata": {},
   "outputs": [],
   "source": [
    "xpl::figure fig5;\n",
    "fig5.add_mark(grid_map_extend);\n",
    "fig5.add_axis(ax_x_extend);\n",
    "fig5.add_axis(ax_y_extend);\n",
    "fig5.padding_y = 0.;\n",
    "fig5"
   ]
  },
  {
   "cell_type": "markdown",
   "metadata": {},
   "source": [
    "By changing the `row_align` and `column_align` properties, the grid can extend in the opposite direction"
   ]
  },
  {
   "cell_type": "code",
   "execution_count": null,
   "metadata": {},
   "outputs": [],
   "source": [
    "xpl::linear_scale xs_extend2, ys_extend2;\n",
    "xpl::color_scale cs_extend2;\n",
    "ys_extend2.reverse = true;\n",
    "ys_extend2.min = -5;\n",
    "ys_extend2.max = 15;"
   ]
  },
  {
   "cell_type": "code",
   "execution_count": null,
   "metadata": {},
   "outputs": [],
   "source": [
    "xpl::axis ax_x_extend2(xs_extend2), ax_y_extend2(ys_extend2);\n",
    "ax_y_extend2.orientation = \"vertical\";"
   ]
  },
  {
   "cell_type": "code",
   "execution_count": null,
   "metadata": {},
   "outputs": [],
   "source": [
    "xpl::grid_heat_map grid_map_extend2(row_data_extend, column_data_extend, data_s, xs_extend2, ys_extend2, cs_extend2);\n",
    "grid_map_extend2.row_align = \"end\";"
   ]
  },
  {
   "cell_type": "code",
   "execution_count": null,
   "metadata": {},
   "outputs": [],
   "source": [
    "xpl::figure fig6;\n",
    "fig6.add_mark(grid_map_extend2);\n",
    "fig6.add_axis(ax_x_extend2);\n",
    "fig6.add_axis(ax_y_extend2);\n",
    "fig6.padding_y = 0.;\n",
    "fig6"
   ]
  },
  {
   "cell_type": "markdown",
   "metadata": {},
   "source": [
    "For `N+1` points on any direction, the grid extends infintely in both directions"
   ]
  },
  {
   "cell_type": "code",
   "execution_count": null,
   "metadata": {},
   "outputs": [],
   "source": [
    "xpl::linear_scale xs_extend3, ys_extend3;\n",
    "xpl::color_scale cs_extend3;\n",
    "ys_extend3.reverse = true;\n",
    "ys_extend3.min = -5;\n",
    "ys_extend3.max = 15;"
   ]
  },
  {
   "cell_type": "code",
   "execution_count": null,
   "metadata": {},
   "outputs": [],
   "source": [
    "xpl::axis ax_x_extend3(xs_extend3), ax_y_extend3(ys_extend3);\n",
    "ax_y_extend3.orientation = \"vertical\";"
   ]
  },
  {
   "cell_type": "code",
   "execution_count": null,
   "metadata": {},
   "outputs": [],
   "source": [
    "std::vector<double> row_data_extend3{0, 1, 2, 3, 4, 5, 6, 7, 8};\n",
    "std::vector<double> column_data_extend3{10, 11, 12, 13, 14, 15, 16, 17, 18, 19};"
   ]
  },
  {
   "cell_type": "code",
   "execution_count": null,
   "metadata": {},
   "outputs": [],
   "source": [
    "xpl::grid_heat_map grid_map_extend3(row_data_extend3, column_data_extend3, data_s, xs_extend3, ys_extend3, cs_extend3);\n",
    "grid_map_extend3.row_align = \"end\";"
   ]
  },
  {
   "cell_type": "code",
   "execution_count": null,
   "metadata": {},
   "outputs": [],
   "source": [
    "xpl::figure fig7;\n",
    "fig7.add_mark(grid_map_extend3);\n",
    "fig7.add_axis(ax_x_extend3);\n",
    "fig7.add_axis(ax_y_extend3);\n",
    "fig7.padding_y = 0.;\n",
    "fig7"
   ]
  },
  {
   "cell_type": "markdown",
   "metadata": {},
   "source": [
    "## Changing opacity and stroke"
   ]
  },
  {
   "cell_type": "code",
   "execution_count": null,
   "metadata": {},
   "outputs": [],
   "source": [
    "xpl::linear_scale xs_o, ys_o;\n",
    "xpl::color_scale cs_o;"
   ]
  },
  {
   "cell_type": "code",
   "execution_count": null,
   "metadata": {},
   "outputs": [],
   "source": [
    "xpl::grid_heat_map grid_map_o(data_s, xs_o, ys_o, cs_o);\n",
    "grid_map_o.opacity = .3;\n",
    "grid_map_o.stroke = \"white\";"
   ]
  },
  {
   "cell_type": "code",
   "execution_count": null,
   "metadata": {},
   "outputs": [],
   "source": [
    "xpl::figure fig8;\n",
    "fig8.add_mark(grid_map_o);\n",
    "fig8.padding_y = 0.;\n",
    "fig8"
   ]
  },
  {
   "cell_type": "markdown",
   "metadata": {},
   "source": [
    "## Selections on the grid map"
   ]
  },
  {
   "cell_type": "markdown",
   "metadata": {},
   "source": [
    "Selection on the `GridHeatMap` works similar to excel. Clicking on a cell selects the cell, and deselects the previous selection. Using the `Ctrl` key allows multiple cells to be selected, while the `Shift` key selects the range from the last cell in the selection to the current cell."
   ]
  },
  {
   "cell_type": "code",
   "execution_count": null,
   "metadata": {},
   "outputs": [],
   "source": [
    "xpl::linear_scale xs_s, ys_s;\n",
    "xpl::color_scale cs_s;"
   ]
  },
  {
   "cell_type": "code",
   "execution_count": null,
   "metadata": {},
   "outputs": [],
   "source": [
    "xpl::grid_heat_map grid_map_s(data_s, xs_s, ys_s, cs_s);"
   ]
  },
  {
   "cell_type": "code",
   "execution_count": null,
   "metadata": {},
   "outputs": [],
   "source": [
    "grid_map_s.selected_style = ::xeus::xjson::parse(R\"({\"opacity\": \"1.0\"})\");\n",
    "grid_map_s.unselected_style = ::xeus::xjson::parse(R\"({\"opacity\": \"0.4\"})\");"
   ]
  },
  {
   "cell_type": "code",
   "execution_count": null,
   "metadata": {},
   "outputs": [],
   "source": [
    "grid_map_s.interactions = ::xeus::xjson::parse(R\"({\"click\": \"select\"})\");"
   ]
  },
  {
   "cell_type": "code",
   "execution_count": null,
   "metadata": {},
   "outputs": [],
   "source": [
    "xpl::figure fig9;\n",
    "fig9.add_mark(grid_map_s);\n",
    "fig9.padding_y = 0.;\n",
    "fig9"
   ]
  },
  {
   "cell_type": "code",
   "execution_count": null,
   "metadata": {},
   "outputs": [],
   "source": [
    "#include <iostream>"
   ]
  },
  {
   "cell_type": "code",
   "execution_count": null,
   "metadata": {},
   "outputs": [],
   "source": [
    "for(auto& v: grid_map_s.selected())\n",
    "{\n",
    "    std::cout << v[0] << \" \" << v[1] << \"\\n\";\n",
    "}"
   ]
  },
  {
   "cell_type": "markdown",
   "metadata": {},
   "source": [
    "The `selected` trait of a `GridHeatMap` contains a list of lists, with each sub-list containing the row and column index of a selected cell."
   ]
  },
  {
   "cell_type": "code",
   "execution_count": null,
   "metadata": {},
   "outputs": [],
   "source": [
    "// TODO"
   ]
  },
  {
   "cell_type": "code",
   "execution_count": null,
   "metadata": {},
   "outputs": [],
   "source": []
  }
 ],
 "metadata": {
  "anaconda-cloud": {},
  "kernelspec": {
   "display_name": "C++14",
   "language": "C++14",
   "name": "xcpp14"
  },
  "language_info": {
   "codemirror_mode": "text/x-c++src",
   "file_extension": ".cpp",
   "mimetype": "text/x-c++src",
   "name": "c++",
   "version": "-std=c++14"
  },
  "widgets": {
   "application/vnd.jupyter.widget-state+json": {
    "state": {
     "02c581e16de44524b39d4003bf07c3a9": {
      "model_module": "bqplot",
      "model_module_version": "^0.2.3",
      "model_name": "LinearScaleModel",
      "state": {
       "allow_padding": false,
       "max": 1,
       "min": 0,
       "stabilized": false
      }
     },
     "09f425cb5b67403eb02ae3762048ad94": {
      "model_module": "bqplot",
      "model_module_version": "^0.2.3",
      "model_name": "AxisModel",
      "state": {
       "scale": "IPY_MODEL_d51c6bb6ff434da688d72a92c78459af",
       "side": "bottom",
       "tick_values": {
        "type": null,
        "values": null
       }
      }
     },
     "0fe37d88b4b1466e9fd9871cc6097b27": {
      "model_module": "bqplot",
      "model_module_version": "^0.2.3",
      "model_name": "LinearScaleModel",
      "state": {
       "allow_padding": false,
       "max": 1,
       "min": 0,
       "stabilized": false
      }
     },
     "130857dd6e93444b8b60ff7394623f7e": {
      "model_module": "jupyter-js-widgets",
      "model_module_version": "~2.1.4",
      "model_name": "LayoutModel",
      "state": {
       "_model_module_version": "~2.1.4",
       "_view_module_version": "~2.1.4",
       "min_width": "125px"
      }
     },
     "166290f6cb3b4e90a07f1d4e6ba6b9c6": {
      "model_module": "bqplot",
      "model_module_version": "^0.2.3",
      "model_name": "ColorScaleModel",
      "state": {
       "_model_name": "ColorScaleModel",
       "_view_name": "ColorScale",
       "colors": [],
       "mid": null,
       "scale_type": "linear",
       "scheme": "RdYlGn"
      }
     },
     "17005607f2f447ff8883cda92c039517": {
      "model_module": "jupyter-js-widgets",
      "model_module_version": "~2.1.4",
      "model_name": "LayoutModel",
      "state": {
       "_model_module_version": "~2.1.4",
       "_view_module_version": "~2.1.4",
       "min_width": "125px"
      }
     },
     "1a6d20583fd8495d8734fc4da5026c19": {
      "model_module": "bqplot",
      "model_module_version": "^0.2.3",
      "model_name": "ColorScaleModel",
      "state": {
       "_model_name": "ColorScaleModel",
       "_view_name": "ColorScale",
       "colors": [],
       "mid": null,
       "scale_type": "linear",
       "scheme": "RdYlGn"
      }
     },
     "1ac8b9e664cd4020ae19080d3e676b82": {
      "model_module": "bqplot",
      "model_module_version": "^0.2.3",
      "model_name": "OrdinalScaleModel",
      "state": {
       "domain": []
      }
     },
     "1b7c994219ca44b9b6216c57a1344f61": {
      "model_module": "bqplot",
      "model_module_version": "^0.2.3",
      "model_name": "GridHeatMapModel",
      "state": {
       "color": {
        "type": "float",
        "values": [
         [
          1.764052345967664,
          0.4001572083672233,
          0.9787379841057392,
          2.240893199201458,
          1.8675579901499675,
          -0.977277879876411,
          0.9500884175255894,
          -0.1513572082976979,
          -0.10321885179355784,
          0.41059850193837233
         ],
         [
          0.144043571160878,
          1.454273506962975,
          0.7610377251469934,
          0.12167501649282841,
          0.44386323274542566,
          0.33367432737426683,
          1.4940790731576061,
          -0.20515826376580087,
          0.31306770165090136,
          -0.8540957393017248
         ],
         [
          -2.5529898158340787,
          0.6536185954403606,
          0.8644361988595057,
          -0.7421650204064419,
          2.2697546239876076,
          -1.4543656745987648,
          0.04575851730144607,
          -0.1871838500258336,
          1.5327792143584575,
          1.469358769900285
         ],
         [
          0.1549474256969163,
          0.37816251960217356,
          -0.8877857476301128,
          -1.980796468223927,
          -0.3479121493261526,
          0.15634896910398005,
          1.2302906807277207,
          1.2023798487844113,
          -0.3873268174079523,
          -0.30230275057533557
         ],
         [
          -1.0485529650670926,
          -1.4200179371789752,
          -1.7062701906250126,
          1.9507753952317897,
          -0.5096521817516535,
          -0.4380743016111864,
          -1.2527953600499262,
          0.7774903558319101,
          -1.6138978475579515,
          -0.2127402802139687
         ],
         [
          -0.8954665611936756,
          0.386902497859262,
          -0.510805137568873,
          -1.180632184122412,
          -0.028182228338654868,
          0.42833187053041766,
          0.06651722238316789,
          0.3024718977397814,
          -0.6343220936809636,
          -0.3627411659871381
         ],
         [
          -0.672460447775951,
          -0.3595531615405413,
          -0.813146282044454,
          -1.7262826023316769,
          0.17742614225375283,
          -0.4017809362082619,
          -1.6301983469660446,
          0.4627822555257742,
          -0.9072983643832422,
          0.05194539579613895
         ],
         [
          0.7290905621775369,
          0.12898291075741067,
          1.1394006845433007,
          -1.2348258203536526,
          0.402341641177549,
          -0.6848100909403132,
          -0.8707971491818818,
          -0.5788496647644155,
          -0.31155253212737266,
          0.05616534222974544
         ],
         [
          -1.1651498407833565,
          0.9008264869541871,
          0.46566243973045984,
          -1.5362436862772237,
          1.4882521937955997,
          1.8958891760305832,
          1.1787795711596507,
          -0.17992483581235091,
          -1.0707526215105425,
          1.0544517269311366
         ],
         [
          -0.40317694697317963,
          1.2224450703824274,
          0.2082749780768603,
          0.9766390364837128,
          0.3563663971744019,
          0.7065731681919482,
          0.010500020720820478,
          1.7858704939058352,
          0.12691209270361992,
          0.40198936344470165
         ]
        ]
       },
       "column": {
        "type": "float",
        "values": [
         10,
         11,
         12,
         13,
         14,
         15,
         16,
         17,
         18,
         19,
         20
        ]
       },
       "display_legend": false,
       "row": {
        "type": "float",
        "values": [
         0,
         1,
         2,
         3,
         4,
         5,
         6,
         7,
         8,
         9,
         10
        ]
       },
       "scales": {
        "color": "IPY_MODEL_d27df54a20984c51959d08c5c8801bb0",
        "column": "IPY_MODEL_fdae919eaf8f4ac28aabc597dead6858",
        "row": "IPY_MODEL_34d7c10c1c2745f0919a39041447b175"
       },
       "selected": []
      }
     },
     "1c78f6798c2748a88b131249a79b72f1": {
      "model_module": "bqplot",
      "model_module_version": "^0.2.3",
      "model_name": "AxisModel",
      "state": {
       "orientation": "vertical",
       "scale": "IPY_MODEL_467d7f1dfb644ab1a9a8b919fcd2d7d0",
       "side": "left",
       "tick_values": {
        "type": null,
        "values": null
       }
      }
     },
     "1f8ae9b3b46b42a895e6b1252950842a": {
      "model_module": "bqplot",
      "model_module_version": "^0.2.3",
      "model_name": "AxisModel",
      "state": {
       "orientation": "vertical",
       "scale": "IPY_MODEL_34d7c10c1c2745f0919a39041447b175",
       "side": "left",
       "tick_values": {
        "type": null,
        "values": null
       }
      }
     },
     "2028bb723f4447978514c5221e5ba5b7": {
      "model_module": "bqplot",
      "model_module_version": "^0.2.3",
      "model_name": "GridHeatMapModel",
      "state": {
       "color": {
        "type": "float",
        "values": [
         [
          1.764052345967664,
          0.4001572083672233,
          0.9787379841057392,
          2.240893199201458,
          1.8675579901499675,
          -0.977277879876411,
          0.9500884175255894,
          -0.1513572082976979,
          -0.10321885179355784,
          0.41059850193837233
         ],
         [
          0.144043571160878,
          1.454273506962975,
          0.7610377251469934,
          0.12167501649282841,
          0.44386323274542566,
          0.33367432737426683,
          1.4940790731576061,
          -0.20515826376580087,
          0.31306770165090136,
          -0.8540957393017248
         ],
         [
          -2.5529898158340787,
          0.6536185954403606,
          0.8644361988595057,
          -0.7421650204064419,
          2.2697546239876076,
          -1.4543656745987648,
          0.04575851730144607,
          -0.1871838500258336,
          1.5327792143584575,
          1.469358769900285
         ],
         [
          0.1549474256969163,
          0.37816251960217356,
          -0.8877857476301128,
          -1.980796468223927,
          -0.3479121493261526,
          0.15634896910398005,
          1.2302906807277207,
          1.2023798487844113,
          -0.3873268174079523,
          -0.30230275057533557
         ],
         [
          -1.0485529650670926,
          -1.4200179371789752,
          -1.7062701906250126,
          1.9507753952317897,
          -0.5096521817516535,
          -0.4380743016111864,
          -1.2527953600499262,
          0.7774903558319101,
          -1.6138978475579515,
          -0.2127402802139687
         ],
         [
          -0.8954665611936756,
          0.386902497859262,
          -0.510805137568873,
          -1.180632184122412,
          -0.028182228338654868,
          0.42833187053041766,
          0.06651722238316789,
          0.3024718977397814,
          -0.6343220936809636,
          -0.3627411659871381
         ],
         [
          -0.672460447775951,
          -0.3595531615405413,
          -0.813146282044454,
          -1.7262826023316769,
          0.17742614225375283,
          -0.4017809362082619,
          -1.6301983469660446,
          0.4627822555257742,
          -0.9072983643832422,
          0.05194539579613895
         ],
         [
          0.7290905621775369,
          0.12898291075741067,
          1.1394006845433007,
          -1.2348258203536526,
          0.402341641177549,
          -0.6848100909403132,
          -0.8707971491818818,
          -0.5788496647644155,
          -0.31155253212737266,
          0.05616534222974544
         ],
         [
          -1.1651498407833565,
          0.9008264869541871,
          0.46566243973045984,
          -1.5362436862772237,
          1.4882521937955997,
          1.8958891760305832,
          1.1787795711596507,
          -0.17992483581235091,
          -1.0707526215105425,
          1.0544517269311366
         ],
         [
          -0.40317694697317963,
          1.2224450703824274,
          0.2082749780768603,
          0.9766390364837128,
          0.3563663971744019,
          0.7065731681919482,
          0.010500020720820478,
          1.7858704939058352,
          0.12691209270361992,
          0.40198936344470165
         ]
        ]
       },
       "column": {
        "type": "float",
        "values": [
         10,
         11,
         12,
         13,
         14,
         15,
         16,
         17,
         18,
         19
        ]
       },
       "display_legend": false,
       "row": {
        "type": "float",
        "values": [
         0,
         1,
         2,
         3,
         4,
         5,
         6,
         7,
         8,
         9
        ]
       },
       "row_align": "end",
       "scales": {
        "color": "IPY_MODEL_84ae6264a43c49c5b2f70b9e06e0d3b9",
        "column": "IPY_MODEL_20ec866801774cea8f16cf83f92fb389",
        "row": "IPY_MODEL_4b66e6079315436ca130874f71b8ff32"
       },
       "selected": []
      }
     },
     "20ec866801774cea8f16cf83f92fb389": {
      "model_module": "bqplot",
      "model_module_version": "^0.2.3",
      "model_name": "LinearScaleModel",
      "state": {
       "stabilized": false
      }
     },
     "21d7e0cf71ec45b7afa611c6d4751f88": {
      "model_module": "bqplot",
      "model_module_version": "^0.2.3",
      "model_name": "FigureModel",
      "state": {
       "_dom_classes": [],
       "layout": "IPY_MODEL_e0e54cd8776c43bfb31d13c76a1fbe09",
       "marks": [
        "IPY_MODEL_d1214419fa8b409bb39dbdfbc2c5330e"
       ],
       "max_aspect_ratio": 6,
       "padding_y": 0,
       "scale_x": "IPY_MODEL_ade7c1bcbc8a408daeef730b41966b30",
       "scale_y": "IPY_MODEL_5e0fa90281094c0f99d60a671172fad3"
      }
     },
     "221065d4e5e6444cb6aa67e7b1821b26": {
      "model_module": "bqplot",
      "model_module_version": "^0.2.3",
      "model_name": "AxisModel",
      "state": {
       "orientation": "vertical",
       "scale": "IPY_MODEL_4b66e6079315436ca130874f71b8ff32",
       "side": "left",
       "tick_values": {
        "type": null,
        "values": null
       }
      }
     },
     "2d4a3a613284412eaa3f775370a761ed": {
      "model_module": "bqplot",
      "model_module_version": "^0.2.3",
      "model_name": "AxisModel",
      "state": {
       "scale": "IPY_MODEL_acb2af7aa983416eb820e8e69bc69337",
       "side": "bottom",
       "tick_values": {
        "type": null,
        "values": null
       }
      }
     },
     "34d7c10c1c2745f0919a39041447b175": {
      "model_module": "bqplot",
      "model_module_version": "^0.2.3",
      "model_name": "LinearScaleModel",
      "state": {
       "reverse": true,
       "stabilized": false
      }
     },
     "39dcac74201a41a69e4a76d57447df92": {
      "model_module": "bqplot",
      "model_module_version": "^0.2.3",
      "model_name": "LinearScaleModel",
      "state": {
       "allow_padding": false,
       "max": 1,
       "min": 0,
       "stabilized": false
      }
     },
     "42784186b07248a88c635672d6a5b5fd": {
      "model_module": "bqplot",
      "model_module_version": "^0.2.3",
      "model_name": "OrdinalScaleModel",
      "state": {
       "domain": [],
       "reverse": true
      }
     },
     "438ce763189d4dd791f187ddf4620592": {
      "model_module": "bqplot",
      "model_module_version": "^0.2.3",
      "model_name": "LinearScaleModel",
      "state": {
       "allow_padding": false,
       "max": 1,
       "min": 0,
       "stabilized": false
      }
     },
     "4449658cacc74b91b370c1e49792f503": {
      "model_module": "bqplot",
      "model_module_version": "^0.2.3",
      "model_name": "GridHeatMapModel",
      "state": {
       "color": {
        "type": "float",
        "values": [
         [
          1.764052345967664,
          0.4001572083672233,
          0.9787379841057392,
          2.240893199201458,
          1.8675579901499675,
          -0.977277879876411,
          0.9500884175255894,
          -0.1513572082976979,
          -0.10321885179355784,
          0.41059850193837233
         ],
         [
          0.144043571160878,
          1.454273506962975,
          0.7610377251469934,
          0.12167501649282841,
          0.44386323274542566,
          0.33367432737426683,
          1.4940790731576061,
          -0.20515826376580087,
          0.31306770165090136,
          -0.8540957393017248
         ],
         [
          -2.5529898158340787,
          0.6536185954403606,
          0.8644361988595057,
          -0.7421650204064419,
          2.2697546239876076,
          -1.4543656745987648,
          0.04575851730144607,
          -0.1871838500258336,
          1.5327792143584575,
          1.469358769900285
         ],
         [
          0.1549474256969163,
          0.37816251960217356,
          -0.8877857476301128,
          -1.980796468223927,
          -0.3479121493261526,
          0.15634896910398005,
          1.2302906807277207,
          1.2023798487844113,
          -0.3873268174079523,
          -0.30230275057533557
         ],
         [
          -1.0485529650670926,
          -1.4200179371789752,
          -1.7062701906250126,
          1.9507753952317897,
          -0.5096521817516535,
          -0.4380743016111864,
          -1.2527953600499262,
          0.7774903558319101,
          -1.6138978475579515,
          -0.2127402802139687
         ],
         [
          -0.8954665611936756,
          0.386902497859262,
          -0.510805137568873,
          -1.180632184122412,
          -0.028182228338654868,
          0.42833187053041766,
          0.06651722238316789,
          0.3024718977397814,
          -0.6343220936809636,
          -0.3627411659871381
         ],
         [
          -0.672460447775951,
          -0.3595531615405413,
          -0.813146282044454,
          -1.7262826023316769,
          0.17742614225375283,
          -0.4017809362082619,
          -1.6301983469660446,
          0.4627822555257742,
          -0.9072983643832422,
          0.05194539579613895
         ],
         [
          0.7290905621775369,
          0.12898291075741067,
          1.1394006845433007,
          -1.2348258203536526,
          0.402341641177549,
          -0.6848100909403132,
          -0.8707971491818818,
          -0.5788496647644155,
          -0.31155253212737266,
          0.05616534222974544
         ],
         [
          -1.1651498407833565,
          0.9008264869541871,
          0.46566243973045984,
          -1.5362436862772237,
          1.4882521937955997,
          1.8958891760305832,
          1.1787795711596507,
          -0.17992483581235091,
          -1.0707526215105425,
          1.0544517269311366
         ],
         [
          -0.40317694697317963,
          1.2224450703824274,
          0.2082749780768603,
          0.9766390364837128,
          0.3563663971744019,
          0.7065731681919482,
          0.010500020720820478,
          1.7858704939058352,
          0.12691209270361992,
          0.40198936344470165
         ]
        ]
       },
       "column": {
        "type": "float",
        "values": [
         10,
         11,
         12,
         13,
         14,
         15,
         16,
         17,
         18,
         19
        ]
       },
       "display_legend": false,
       "row": {
        "type": "float",
        "values": [
         0,
         1,
         2,
         3,
         4,
         5,
         6,
         7,
         8,
         9
        ]
       },
       "scales": {
        "color": "IPY_MODEL_1a6d20583fd8495d8734fc4da5026c19",
        "column": "IPY_MODEL_acb2af7aa983416eb820e8e69bc69337",
        "row": "IPY_MODEL_467d7f1dfb644ab1a9a8b919fcd2d7d0"
       },
       "selected": []
      }
     },
     "446f1d1415e541b6af65f60da617bdbd": {
      "model_module": "bqplot",
      "model_module_version": "^0.2.3",
      "model_name": "FigureModel",
      "state": {
       "_dom_classes": [],
       "axes": [
        "IPY_MODEL_2d4a3a613284412eaa3f775370a761ed",
        "IPY_MODEL_1c78f6798c2748a88b131249a79b72f1"
       ],
       "layout": "IPY_MODEL_c1633290177046c3b934654562bfa59d",
       "marks": [
        "IPY_MODEL_4449658cacc74b91b370c1e49792f503"
       ],
       "max_aspect_ratio": 6,
       "padding_y": 0,
       "scale_x": "IPY_MODEL_bfcf9b1397a445fd8071b5cb181ec82e",
       "scale_y": "IPY_MODEL_438ce763189d4dd791f187ddf4620592"
      }
     },
     "44fb43c61ddb4ea38d64f1257841064d": {
      "model_module": "bqplot",
      "model_module_version": "^0.2.3",
      "model_name": "GridHeatMapModel",
      "state": {
       "color": {
        "type": "float",
        "values": [
         [
          1.764052345967664,
          0.4001572083672233,
          0.9787379841057392,
          2.240893199201458,
          1.8675579901499675,
          -0.977277879876411,
          0.9500884175255894,
          -0.1513572082976979,
          -0.10321885179355784,
          0.41059850193837233
         ],
         [
          0.144043571160878,
          1.454273506962975,
          0.7610377251469934,
          0.12167501649282841,
          0.44386323274542566,
          0.33367432737426683,
          1.4940790731576061,
          -0.20515826376580087,
          0.31306770165090136,
          -0.8540957393017248
         ],
         [
          -2.5529898158340787,
          0.6536185954403606,
          0.8644361988595057,
          -0.7421650204064419,
          2.2697546239876076,
          -1.4543656745987648,
          0.04575851730144607,
          -0.1871838500258336,
          1.5327792143584575,
          1.469358769900285
         ],
         [
          0.1549474256969163,
          0.37816251960217356,
          -0.8877857476301128,
          -1.980796468223927,
          -0.3479121493261526,
          0.15634896910398005,
          1.2302906807277207,
          1.2023798487844113,
          -0.3873268174079523,
          -0.30230275057533557
         ],
         [
          -1.0485529650670926,
          -1.4200179371789752,
          -1.7062701906250126,
          1.9507753952317897,
          -0.5096521817516535,
          -0.4380743016111864,
          -1.2527953600499262,
          0.7774903558319101,
          -1.6138978475579515,
          -0.2127402802139687
         ],
         [
          -0.8954665611936756,
          0.386902497859262,
          -0.510805137568873,
          -1.180632184122412,
          -0.028182228338654868,
          0.42833187053041766,
          0.06651722238316789,
          0.3024718977397814,
          -0.6343220936809636,
          -0.3627411659871381
         ],
         [
          -0.672460447775951,
          -0.3595531615405413,
          -0.813146282044454,
          -1.7262826023316769,
          0.17742614225375283,
          -0.4017809362082619,
          -1.6301983469660446,
          0.4627822555257742,
          -0.9072983643832422,
          0.05194539579613895
         ],
         [
          0.7290905621775369,
          0.12898291075741067,
          1.1394006845433007,
          -1.2348258203536526,
          0.402341641177549,
          -0.6848100909403132,
          -0.8707971491818818,
          -0.5788496647644155,
          -0.31155253212737266,
          0.05616534222974544
         ],
         [
          -1.1651498407833565,
          0.9008264869541871,
          0.46566243973045984,
          -1.5362436862772237,
          1.4882521937955997,
          1.8958891760305832,
          1.1787795711596507,
          -0.17992483581235091,
          -1.0707526215105425,
          1.0544517269311366
         ],
         [
          -0.40317694697317963,
          1.2224450703824274,
          0.2082749780768603,
          0.9766390364837128,
          0.3563663971744019,
          0.7065731681919482,
          0.010500020720820478,
          1.7858704939058352,
          0.12691209270361992,
          0.40198936344470165
         ]
        ]
       },
       "column": {
        "type": "float",
        "values": [
         10,
         11,
         12,
         13,
         14,
         15,
         16,
         17,
         18,
         19
        ]
       },
       "display_legend": false,
       "row": {
        "type": "float",
        "values": [
         0,
         1,
         2,
         3,
         4,
         6,
         7,
         8,
         9,
         10
        ]
       },
       "scales": {
        "color": "IPY_MODEL_166290f6cb3b4e90a07f1d4e6ba6b9c6",
        "column": "IPY_MODEL_f2ba19b540fd4c28b18a2aaee497b168",
        "row": "IPY_MODEL_6c9117d939aa4f6280ceae9ca876fd7f"
       },
       "selected": []
      }
     },
     "4576e07e78a2467086d2f217d959b03f": {
      "model_module": "bqplot",
      "model_module_version": "^0.2.3",
      "model_name": "OrdinalScaleModel",
      "state": {
       "domain": []
      }
     },
     "467d7f1dfb644ab1a9a8b919fcd2d7d0": {
      "model_module": "bqplot",
      "model_module_version": "^0.2.3",
      "model_name": "LinearScaleModel",
      "state": {
       "max": 15,
       "reverse": true,
       "stabilized": false
      }
     },
     "4b66e6079315436ca130874f71b8ff32": {
      "model_module": "bqplot",
      "model_module_version": "^0.2.3",
      "model_name": "LinearScaleModel",
      "state": {
       "max": 15,
       "min": -5,
       "reverse": true,
       "stabilized": false
      }
     },
     "52a997d173ed4efab00c36a35d28aa2b": {
      "model_module": "bqplot",
      "model_module_version": "^0.2.3",
      "model_name": "FigureModel",
      "state": {
       "_dom_classes": [],
       "layout": "IPY_MODEL_17005607f2f447ff8883cda92c039517",
       "marks": [
        "IPY_MODEL_7bf34cb6d88b47638d4b225391a9964c"
       ],
       "max_aspect_ratio": 6,
       "padding_y": 0,
       "scale_x": "IPY_MODEL_5d94fed5009c4d7daf45f8321f682c3c",
       "scale_y": "IPY_MODEL_c7217a91bee44205a35f50719e52dd0c"
      }
     },
     "54118fad8bec43f2afa88468abd594e6": {
      "model_module": "bqplot",
      "model_module_version": "^0.2.3",
      "model_name": "AxisModel",
      "state": {
       "orientation": "vertical",
       "scale": "IPY_MODEL_6c9117d939aa4f6280ceae9ca876fd7f",
       "side": "left",
       "tick_values": {
        "type": null,
        "values": null
       }
      }
     },
     "5493fbe0c2904528a498beaaa6410166": {
      "model_module": "bqplot",
      "model_module_version": "^0.2.3",
      "model_name": "FigureModel",
      "state": {
       "_dom_classes": [],
       "axes": [
        "IPY_MODEL_09f425cb5b67403eb02ae3762048ad94",
        "IPY_MODEL_ce47343d283b4fdfb38c420dfce3ccab"
       ],
       "layout": "IPY_MODEL_5a4209058b0a4d18bf7c18e1aeafd40c",
       "marks": [
        "IPY_MODEL_91c68bd0af474706bac3ed5bd8cfdacf"
       ],
       "max_aspect_ratio": 6,
       "padding_y": 0,
       "scale_x": "IPY_MODEL_02c581e16de44524b39d4003bf07c3a9",
       "scale_y": "IPY_MODEL_bd28af1e8337488a989251a3db451e7f"
      }
     },
     "589644f819204118b3488f64eb384e9f": {
      "model_module": "jupyter-js-widgets",
      "model_module_version": "~2.1.4",
      "model_name": "LayoutModel",
      "state": {
       "_model_module_version": "~2.1.4",
       "_view_module_version": "~2.1.4",
       "min_width": "125px"
      }
     },
     "5a4209058b0a4d18bf7c18e1aeafd40c": {
      "model_module": "jupyter-js-widgets",
      "model_module_version": "~2.1.4",
      "model_name": "LayoutModel",
      "state": {
       "_model_module_version": "~2.1.4",
       "_view_module_version": "~2.1.4",
       "min_width": "125px"
      }
     },
     "5b1a2874f25f449384136572a3758651": {
      "model_module": "bqplot",
      "model_module_version": "^0.2.3",
      "model_name": "AxisModel",
      "state": {
       "scale": "IPY_MODEL_20ec866801774cea8f16cf83f92fb389",
       "side": "bottom",
       "tick_values": {
        "type": null,
        "values": null
       }
      }
     },
     "5b239e894be24639a3294f2e8734f35e": {
      "model_module": "bqplot",
      "model_module_version": "^0.2.3",
      "model_name": "ColorScaleModel",
      "state": {
       "_model_name": "ColorScaleModel",
       "_view_name": "ColorScale",
       "colors": [],
       "mid": null,
       "scale_type": "linear",
       "scheme": "RdYlGn"
      }
     },
     "5bbb2c3b488646fba6896b09991447e0": {
      "model_module": "bqplot",
      "model_module_version": "^0.2.3",
      "model_name": "OrdinalScaleModel",
      "state": {
       "domain": [],
       "reverse": true
      }
     },
     "5d94fed5009c4d7daf45f8321f682c3c": {
      "model_module": "bqplot",
      "model_module_version": "^0.2.3",
      "model_name": "LinearScaleModel",
      "state": {
       "allow_padding": false,
       "max": 1,
       "min": 0,
       "stabilized": false
      }
     },
     "5e0fa90281094c0f99d60a671172fad3": {
      "model_module": "bqplot",
      "model_module_version": "^0.2.3",
      "model_name": "LinearScaleModel",
      "state": {
       "allow_padding": false,
       "max": 1,
       "min": 0,
       "stabilized": false
      }
     },
     "5fd42451e9ab4043ac373d76ec658141": {
      "model_module": "bqplot",
      "model_module_version": "^0.2.3",
      "model_name": "FigureModel",
      "state": {
       "_dom_classes": [],
       "axes": [
        "IPY_MODEL_db949cf7ed9e49999618f9819b1afa11",
        "IPY_MODEL_1f8ae9b3b46b42a895e6b1252950842a"
       ],
       "layout": "IPY_MODEL_fe9193798ec84de9a18e357bcb6becf8",
       "marks": [
        "IPY_MODEL_1b7c994219ca44b9b6216c57a1344f61"
       ],
       "max_aspect_ratio": 6,
       "padding_y": 0,
       "scale_x": "IPY_MODEL_eb0730d9d66340519d9efcb2838d7f9f",
       "scale_y": "IPY_MODEL_be9bd110d1a74b82817e5bd45dd7994e"
      }
     },
     "6209ae03f2564e66863ffe91cb8f9244": {
      "model_module": "jupyter-js-widgets",
      "model_module_version": "~2.1.4",
      "model_name": "LayoutModel",
      "state": {
       "_model_module_version": "~2.1.4",
       "_view_module_version": "~2.1.4",
       "min_width": "125px"
      }
     },
     "6c9117d939aa4f6280ceae9ca876fd7f": {
      "model_module": "bqplot",
      "model_module_version": "^0.2.3",
      "model_name": "LinearScaleModel",
      "state": {
       "reverse": true,
       "stabilized": false
      }
     },
     "6c9dbb2b27f14e118227e07f787c682f": {
      "model_module": "bqplot",
      "model_module_version": "^0.2.3",
      "model_name": "LinearScaleModel",
      "state": {
       "allow_padding": false,
       "max": 1,
       "min": 0,
       "stabilized": false
      }
     },
     "70b1e8fea02141e3ab1f95369341df4f": {
      "model_module": "bqplot",
      "model_module_version": "^0.2.3",
      "model_name": "LinearScaleModel",
      "state": {
       "allow_padding": false,
       "max": 1,
       "min": 0,
       "stabilized": false
      }
     },
     "7519df8ca31d474eae038ae47c6ed4b5": {
      "model_module": "bqplot",
      "model_module_version": "^0.2.3",
      "model_name": "LinearScaleModel",
      "state": {
       "allow_padding": false,
       "max": 1,
       "min": 0,
       "stabilized": false
      }
     },
     "794c69aba22f433684146603c9fa3317": {
      "model_module": "bqplot",
      "model_module_version": "^0.2.3",
      "model_name": "LinearScaleModel",
      "state": {
       "allow_padding": false,
       "max": 1,
       "min": 0,
       "stabilized": false
      }
     },
     "7bf34cb6d88b47638d4b225391a9964c": {
      "model_module": "bqplot",
      "model_module_version": "^0.2.3",
      "model_name": "GridHeatMapModel",
      "state": {
       "color": {
        "type": "float",
        "values": [
         [
          1.8831506970562544,
          -1.3477590611424464,
          -1.2704849984857336,
          0.9693967081580112,
          -1.17312340511416,
          1.9436211856492926,
          -0.41361898075974735,
          -0.7474548114407578,
          1.9229420264803847,
          1.4805147914344243
         ],
         [
          1.8675589604265699,
          0.9060446582753853,
          -0.8612256850547025,
          1.9100649530990337,
          -0.2680033709513804,
          0.8024563957963952,
          0.947251967773748,
          -0.1550100930908342,
          0.6140793703460803,
          0.9222066715665268
         ],
         [
          0.37642553115562943,
          -1.0994007905841945,
          0.298238174206056,
          1.3263858966870303,
          -0.6945678597313655,
          -0.14963454032767076,
          -0.43515355172163744,
          1.8492637284793418,
          0.6722947570124355,
          0.40746183624111043
         ],
         [
          -0.7699160744453164,
          0.5392491912918173,
          -0.6743326606573761,
          0.03183055827435118,
          -0.635846078378881,
          0.6764332949464997,
          0.5765908166149409,
          -0.20829875557799488,
          0.3960067126616453,
          -1.0930615087305058
         ],
         [
          -1.4912575927056055,
          0.4393917012645369,
          0.16667349537252904,
          0.6350314368921064,
          2.383144774863942,
          0.9444794869904138,
          -0.9128222254441586,
          1.117016288095853,
          -1.3159074105115212,
          -0.461584604814709
         ],
         [
          -0.06824160532463124,
          1.7133427216493666,
          -0.7447548220484399,
          -0.8264385386590144,
          -0.0984525244254323,
          -0.6634782863621074,
          1.126635922106507,
          -1.0799315083634233,
          -1.1474686524111024,
          -0.43782004474443403
         ],
         [
          -0.4980324506923049,
          1.9295320538169858,
          0.9494208069257608,
          0.0875512413851909,
          -1.225435518830168,
          0.8443629764015471,
          -1.0002153473895647,
          -1.5447710967776116,
          1.1880297923523018,
          0.3169426119248496
         ],
         [
          0.920858823780819,
          0.3187276529430212,
          0.8568306119026912,
          -0.6510255933001469,
          -1.0342428417844647,
          0.681594518281627,
          -0.8034096641738411,
          -0.6895497777502005,
          -0.45553250351734315,
          0.01747915902505673
         ],
         [
          -0.35399391125348395,
          -1.3749512934180188,
          -0.6436184028328905,
          -2.2234031522244266,
          0.6252314510271875,
          -1.6020576556067476,
          -1.1043833394284506,
          0.052165079260974405,
          -0.7395629963913133,
          1.5430145954067358
         ],
         [
          -1.2928569097234486,
          0.26705086934918293,
          -0.0392828182274956,
          -1.1680934977411974,
          0.5232766605317537,
          -0.1715463312222481,
          0.7717905512136674,
          0.8235041539637314,
          2.16323594928069,
          1.336527949436392
         ]
        ]
       },
       "column": {
        "type": "float",
        "values": [
         0,
         1,
         2,
         3,
         4,
         5,
         6,
         7,
         8,
         9
        ]
       },
       "display_legend": false,
       "interactions": {
        "click": "select"
       },
       "row": {
        "type": "float",
        "values": [
         0,
         1,
         2,
         3,
         4,
         5,
         6,
         7,
         8,
         9
        ]
       },
       "scales": {
        "color": "IPY_MODEL_df673fedffb149e88dc6e7d5425e0a87",
        "column": "IPY_MODEL_1ac8b9e664cd4020ae19080d3e676b82",
        "row": "IPY_MODEL_42784186b07248a88c635672d6a5b5fd"
       },
       "selected": [],
       "selected_style": {
        "opacity": "1.0"
       },
       "unselected_style": {
        "opacity": 0.4
       }
      }
     },
     "7d927e47c2d74f95a4389699d34145ff": {
      "model_module": "bqplot",
      "model_module_version": "^0.2.3",
      "model_name": "AxisModel",
      "state": {
       "orientation": "vertical",
       "scale": "IPY_MODEL_82ceb0cd633f47be8f7ce525cbb0bfdd",
       "side": "left",
       "tick_values": {
        "type": null,
        "values": null
       }
      }
     },
     "7df6efbdf75645619913c66cde1bd854": {
      "model_module": "bqplot",
      "model_module_version": "^0.2.3",
      "model_name": "OrdinalScaleModel",
      "state": {
       "domain": []
      }
     },
     "82ceb0cd633f47be8f7ce525cbb0bfdd": {
      "model_module": "bqplot",
      "model_module_version": "^0.2.3",
      "model_name": "LinearScaleModel",
      "state": {
       "max": 15,
       "min": -5,
       "reverse": true,
       "stabilized": false
      }
     },
     "84ae6264a43c49c5b2f70b9e06e0d3b9": {
      "model_module": "bqplot",
      "model_module_version": "^0.2.3",
      "model_name": "ColorScaleModel",
      "state": {
       "_model_name": "ColorScaleModel",
       "_view_name": "ColorScale",
       "colors": [],
       "mid": null,
       "scale_type": "linear",
       "scheme": "RdYlGn"
      }
     },
     "87d1e24bb7ab42be9548df57036ed64a": {
      "model_module": "bqplot",
      "model_module_version": "^0.2.3",
      "model_name": "AxisModel",
      "state": {
       "scale": "IPY_MODEL_9b89ca3127c9438884901cb8e3b671ea",
       "side": "bottom",
       "tick_values": {
        "type": null,
        "values": null
       }
      }
     },
     "884b930b25bc4e8ca8bcb4fdfdfaadeb": {
      "model_module": "bqplot",
      "model_module_version": "^0.2.3",
      "model_name": "FigureModel",
      "state": {
       "_dom_classes": [],
       "axes": [
        "IPY_MODEL_f1acfa4957cd429ebd535f9da74bec39",
        "IPY_MODEL_54118fad8bec43f2afa88468abd594e6"
       ],
       "layout": "IPY_MODEL_130857dd6e93444b8b60ff7394623f7e",
       "marks": [
        "IPY_MODEL_44fb43c61ddb4ea38d64f1257841064d"
       ],
       "max_aspect_ratio": 6,
       "padding_y": 0,
       "scale_x": "IPY_MODEL_794c69aba22f433684146603c9fa3317",
       "scale_y": "IPY_MODEL_0fe37d88b4b1466e9fd9871cc6097b27"
      }
     },
     "8958fa3f4565414f8f6c9d9c22ffac90": {
      "model_module": "bqplot",
      "model_module_version": "^0.2.3",
      "model_name": "LinearScaleModel",
      "state": {
       "allow_padding": false,
       "max": 1,
       "min": 0,
       "stabilized": false
      }
     },
     "91c68bd0af474706bac3ed5bd8cfdacf": {
      "model_module": "bqplot",
      "model_module_version": "^0.2.3",
      "model_name": "GridHeatMapModel",
      "state": {
       "color": {
        "type": "float",
        "values": [
         [
          1.764052345967664,
          0.4001572083672233,
          0.9787379841057392,
          2.240893199201458,
          1.8675579901499675,
          -0.977277879876411,
          0.9500884175255894,
          -0.1513572082976979,
          -0.10321885179355784,
          0.41059850193837233
         ],
         [
          0.144043571160878,
          1.454273506962975,
          0.7610377251469934,
          0.12167501649282841,
          0.44386323274542566,
          0.33367432737426683,
          1.4940790731576061,
          -0.20515826376580087,
          0.31306770165090136,
          -0.8540957393017248
         ],
         [
          -2.5529898158340787,
          0.6536185954403606,
          0.8644361988595057,
          -0.7421650204064419,
          2.2697546239876076,
          -1.4543656745987648,
          0.04575851730144607,
          -0.1871838500258336,
          1.5327792143584575,
          1.469358769900285
         ],
         [
          0.1549474256969163,
          0.37816251960217356,
          -0.8877857476301128,
          -1.980796468223927,
          -0.3479121493261526,
          0.15634896910398005,
          1.2302906807277207,
          1.2023798487844113,
          -0.3873268174079523,
          -0.30230275057533557
         ],
         [
          -1.0485529650670926,
          -1.4200179371789752,
          -1.7062701906250126,
          1.9507753952317897,
          -0.5096521817516535,
          -0.4380743016111864,
          -1.2527953600499262,
          0.7774903558319101,
          -1.6138978475579515,
          -0.2127402802139687
         ],
         [
          -0.8954665611936756,
          0.386902497859262,
          -0.510805137568873,
          -1.180632184122412,
          -0.028182228338654868,
          0.42833187053041766,
          0.06651722238316789,
          0.3024718977397814,
          -0.6343220936809636,
          -0.3627411659871381
         ],
         [
          -0.672460447775951,
          -0.3595531615405413,
          -0.813146282044454,
          -1.7262826023316769,
          0.17742614225375283,
          -0.4017809362082619,
          -1.6301983469660446,
          0.4627822555257742,
          -0.9072983643832422,
          0.05194539579613895
         ],
         [
          0.7290905621775369,
          0.12898291075741067,
          1.1394006845433007,
          -1.2348258203536526,
          0.402341641177549,
          -0.6848100909403132,
          -0.8707971491818818,
          -0.5788496647644155,
          -0.31155253212737266,
          0.05616534222974544
         ],
         [
          -1.1651498407833565,
          0.9008264869541871,
          0.46566243973045984,
          -1.5362436862772237,
          1.4882521937955997,
          1.8958891760305832,
          1.1787795711596507,
          -0.17992483581235091,
          -1.0707526215105425,
          1.0544517269311366
         ],
         [
          -0.40317694697317963,
          1.2224450703824274,
          0.2082749780768603,
          0.9766390364837128,
          0.3563663971744019,
          0.7065731681919482,
          0.010500020720820478,
          1.7858704939058352,
          0.12691209270361992,
          0.40198936344470165
         ]
        ]
       },
       "column": {
        "type": "float",
        "values": [
         0,
         1,
         2,
         3,
         4,
         5,
         6,
         7,
         8,
         9
        ]
       },
       "display_legend": false,
       "row": {
        "type": "float",
        "values": [
         0,
         1,
         2,
         3,
         4,
         5,
         6,
         7,
         8,
         9
        ]
       },
       "scales": {
        "color": "IPY_MODEL_a8c35304bad34a0eb16cd88f1455f455",
        "column": "IPY_MODEL_d51c6bb6ff434da688d72a92c78459af",
        "row": "IPY_MODEL_9c6ee088b22a4d4792f754bda3c1603f"
       },
       "selected": []
      }
     },
     "9b89ca3127c9438884901cb8e3b671ea": {
      "model_module": "bqplot",
      "model_module_version": "^0.2.3",
      "model_name": "LinearScaleModel",
      "state": {
       "stabilized": false
      }
     },
     "9c6ee088b22a4d4792f754bda3c1603f": {
      "model_module": "bqplot",
      "model_module_version": "^0.2.3",
      "model_name": "OrdinalScaleModel",
      "state": {
       "domain": [],
       "reverse": true
      }
     },
     "9d88241eb71b461aa8770f40edc4232a": {
      "model_module": "bqplot",
      "model_module_version": "^0.2.3",
      "model_name": "FigureModel",
      "state": {
       "_dom_classes": [],
       "axes": [
        "IPY_MODEL_5b1a2874f25f449384136572a3758651",
        "IPY_MODEL_221065d4e5e6444cb6aa67e7b1821b26"
       ],
       "layout": "IPY_MODEL_589644f819204118b3488f64eb384e9f",
       "marks": [
        "IPY_MODEL_2028bb723f4447978514c5221e5ba5b7"
       ],
       "max_aspect_ratio": 6,
       "padding_y": 0,
       "scale_x": "IPY_MODEL_a7678b15c3e2406e83e18a9e8749a6c1",
       "scale_y": "IPY_MODEL_8958fa3f4565414f8f6c9d9c22ffac90"
      }
     },
     "a7678b15c3e2406e83e18a9e8749a6c1": {
      "model_module": "bqplot",
      "model_module_version": "^0.2.3",
      "model_name": "LinearScaleModel",
      "state": {
       "allow_padding": false,
       "max": 1,
       "min": 0,
       "stabilized": false
      }
     },
     "a8c35304bad34a0eb16cd88f1455f455": {
      "model_module": "bqplot",
      "model_module_version": "^0.2.3",
      "model_name": "ColorScaleModel",
      "state": {
       "_model_name": "ColorScaleModel",
       "_view_name": "ColorScale",
       "colors": [],
       "mid": null,
       "scale_type": "linear",
       "scheme": "RdYlGn"
      }
     },
     "aa6afff0a84849c1bc49c219d54168b4": {
      "model_module": "bqplot",
      "model_module_version": "^0.2.3",
      "model_name": "ColorScaleModel",
      "state": {
       "_model_name": "ColorScaleModel",
       "_view_name": "ColorScale",
       "colors": [],
       "mid": null,
       "scale_type": "linear",
       "scheme": "RdYlGn"
      }
     },
     "acb2af7aa983416eb820e8e69bc69337": {
      "model_module": "bqplot",
      "model_module_version": "^0.2.3",
      "model_name": "LinearScaleModel",
      "state": {
       "stabilized": false
      }
     },
     "ade7c1bcbc8a408daeef730b41966b30": {
      "model_module": "bqplot",
      "model_module_version": "^0.2.3",
      "model_name": "LinearScaleModel",
      "state": {
       "allow_padding": false,
       "max": 1,
       "min": 0,
       "stabilized": false
      }
     },
     "bb83d4c3aa8c428bad501063845e536d": {
      "model_module": "bqplot",
      "model_module_version": "^0.2.3",
      "model_name": "GridHeatMapModel",
      "state": {
       "color": {
        "type": "float",
        "values": [
         [
          1.764052345967664,
          0.4001572083672233,
          0.9787379841057392,
          2.240893199201458,
          1.8675579901499675,
          -0.977277879876411,
          0.9500884175255894,
          -0.1513572082976979,
          -0.10321885179355784,
          0.41059850193837233
         ],
         [
          0.144043571160878,
          1.454273506962975,
          0.7610377251469934,
          0.12167501649282841,
          0.44386323274542566,
          0.33367432737426683,
          1.4940790731576061,
          -0.20515826376580087,
          0.31306770165090136,
          -0.8540957393017248
         ],
         [
          -2.5529898158340787,
          0.6536185954403606,
          0.8644361988595057,
          -0.7421650204064419,
          2.2697546239876076,
          -1.4543656745987648,
          0.04575851730144607,
          -0.1871838500258336,
          1.5327792143584575,
          1.469358769900285
         ],
         [
          0.1549474256969163,
          0.37816251960217356,
          -0.8877857476301128,
          -1.980796468223927,
          -0.3479121493261526,
          0.15634896910398005,
          1.2302906807277207,
          1.2023798487844113,
          -0.3873268174079523,
          -0.30230275057533557
         ],
         [
          -1.0485529650670926,
          -1.4200179371789752,
          -1.7062701906250126,
          1.9507753952317897,
          -0.5096521817516535,
          -0.4380743016111864,
          -1.2527953600499262,
          0.7774903558319101,
          -1.6138978475579515,
          -0.2127402802139687
         ],
         [
          -0.8954665611936756,
          0.386902497859262,
          -0.510805137568873,
          -1.180632184122412,
          -0.028182228338654868,
          0.42833187053041766,
          0.06651722238316789,
          0.3024718977397814,
          -0.6343220936809636,
          -0.3627411659871381
         ],
         [
          -0.672460447775951,
          -0.3595531615405413,
          -0.813146282044454,
          -1.7262826023316769,
          0.17742614225375283,
          -0.4017809362082619,
          -1.6301983469660446,
          0.4627822555257742,
          -0.9072983643832422,
          0.05194539579613895
         ],
         [
          0.7290905621775369,
          0.12898291075741067,
          1.1394006845433007,
          -1.2348258203536526,
          0.402341641177549,
          -0.6848100909403132,
          -0.8707971491818818,
          -0.5788496647644155,
          -0.31155253212737266,
          0.05616534222974544
         ],
         [
          -1.1651498407833565,
          0.9008264869541871,
          0.46566243973045984,
          -1.5362436862772237,
          1.4882521937955997,
          1.8958891760305832,
          1.1787795711596507,
          -0.17992483581235091,
          -1.0707526215105425,
          1.0544517269311366
         ],
         [
          -0.40317694697317963,
          1.2224450703824274,
          0.2082749780768603,
          0.9766390364837128,
          0.3563663971744019,
          0.7065731681919482,
          0.010500020720820478,
          1.7858704939058352,
          0.12691209270361992,
          0.40198936344470165
         ]
        ]
       },
       "column": {
        "type": "float",
        "values": [
         0,
         1,
         2,
         3,
         4,
         5,
         6,
         7,
         8,
         9
        ]
       },
       "display_legend": false,
       "opacity": 0.3,
       "row": {
        "type": "float",
        "values": [
         0,
         1,
         2,
         3,
         4,
         5,
         6,
         7,
         8,
         9
        ]
       },
       "scales": {
        "color": "IPY_MODEL_fec68d8ad9b748a4addcd30ea60bb36e",
        "column": "IPY_MODEL_7df6efbdf75645619913c66cde1bd854",
        "row": "IPY_MODEL_dabe9ad698f14882bda09f5c78080395"
       },
       "selected": [],
       "stroke": "white"
      }
     },
     "bd28af1e8337488a989251a3db451e7f": {
      "model_module": "bqplot",
      "model_module_version": "^0.2.3",
      "model_name": "LinearScaleModel",
      "state": {
       "allow_padding": false,
       "max": 1,
       "min": 0,
       "stabilized": false
      }
     },
     "be9bd110d1a74b82817e5bd45dd7994e": {
      "model_module": "bqplot",
      "model_module_version": "^0.2.3",
      "model_name": "LinearScaleModel",
      "state": {
       "allow_padding": false,
       "max": 1,
       "min": 0,
       "stabilized": false
      }
     },
     "bfcf9b1397a445fd8071b5cb181ec82e": {
      "model_module": "bqplot",
      "model_module_version": "^0.2.3",
      "model_name": "LinearScaleModel",
      "state": {
       "allow_padding": false,
       "max": 1,
       "min": 0,
       "stabilized": false
      }
     },
     "c1633290177046c3b934654562bfa59d": {
      "model_module": "jupyter-js-widgets",
      "model_module_version": "~2.1.4",
      "model_name": "LayoutModel",
      "state": {
       "_model_module_version": "~2.1.4",
       "_view_module_version": "~2.1.4",
       "min_width": "125px"
      }
     },
     "c7217a91bee44205a35f50719e52dd0c": {
      "model_module": "bqplot",
      "model_module_version": "^0.2.3",
      "model_name": "LinearScaleModel",
      "state": {
       "allow_padding": false,
       "max": 1,
       "min": 0,
       "stabilized": false
      }
     },
     "ce47343d283b4fdfb38c420dfce3ccab": {
      "model_module": "bqplot",
      "model_module_version": "^0.2.3",
      "model_name": "AxisModel",
      "state": {
       "orientation": "vertical",
       "scale": "IPY_MODEL_9c6ee088b22a4d4792f754bda3c1603f",
       "side": "left",
       "tick_values": {
        "type": null,
        "values": null
       }
      }
     },
     "d1214419fa8b409bb39dbdfbc2c5330e": {
      "model_module": "bqplot",
      "model_module_version": "^0.2.3",
      "model_name": "GridHeatMapModel",
      "state": {
       "color": {
        "type": "float",
        "values": [
         [
          1.764052345967664,
          0.4001572083672233,
          0.9787379841057392,
          2.240893199201458,
          1.8675579901499675,
          -0.977277879876411,
          0.9500884175255894,
          -0.1513572082976979,
          -0.10321885179355784,
          0.41059850193837233
         ],
         [
          0.144043571160878,
          1.454273506962975,
          0.7610377251469934,
          0.12167501649282841,
          0.44386323274542566,
          0.33367432737426683,
          1.4940790731576061,
          -0.20515826376580087,
          0.31306770165090136,
          -0.8540957393017248
         ],
         [
          -2.5529898158340787,
          0.6536185954403606,
          0.8644361988595057,
          -0.7421650204064419,
          2.2697546239876076,
          -1.4543656745987648,
          0.04575851730144607,
          -0.1871838500258336,
          1.5327792143584575,
          1.469358769900285
         ],
         [
          0.1549474256969163,
          0.37816251960217356,
          -0.8877857476301128,
          -1.980796468223927,
          -0.3479121493261526,
          0.15634896910398005,
          1.2302906807277207,
          1.2023798487844113,
          -0.3873268174079523,
          -0.30230275057533557
         ],
         [
          -1.0485529650670926,
          -1.4200179371789752,
          -1.7062701906250126,
          1.9507753952317897,
          -0.5096521817516535,
          -0.4380743016111864,
          -1.2527953600499262,
          0.7774903558319101,
          -1.6138978475579515,
          -0.2127402802139687
         ],
         [
          -0.8954665611936756,
          0.386902497859262,
          -0.510805137568873,
          -1.180632184122412,
          -0.028182228338654868,
          0.42833187053041766,
          0.06651722238316789,
          0.3024718977397814,
          -0.6343220936809636,
          -0.3627411659871381
         ],
         [
          -0.672460447775951,
          -0.3595531615405413,
          -0.813146282044454,
          -1.7262826023316769,
          0.17742614225375283,
          -0.4017809362082619,
          -1.6301983469660446,
          0.4627822555257742,
          -0.9072983643832422,
          0.05194539579613895
         ],
         [
          0.7290905621775369,
          0.12898291075741067,
          1.1394006845433007,
          -1.2348258203536526,
          0.402341641177549,
          -0.6848100909403132,
          -0.8707971491818818,
          -0.5788496647644155,
          -0.31155253212737266,
          0.05616534222974544
         ],
         [
          -1.1651498407833565,
          0.9008264869541871,
          0.46566243973045984,
          -1.5362436862772237,
          1.4882521937955997,
          1.8958891760305832,
          1.1787795711596507,
          -0.17992483581235091,
          -1.0707526215105425,
          1.0544517269311366
         ],
         [
          -0.40317694697317963,
          1.2224450703824274,
          0.2082749780768603,
          0.9766390364837128,
          0.3563663971744019,
          0.7065731681919482,
          0.010500020720820478,
          1.7858704939058352,
          0.12691209270361992,
          0.40198936344470165
         ]
        ]
       },
       "column": {
        "type": "float",
        "values": [
         0,
         1,
         2,
         3,
         4,
         5,
         6,
         7,
         8,
         9
        ]
       },
       "display_legend": false,
       "row": {
        "type": "float",
        "values": [
         0,
         1,
         2,
         3,
         4,
         5,
         6,
         7,
         8,
         9
        ]
       },
       "scales": {
        "color": "IPY_MODEL_5b239e894be24639a3294f2e8734f35e",
        "column": "IPY_MODEL_4576e07e78a2467086d2f217d959b03f",
        "row": "IPY_MODEL_5bbb2c3b488646fba6896b09991447e0"
       },
       "selected": []
      }
     },
     "d27df54a20984c51959d08c5c8801bb0": {
      "model_module": "bqplot",
      "model_module_version": "^0.2.3",
      "model_name": "ColorScaleModel",
      "state": {
       "_model_name": "ColorScaleModel",
       "_view_name": "ColorScale",
       "colors": [],
       "mid": null,
       "scale_type": "linear",
       "scheme": "RdYlGn"
      }
     },
     "d51c6bb6ff434da688d72a92c78459af": {
      "model_module": "bqplot",
      "model_module_version": "^0.2.3",
      "model_name": "OrdinalScaleModel",
      "state": {
       "domain": []
      }
     },
     "dabe9ad698f14882bda09f5c78080395": {
      "model_module": "bqplot",
      "model_module_version": "^0.2.3",
      "model_name": "OrdinalScaleModel",
      "state": {
       "domain": [],
       "reverse": true
      }
     },
     "db949cf7ed9e49999618f9819b1afa11": {
      "model_module": "bqplot",
      "model_module_version": "^0.2.3",
      "model_name": "AxisModel",
      "state": {
       "scale": "IPY_MODEL_fdae919eaf8f4ac28aabc597dead6858",
       "side": "bottom",
       "tick_values": {
        "type": null,
        "values": null
       }
      }
     },
     "df673fedffb149e88dc6e7d5425e0a87": {
      "model_module": "bqplot",
      "model_module_version": "^0.2.3",
      "model_name": "ColorScaleModel",
      "state": {
       "_model_name": "ColorScaleModel",
       "_view_name": "ColorScale",
       "colors": [],
       "mid": null,
       "scale_type": "linear",
       "scheme": "RdYlGn"
      }
     },
     "e0e54cd8776c43bfb31d13c76a1fbe09": {
      "model_module": "jupyter-js-widgets",
      "model_module_version": "~2.1.4",
      "model_name": "LayoutModel",
      "state": {
       "_model_module_version": "~2.1.4",
       "_view_module_version": "~2.1.4",
       "min_width": "125px"
      }
     },
     "eb0730d9d66340519d9efcb2838d7f9f": {
      "model_module": "bqplot",
      "model_module_version": "^0.2.3",
      "model_name": "LinearScaleModel",
      "state": {
       "allow_padding": false,
       "max": 1,
       "min": 0,
       "stabilized": false
      }
     },
     "f0faf4256a7e409ea7945b1fa40c3081": {
      "model_module": "jupyter-js-widgets",
      "model_module_version": "~2.1.4",
      "model_name": "LayoutModel",
      "state": {
       "_model_module_version": "~2.1.4",
       "_view_module_version": "~2.1.4",
       "min_width": "125px"
      }
     },
     "f1acfa4957cd429ebd535f9da74bec39": {
      "model_module": "bqplot",
      "model_module_version": "^0.2.3",
      "model_name": "AxisModel",
      "state": {
       "scale": "IPY_MODEL_f2ba19b540fd4c28b18a2aaee497b168",
       "side": "bottom",
       "tick_values": {
        "type": null,
        "values": null
       }
      }
     },
     "f2ba19b540fd4c28b18a2aaee497b168": {
      "model_module": "bqplot",
      "model_module_version": "^0.2.3",
      "model_name": "LinearScaleModel",
      "state": {
       "stabilized": false
      }
     },
     "f930c83cd8504e1fafee63ac5d351d2e": {
      "model_module": "bqplot",
      "model_module_version": "^0.2.3",
      "model_name": "GridHeatMapModel",
      "state": {
       "color": {
        "type": "float",
        "values": [
         [
          1.764052345967664,
          0.4001572083672233,
          0.9787379841057392,
          2.240893199201458,
          1.8675579901499675,
          -0.977277879876411,
          0.9500884175255894,
          -0.1513572082976979,
          -0.10321885179355784,
          0.41059850193837233
         ],
         [
          0.144043571160878,
          1.454273506962975,
          0.7610377251469934,
          0.12167501649282841,
          0.44386323274542566,
          0.33367432737426683,
          1.4940790731576061,
          -0.20515826376580087,
          0.31306770165090136,
          -0.8540957393017248
         ],
         [
          -2.5529898158340787,
          0.6536185954403606,
          0.8644361988595057,
          -0.7421650204064419,
          2.2697546239876076,
          -1.4543656745987648,
          0.04575851730144607,
          -0.1871838500258336,
          1.5327792143584575,
          1.469358769900285
         ],
         [
          0.1549474256969163,
          0.37816251960217356,
          -0.8877857476301128,
          -1.980796468223927,
          -0.3479121493261526,
          0.15634896910398005,
          1.2302906807277207,
          1.2023798487844113,
          -0.3873268174079523,
          -0.30230275057533557
         ],
         [
          -1.0485529650670926,
          -1.4200179371789752,
          -1.7062701906250126,
          1.9507753952317897,
          -0.5096521817516535,
          -0.4380743016111864,
          -1.2527953600499262,
          0.7774903558319101,
          -1.6138978475579515,
          -0.2127402802139687
         ],
         [
          -0.8954665611936756,
          0.386902497859262,
          -0.510805137568873,
          -1.180632184122412,
          -0.028182228338654868,
          0.42833187053041766,
          0.06651722238316789,
          0.3024718977397814,
          -0.6343220936809636,
          -0.3627411659871381
         ],
         [
          -0.672460447775951,
          -0.3595531615405413,
          -0.813146282044454,
          -1.7262826023316769,
          0.17742614225375283,
          -0.4017809362082619,
          -1.6301983469660446,
          0.4627822555257742,
          -0.9072983643832422,
          0.05194539579613895
         ],
         [
          0.7290905621775369,
          0.12898291075741067,
          1.1394006845433007,
          -1.2348258203536526,
          0.402341641177549,
          -0.6848100909403132,
          -0.8707971491818818,
          -0.5788496647644155,
          -0.31155253212737266,
          0.05616534222974544
         ],
         [
          -1.1651498407833565,
          0.9008264869541871,
          0.46566243973045984,
          -1.5362436862772237,
          1.4882521937955997,
          1.8958891760305832,
          1.1787795711596507,
          -0.17992483581235091,
          -1.0707526215105425,
          1.0544517269311366
         ],
         [
          -0.40317694697317963,
          1.2224450703824274,
          0.2082749780768603,
          0.9766390364837128,
          0.3563663971744019,
          0.7065731681919482,
          0.010500020720820478,
          1.7858704939058352,
          0.12691209270361992,
          0.40198936344470165
         ]
        ]
       },
       "column": {
        "type": "float",
        "values": [
         10,
         11,
         12,
         13,
         14,
         15,
         16,
         17,
         18,
         19
        ]
       },
       "display_legend": false,
       "row": {
        "type": "float",
        "values": [
         0,
         1,
         2,
         3,
         4,
         5,
         6,
         7,
         8
        ]
       },
       "row_align": "end",
       "scales": {
        "color": "IPY_MODEL_aa6afff0a84849c1bc49c219d54168b4",
        "column": "IPY_MODEL_9b89ca3127c9438884901cb8e3b671ea",
        "row": "IPY_MODEL_82ceb0cd633f47be8f7ce525cbb0bfdd"
       },
       "selected": []
      }
     },
     "f9636c32a2de4cab9bd2f947cefd19b3": {
      "model_module": "bqplot",
      "model_module_version": "^0.2.3",
      "model_name": "FigureModel",
      "state": {
       "_dom_classes": [],
       "layout": "IPY_MODEL_6209ae03f2564e66863ffe91cb8f9244",
       "marks": [
        "IPY_MODEL_bb83d4c3aa8c428bad501063845e536d"
       ],
       "max_aspect_ratio": 6,
       "padding_y": 0,
       "scale_x": "IPY_MODEL_70b1e8fea02141e3ab1f95369341df4f",
       "scale_y": "IPY_MODEL_7519df8ca31d474eae038ae47c6ed4b5"
      }
     },
     "fdae919eaf8f4ac28aabc597dead6858": {
      "model_module": "bqplot",
      "model_module_version": "^0.2.3",
      "model_name": "LinearScaleModel",
      "state": {
       "stabilized": false
      }
     },
     "fe9193798ec84de9a18e357bcb6becf8": {
      "model_module": "jupyter-js-widgets",
      "model_module_version": "~2.1.4",
      "model_name": "LayoutModel",
      "state": {
       "_model_module_version": "~2.1.4",
       "_view_module_version": "~2.1.4",
       "min_width": "125px"
      }
     },
     "fec68d8ad9b748a4addcd30ea60bb36e": {
      "model_module": "bqplot",
      "model_module_version": "^0.2.3",
      "model_name": "ColorScaleModel",
      "state": {
       "_model_name": "ColorScaleModel",
       "_view_name": "ColorScale",
       "colors": [],
       "mid": null,
       "scale_type": "linear",
       "scheme": "RdYlGn"
      }
     },
     "ff242f448fd74f3799b80fb182329b40": {
      "model_module": "bqplot",
      "model_module_version": "^0.2.3",
      "model_name": "FigureModel",
      "state": {
       "_dom_classes": [],
       "axes": [
        "IPY_MODEL_87d1e24bb7ab42be9548df57036ed64a",
        "IPY_MODEL_7d927e47c2d74f95a4389699d34145ff"
       ],
       "layout": "IPY_MODEL_f0faf4256a7e409ea7945b1fa40c3081",
       "marks": [
        "IPY_MODEL_f930c83cd8504e1fafee63ac5d351d2e"
       ],
       "max_aspect_ratio": 6,
       "padding_y": 0,
       "scale_x": "IPY_MODEL_6c9dbb2b27f14e118227e07f787c682f",
       "scale_y": "IPY_MODEL_39dcac74201a41a69e4a76d57447df92"
      }
     }
    },
    "version_major": 1,
    "version_minor": 0
   }
  }
 },
 "nbformat": 4,
 "nbformat_minor": 4
}
