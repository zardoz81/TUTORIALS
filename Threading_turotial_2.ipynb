{
 "cells": [
  {
   "cell_type": "code",
   "execution_count": 1,
   "metadata": {},
   "outputs": [],
   "source": [
    "import threading\n",
    "import numpy as np\n",
    "import ctypes\n",
    "\n",
    "class Vid(threading.Thread):\n",
    "\n",
    "    def __init__(self, name):\n",
    "        threading.Thread.__init__(self)\n",
    "        self.Valv = 0\n",
    "        self.name = name\n",
    "        self.stop = False\n",
    "    \n",
    "    def run(self):\n",
    "        while not self.stop:\n",
    "            self.Valv = np.random.rand()\n",
    "            \n",
    "    def get_id(self): \n",
    "  \n",
    "        # returns id of the respective thread \n",
    "        if hasattr(self, '_thread_id'): \n",
    "            return self._thread_id \n",
    "        for id, thread in threading._active.items(): \n",
    "            if thread is self: \n",
    "                return id\n",
    "   \n",
    "    def raise_exception(self): \n",
    "        thread_id = self.get_id()\n",
    "        print(thread_id)\n",
    "        res = ctypes.pythonapi.PyThreadState_SetAsyncExc(thread_id, ctypes.py_object(SystemExit)) \n",
    "        print(res)\n",
    "        if res > 1: \n",
    "            ctypes.pythonapi.PyThreadState_SetAsyncExc(thread_id, 0) \n",
    "            print('Exception raise failure')\n",
    "\n",
    "            \n",
    "vid = Vid('Thread 1')"
   ]
  },
  {
   "cell_type": "code",
   "execution_count": 2,
   "metadata": {},
   "outputs": [],
   "source": [
    "vid.start()"
   ]
  },
  {
   "cell_type": "code",
   "execution_count": 3,
   "metadata": {},
   "outputs": [
    {
     "data": {
      "text/plain": [
       "0.22699501616458262"
      ]
     },
     "execution_count": 3,
     "metadata": {},
     "output_type": "execute_result"
    }
   ],
   "source": [
    "vid.Valv"
   ]
  },
  {
   "cell_type": "code",
   "execution_count": 8,
   "metadata": {},
   "outputs": [
    {
     "data": {
      "text/plain": [
       "False"
      ]
     },
     "execution_count": 8,
     "metadata": {},
     "output_type": "execute_result"
    }
   ],
   "source": [
    "vid.is_alive()"
   ]
  },
  {
   "cell_type": "code",
   "execution_count": 7,
   "metadata": {},
   "outputs": [
    {
     "name": "stdout",
     "output_type": "stream",
     "text": [
      "None\n",
      "0\n"
     ]
    }
   ],
   "source": [
    "vid.raise_exception()\n",
    "vid.join() "
   ]
  },
  {
   "cell_type": "code",
   "execution_count": 5,
   "metadata": {},
   "outputs": [],
   "source": [
    "vid.stop = True"
   ]
  },
  {
   "cell_type": "code",
   "execution_count": null,
   "metadata": {},
   "outputs": [],
   "source": []
  },
  {
   "cell_type": "code",
   "execution_count": null,
   "metadata": {},
   "outputs": [],
   "source": []
  },
  {
   "cell_type": "code",
   "execution_count": null,
   "metadata": {},
   "outputs": [],
   "source": [
    "\"\"\"\n",
    "ADDITION TO THE THREADING TUTORIAL\n",
    "\"\"\"\n",
    "\n",
    "%%time \n",
    "\n",
    "from multiprocessing.dummy import Pool as ThreadPool\n",
    "def record_torque(args):\n",
    "    torobo, r = args\n",
    "    TORQUE = []\n",
    "    t = 0\n",
    "    step = r.sleep_dur.to_sec()\n",
    "    while t < 10:\n",
    "        TORQUE.append(get_cur_joints_torque(torobo))\n",
    "        r.sleep()\n",
    "        t += step\n",
    "    return np.stack(TORQUE)\n",
    "\n",
    "pool = ThreadPool(1)\n",
    "\"\"\"\n",
    "The follwing line blocks code and untill all the workers have returned. Returns a list. \n",
    "Because `map` takes a tuple of arguments that it distributes among workers in the ThreadPool.\n",
    "if there were more than one, we'd get a list of size more that one (one from each worker) \n",
    "\"\"\"\n",
    "# sync_result = pool.map(record_torque, ([torobo, r], ))\n",
    "\n",
    "\"\"\" \n",
    "this line does not block and runs in the background. You call the line below at any time, but\n",
    "it will return AFTER the thread has exited.\"\"\" \n",
    "async_result = pool.apply_async(record_torque, ([torobo, r], )) \n",
    "# do something else while the pool (of threads, or just one thread) is running \"\"\"\n",
    "# return_val = async_result.get()\n"
   ]
  },
  {
   "cell_type": "code",
   "execution_count": null,
   "metadata": {},
   "outputs": [],
   "source": []
  },
  {
   "cell_type": "code",
   "execution_count": 9,
   "metadata": {},
   "outputs": [
    {
     "ename": "NameError",
     "evalue": "name 'plt' is not defined",
     "output_type": "error",
     "traceback": [
      "\u001b[0;31m---------------------------------------------------------------------------\u001b[0m",
      "\u001b[0;31mNameError\u001b[0m                                 Traceback (most recent call last)",
      "\u001b[0;32m<ipython-input-9-39d73e3d99e9>\u001b[0m in \u001b[0;36m<module>\u001b[0;34m\u001b[0m\n\u001b[1;32m      2\u001b[0m    AND UPDATES BOUNDING BOXES AROUND THE OBJECT USING CV2 IMSHOW\"\"\"\n\u001b[1;32m      3\u001b[0m \u001b[0;34m\u001b[0m\u001b[0m\n\u001b[0;32m----> 4\u001b[0;31m \u001b[0mplt\u001b[0m\u001b[0;34m.\u001b[0m\u001b[0mswitch_backend\u001b[0m\u001b[0;34m(\u001b[0m\u001b[0;34m'TkAgg'\u001b[0m\u001b[0;34m)\u001b[0m\u001b[0;34m\u001b[0m\u001b[0;34m\u001b[0m\u001b[0m\n\u001b[0m\u001b[1;32m      5\u001b[0m \u001b[0;34m\u001b[0m\u001b[0m\n\u001b[1;32m      6\u001b[0m \u001b[0msys\u001b[0m\u001b[0;34m.\u001b[0m\u001b[0mpath\u001b[0m\u001b[0;34m.\u001b[0m\u001b[0minsert\u001b[0m\u001b[0;34m(\u001b[0m\u001b[0;36m0\u001b[0m\u001b[0;34m,\u001b[0m \u001b[0;34m'/home/torobo/catkin_ws/src/tutorial/PyTorch-YOLOv3'\u001b[0m\u001b[0;34m)\u001b[0m\u001b[0;34m\u001b[0m\u001b[0;34m\u001b[0m\u001b[0m\n",
      "\u001b[0;31mNameError\u001b[0m: name 'plt' is not defined"
     ]
    }
   ],
   "source": [
    "\"\"\"THIS CELL RUNS EVERYTHING IN A SEPARATE THREAD: SUBSCRIBER THAT STORES VIDEO FRAMES EVERY TIME STEP `IMAGEBUFF`\n",
    "   AND UPDATES BOUNDING BOXES AROUND THE OBJECT USING CV2 IMSHOW\"\"\"\n",
    "\n",
    "plt.switch_backend('TkAgg')\n",
    "\n",
    "sys.path.insert(0, '/home/torobo/catkin_ws/src/tutorial/PyTorch-YOLOv3')\n",
    "from detect_upd import Recog\n",
    "import random\n",
    "recog = Recog()\n",
    "\n",
    "class CV2im(threading.Thread):\n",
    "    \n",
    "    def __init__(self):\n",
    "        s = 'wqerqasdfoiuymnmnbv'\n",
    "        self.wname = ''.join(random.sample(s,len(s)))\n",
    "        threading.Thread.__init__(self)\n",
    "        self.imagebuff = 0\n",
    "        time.sleep(1)\n",
    "        self.keepgoing = False\n",
    "        rospy.Subscriber(\"/camera/color/image_raw\", Image, self.image_callback)\n",
    "        time.sleep(1)\n",
    "        self.T = []\n",
    "        \n",
    "        \n",
    "    def image_callback(self, msg):\n",
    "        self.imagebuff = bridge.imgmsg_to_cv2(msg, \"rgb8\")\n",
    "\n",
    "    def stop(self):\n",
    "        self.keepgoing = False\n",
    "        \n",
    "    def get_gaze_offset(self, cx, cy):\n",
    "        return 640/2 - cx, 480/2 - cy\n",
    "\n",
    "    def get_gaze_grad(self, offset_x, offset_y):\n",
    "        ex = 0.2 * np.tanh(0.025*(offset_x))\n",
    "        ey = 0.2 * np.tanh(0.025*(offset_y))\n",
    "        return ex, ey\n",
    "\n",
    "    def get_box_center(self, x1, y1, box_w, box_h):\n",
    "        return x1 + box_w/2, y1 + box_h/2\n",
    "    \n",
    "    def track_obj(self, x,y,w,h):\n",
    "        global torobo\n",
    "        cx, cy = self.get_box_center(x, y, w, h)\n",
    "        gaze_offset = self.get_gaze_offset(cx,cy)\n",
    "        ex, ey = self.get_gaze_grad(*gaze_offset)\n",
    "        hor, ver = get_cur_joints(torobo)[0][14:16]\n",
    "        torobo.move(ToroboOperator.TORSO_HEAD, positions=[0, 0, np.radians(hor)+ex, np.radians(ver)-ey], duration=1)\n",
    "        \n",
    "    def run(self):\n",
    "        self.keepgoing = True\n",
    "        while True and self.keepgoing:\n",
    "            detections = recog.detect(self.imagebuff)\n",
    "            if detections is not None:\n",
    "                for det in detections:\n",
    "                    for x1, y1, x2, y2, conf, cls_conf, cls_pred in detections:\n",
    "                        if cls_pred == 0:\n",
    "                            box_w = x2 - x1\n",
    "                            box_h = y2 - y1\n",
    "                            image = cv2.rectangle(self.imagebuff, (x1,y1), (x2,y2), (255, 0, 0), 3)\n",
    "                            x, y, w, h = x1, y1, box_w, box_h\n",
    "                            self.track_obj(x, y, w, h)\n",
    "            cv2.imshow(self.wname, cv2.cvtColor(self.imagebuff, cv2.COLOR_RGB2BGR))\n",
    "            \n",
    "            k = cv2.waitKey(3) & 0XFF\n",
    "            if k== 27 :\n",
    "                break\n",
    "            self.T.append(time.time())\n",
    "        cv2.waitKey(1)\n",
    "        cv2.destroyWindow(self.wname)\n",
    "        cv2.waitKey(1)\n",
    "\n",
    "cv2im = CV2im()\n",
    "cv2im.start()"
   ]
  },
  {
   "cell_type": "code",
   "execution_count": null,
   "metadata": {},
   "outputs": [],
   "source": []
  }
 ],
 "metadata": {
  "kernelspec": {
   "display_name": "Python 3",
   "language": "python",
   "name": "python3"
  },
  "language_info": {
   "codemirror_mode": {
    "name": "ipython",
    "version": 3
   },
   "file_extension": ".py",
   "mimetype": "text/x-python",
   "name": "python",
   "nbconvert_exporter": "python",
   "pygments_lexer": "ipython3",
   "version": "3.7.3"
  }
 },
 "nbformat": 4,
 "nbformat_minor": 2
}
