{
 "cells": [
  {
   "cell_type": "code",
   "execution_count": 2,
   "metadata": {},
   "outputs": [
    {
     "name": "stdout",
     "output_type": "stream",
     "text": [
      "TF version: 1.4.0\n",
      "[15.]\n",
      "{<tf.Tensor 'v:0' shape=(1,) dtype=float32>: array([5]), <tf.Tensor 'w:0' shape=(1,) dtype=float32>: array([3])}\n"
     ]
    }
   ],
   "source": [
    "import numpy as np\n",
    "import matplotlib.pyplot as plt\n",
    "from keras.datasets import mnist\n",
    "import time\n",
    "import tensorflow as tf\n",
    "print('TF version:', tf.VERSION)\n",
    "\n",
    "# if we want to run the graph many times, we need to reset it every time before it is run\n",
    "tf.reset_default_graph()\n",
    "\n",
    "# we define named placeholders, these will be initialized with values of the feed_dict:\n",
    "v = tf.placeholder(tf.float32, [1], \"v\")\n",
    "w = tf.placeholder(tf.float32, [1], \"w\")\n",
    "\n",
    "# we define operations on tensors:\n",
    "c = v*w\n",
    "\n",
    "# define a dictionary of values to which to initialize the tensors:\n",
    "a = np.array(5).reshape(1,)\n",
    "b = np.array(3).reshape(1,)\n",
    "\n",
    "# build the dictionary:\n",
    "feed_dict = {v: a, w: b}\n",
    "\n",
    "# start a session:\n",
    "sess = tf.Session()\n",
    "\n",
    "# run the graph in this session. This is equivalent to saying that we evalute the graph's output given the \n",
    "# input tTensors initialized to the values supplied:\n",
    "print(sess.run(c, feed_dict=feed_dict))\n",
    "\n",
    "print(feed_dict)"
   ]
  },
  {
   "cell_type": "code",
   "execution_count": null,
   "metadata": {},
   "outputs": [],
   "source": []
  }
 ],
 "metadata": {
  "kernelspec": {
   "display_name": "Python 3",
   "language": "python",
   "name": "python3"
  },
  "language_info": {
   "codemirror_mode": {
    "name": "ipython",
    "version": 3
   },
   "file_extension": ".py",
   "mimetype": "text/x-python",
   "name": "python",
   "nbconvert_exporter": "python",
   "pygments_lexer": "ipython3",
   "version": "3.6.3"
  }
 },
 "nbformat": 4,
 "nbformat_minor": 2
}
