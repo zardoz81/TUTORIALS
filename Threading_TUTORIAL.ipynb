{
 "cells": [
  {
   "cell_type": "markdown",
   "metadata": {},
   "source": [
    "# See here:\n",
    "\n",
    "https://docs.python.org/2/library/multiprocessing.html#multiprocessing.Process.terminate\n",
    "\n",
    "https://cuyu.github.io/python/2016/08/15/Terminate-multiprocess-in-Python-correctly-and-gracefully\n"
   ]
  },
  {
   "cell_type": "code",
   "execution_count": 1,
   "metadata": {},
   "outputs": [
    {
     "name": "stdout",
     "output_type": "stream",
     "text": [
      "executing\n",
      "executing\n",
      "executing\n",
      "executing\n",
      "executing\n",
      "executing\n",
      "executing\n",
      "executing\n",
      "executing\n",
      "executing\n",
      "executingexecuting\n",
      "\n",
      "executing\n",
      "executing\n",
      "executing\n",
      "executing\n",
      "executing\n",
      "executing\n",
      "executing\n",
      "executing\n",
      "executing\n",
      "executing\n",
      "executingexecuting\n",
      "\n",
      "executing\n",
      "executing\n",
      "executing\n",
      "executing\n",
      "executing\n",
      "executing\n",
      "executing\n",
      "executing\n",
      "executing\n",
      "executing\n",
      "executing\n",
      "executing\n",
      "executing\n",
      "executing\n",
      "executing\n",
      "executing\n",
      "executing\n",
      "executing\n",
      "executing\n",
      "executing\n",
      "executing\n",
      "executing\n",
      "executing\n",
      "executing\n",
      "executing\n",
      "executing\n",
      "executing\n",
      "executing\n",
      "executing\n",
      "executing\n",
      "executing\n",
      "executing\n",
      "executing\n",
      "executing\n",
      "executing\n",
      "executing\n",
      "executing\n",
      "executing\n",
      "executing\n",
      "executing\n",
      "executing\n",
      "executing\n",
      "executing\n",
      "executing\n",
      "executing\n",
      "executing\n",
      "executing\n",
      "executing\n",
      "executing\n",
      "executing\n",
      "executing\n",
      "executing\n",
      "executing\n",
      "executing\n",
      "executing\n",
      "executing\n",
      "executing\n",
      "executing\n",
      "executing\n",
      "executing\n",
      "executing\n",
      "executingexecuting\n",
      "\n",
      "executing\n",
      "executing\n",
      "executing\n",
      "executing\n",
      "executing\n",
      "executing\n",
      "executing\n",
      "executing\n",
      "executing\n",
      "executing\n",
      "executing\n",
      "executing\n",
      "executing\n"
     ]
    }
   ],
   "source": [
    "\"\"\"\n",
    "THIS CODE RUNS A FUNCTION IN SEPARATE THREADS (10). THE FUNCTION ARGUMENTS ARE IN AN ARRAY OF SIZE 10\n",
    "\"\"\"\n",
    "\n",
    "from multiprocessing.dummy import Pool as ThreadPool\n",
    "import requests, time\n",
    "import numpy as np\n",
    "\n",
    "def check(string): # THIS CHECK FUNCTION DOESN'T WORK ON A SERVER\n",
    "    time.sleep(1)\n",
    "    print('executing')\n",
    "    bot_token = '1167168127:AAFVE7qD1Q3dMuCMKwgLuua2CR0ZiSbtl_s'\n",
    "    chat_id =   '348368436' # natalia 585470009   alex 172809443\n",
    "    bot_message = str(string)\n",
    "    send_text = ('https://api.telegram.org/bot' + bot_token +\n",
    "                 '/sendMessage?chat_id=' + str(chat_id) +\n",
    "                 '&parse_mode=Markdown&text=' + bot_message)\n",
    "    response = requests.get(send_text)\n",
    "\n",
    "# Make the Pool of workers\n",
    "pool = ThreadPool(10)\n",
    "\n",
    "# Open the URLs in their own threads and return the results\n",
    "results = pool.map(check, np.random.rand(100))\n",
    "\n",
    "# Close the pool and wait for the work to finish\n",
    "pool.close()\n",
    "pool.join()"
   ]
  },
  {
   "cell_type": "code",
   "execution_count": 3,
   "metadata": {},
   "outputs": [
    {
     "name": "stdout",
     "output_type": "stream",
     "text": [
      "<Process(Process-2, initial)> False\n",
      "<Process(Process-2, started)> True\n"
     ]
    }
   ],
   "source": [
    "from multiprocessing import Process\n",
    "import requests, time\n",
    "import numpy as np\n",
    "import datetime\n",
    "\n",
    "def check(string): # THIS CHECK FUNCTION DOESN'T WORK ON A SERVER\n",
    "    while True:\n",
    "        time.sleep(0.5)\n",
    "        string = datetime.datetime.now().strftime(\"%H:%M:%S\")\n",
    "        bot_token = '1167168127:AAFVE7qD1Q3dMuCMKwgLuua2CR0ZiSbtl_s'\n",
    "        chat_id =   '348368436' # natalia 585470009   alex 172809443\n",
    "        bot_message = str(string)\n",
    "        send_text = ('https://api.telegram.org/bot' + bot_token +\n",
    "                     '/sendMessage?chat_id=' + str(chat_id) +\n",
    "                     '&parse_mode=Markdown&text=' + bot_message)\n",
    "        response = requests.get(send_text)\n",
    "\n",
    "# start process:\n",
    "p = Process(target=check, args=('asdf', )) # it is IMPORTANT to pass it as a tuple !!!!\n",
    "print (p, p.is_alive())\n",
    "p.start()\n",
    "print (p, p.is_alive())"
   ]
  },
  {
   "cell_type": "code",
   "execution_count": 4,
   "metadata": {},
   "outputs": [
    {
     "name": "stdout",
     "output_type": "stream",
     "text": [
      "<Process(Process-2, started)> True\n",
      "<Process(Process-2, stopped[SIGTERM])> False\n"
     ]
    }
   ],
   "source": [
    "# terminate process:\n",
    "p.terminate()\n",
    "print (p, p.is_alive())\n",
    "p.join()\n",
    "print (p, p.is_alive())"
   ]
  },
  {
   "cell_type": "code",
   "execution_count": null,
   "metadata": {},
   "outputs": [],
   "source": []
  }
 ],
 "metadata": {
  "kernelspec": {
   "display_name": "Python 3",
   "language": "python",
   "name": "python3"
  },
  "language_info": {
   "codemirror_mode": {
    "name": "ipython",
    "version": 3
   },
   "file_extension": ".py",
   "mimetype": "text/x-python",
   "name": "python",
   "nbconvert_exporter": "python",
   "pygments_lexer": "ipython3",
   "version": "3.7.3"
  }
 },
 "nbformat": 4,
 "nbformat_minor": 2
}