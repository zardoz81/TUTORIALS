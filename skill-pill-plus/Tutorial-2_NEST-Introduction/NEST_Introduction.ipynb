{
 "cells": [
  {
   "cell_type": "markdown",
   "metadata": {},
   "source": [
    "# Introduction to NEST"
   ]
  },
  {
   "cell_type": "markdown",
   "metadata": {},
   "source": [
    "NEST stands for Neural Simulation Tool. It's capabilities are intented for the simulation of point neurons and neurons with few electrical compartments in large networks. With this framework, it's possible to study phenomenological synapse models (STDP, STP) as well as gap junctions, neuromodulation and structural plasticity. It's also capable of simulating many different types of neuron models such as rate models and binary neurons.\n",
    "\n",
    "It's programmed in C++ with a Python frontend so that simulations can be run easily with a couple of lines of code. Moreover, it supports for hybrid parallelization using OpenMP and MPI libraries.\n",
    "\n",
    "### Why we use NEST?\n",
    "\n",
    "Well, each neuron model needs to be assigned an appropiate solver. The solver requires to perform exact integration  and spikes are usually restricted to the computation time scale. Moreover, spike interaction can be performed by event-driven simulation or a continous time simulation for some models.\n",
    "\n",
    "Besides these reasons, the programmers of NEST maintain the code and its development is driven by scientific needs."
   ]
  },
  {
   "cell_type": "markdown",
   "metadata": {},
   "source": [
    "The NEST simulator recreates the electrophysiological experiment in the laboratory. Inside this framework, a neural system has a collection of **Nodes** and **Connections** which are defined by the user's code. **Nodes** represent *neurons* and *devices* whereas **Connections** represent *synapses*.\n",
    "\n",
    "To measure activity of a neuron or of a neural system, you may connect *devices* to them such as a voltmeter, a spike generator, etc. These instruments are usually present in all electrophysiological experiments! In NEST, the readings of these devices are written on to memory and can be accessed and plotted after the simulation is finished."
   ]
  },
  {
   "cell_type": "markdown",
   "metadata": {},
   "source": [
    "PyNEST is a python library that provides the instructions for the python interpreter to interact with the NEST simulator.\n",
    "\n",
    "In the following tutorial, we will cover the following aspects of the library:\n",
    "\n",
    "* Creating nodes\n",
    "* Connecting nodes with default and specific connectivities\n",
    "* Performing simulations \n",
    "* Extracting and plotting measurements"
   ]
  },
  {
   "cell_type": "markdown",
   "metadata": {},
   "source": [
    "**Documentation: http://nest-simulator.org/documentation**"
   ]
  },
  {
   "cell_type": "markdown",
   "metadata": {},
   "source": [
    "Before we start, let's import the necessary libraries."
   ]
  },
  {
   "cell_type": "code",
   "execution_count": 21,
   "metadata": {},
   "outputs": [],
   "source": [
    "import nest\n",
    "import numpy as np\n",
    "import matplotlib.pyplot as plt\n",
    "%matplotlib inline"
   ]
  },
  {
   "cell_type": "code",
   "execution_count": 22,
   "metadata": {},
   "outputs": [],
   "source": [
    "plt.rcParams['figure.dpi'] = 300.0 # modifying dots per inch for figures"
   ]
  },
  {
   "cell_type": "markdown",
   "metadata": {},
   "source": [
    "Please note that if you need to import other packages like scipy or scikit-learn, you should import these before nest."
   ]
  },
  {
   "cell_type": "markdown",
   "metadata": {},
   "source": [
    "**For NEST to simulate different experiments, its kernel (core functionality) needs to be reseted for every new simulation. Please remember to run this code before running each simulation.**"
   ]
  },
  {
   "cell_type": "code",
   "execution_count": 23,
   "metadata": {},
   "outputs": [],
   "source": [
    "nest.ResetKernel() # reset simulation kernel"
   ]
  },
  {
   "cell_type": "markdown",
   "metadata": {},
   "source": [
    "### First things first: accesing help"
   ]
  },
  {
   "cell_type": "code",
   "execution_count": 24,
   "metadata": {},
   "outputs": [
    {
     "name": "stdout",
     "output_type": "stream",
     "text": [
      "Type 'nest.helpdesk()' to access the online documentation in a browser.\n",
      "Type 'nest.help(object)' to get help on a NEST object or command.\n",
      "\n",
      "Type 'nest.Models()' to see a list of available models in NEST.\n",
      "Type 'nest.authors()' for information about the makers of NEST.\n",
      "Type 'nest.sysinfo()' to see details on the system configuration.\n",
      "Type 'nest.version()' for information about the NEST version.\n",
      "\n",
      "For more information visit https://www.nest-simulator.org.\n"
     ]
    }
   ],
   "source": [
    "nest.help()"
   ]
  },
  {
   "cell_type": "code",
   "execution_count": 25,
   "metadata": {},
   "outputs": [],
   "source": [
    "# nest.helpdesk() # opens the html helpbook for NEST commands "
   ]
  },
  {
   "cell_type": "markdown",
   "metadata": {},
   "source": [
    "### Creating nodes and connections with default values"
   ]
  },
  {
   "cell_type": "markdown",
   "metadata": {},
   "source": [
    "Conceptually, neural networks consists of neurons and connections. Nodes can be *neurons*, *sub-networks* or *devices* inside the NEST framework. We will use devices to stimulate neurons and to measure their membrane potential. Sub-networks, on the other hand, are arrangements of neurons whose parameters may be modified as a group. We will look at sub-networks in the following lectures. \n",
    "\n",
    "For now, we will focus on constructing a leaky integrate-and-fire (LIF) neuron with delta-shaped synaptic currents:"
   ]
  },
  {
   "cell_type": "markdown",
   "metadata": {},
   "source": [
    "<img src=\"https://icwww.epfl.ch/~gerstner/SPNM/img378.gif\"/>"
   ]
  },
  {
   "cell_type": "markdown",
   "metadata": {},
   "source": [
    "In this figure, a delta-shaped pulse $\\delta(t-t_j^f)$ from neuron $j$ is being transmitted along its axon until it reaches neuron $i$'s dendrites through a synapse.\n",
    "\n",
    "Synapses are modelled as low-pass RC circuit filters which output a current $\\alpha(t-t_j^f)$. These presynaptic currents reach the soma as an input current $I(t)$ which charges the capacitor $C$ (integration) while some of it leaks out through the resistance $R$. The electrical components here represent a circuit modelization of the biological mechanisms happening at the synapse and the soma.\n",
    "\n",
    "In this model, the membrane's potential is represented by capacitor $C$ such that when it has enough charge and reaches the threshold potential $\\vartheta$, a spike $\\delta(t-t_i^f)$ is generated and transmitted."
   ]
  },
  {
   "cell_type": "code",
   "execution_count": 26,
   "metadata": {},
   "outputs": [],
   "source": [
    "def getNewNeuron(type='iaf_psc_alpha'):\n",
    "    \n",
    "    nest.ResetKernel()\n",
    "    nest.SetKernelStatus({\"resolution\": 0.01})\n",
    "    neuron=nest.Create(type)\n",
    "    spikegenerator=nest.Create('spike_generator')\n",
    "    voltmeter=nest.Create('voltmeter', params={\"interval\": 0.01})\n",
    "\n",
    "    nest.Connect(spikegenerator, neuron, syn_spec={'weight':1e3})\n",
    "    # connect voltmeter to the neuron for measurements\n",
    "    nest.Connect(voltmeter, neuron)\n",
    "    \n",
    "    nest.SetStatus(spikegenerator,{'spike_times': [10.,50.]})\n",
    "    \n",
    "    # create add a spikedetector!\n",
    "    spikedetector = nest.Create('spike_detector')\n",
    "    nest.Connect(neuron, spikedetector)\n",
    "    \n",
    "    return neuron, spikegenerator, voltmeter, spikedetector"
   ]
  },
  {
   "cell_type": "markdown",
   "metadata": {},
   "source": [
    "Parameters of this neuron can be accessed with the `GetStatus()` function:"
   ]
  },
  {
   "cell_type": "markdown",
   "metadata": {},
   "source": [
    "From this list, please note the values of `C_m`, `E_L`, `tau_m`, `V_m`, `V_reset` and `V_th`. The units of each parameter is not represented but are standarized to `pF` (picofaraday), `ms` (miliseconds) and `mV` (milivolts). \n",
    "\n",
    "You might have noticed that there is no parameter for the membrane resistance `R_m` as shown in the previous figure. \n",
    "\n",
    "**1.- Can you think of an explanation for this?**"
   ]
  },
  {
   "cell_type": "markdown",
   "metadata": {},
   "source": [
    "<font color='red'>tau_m is membrane capacitance multiplied by membrane resistance</font>"
   ]
  },
  {
   "cell_type": "markdown",
   "metadata": {},
   "source": [
    "We may also retrieve some particular values for a given set of parameters:"
   ]
  },
  {
   "cell_type": "markdown",
   "metadata": {},
   "source": [
    "Parameters of this device can be modified using the `SetStatus()` function:"
   ]
  },
  {
   "cell_type": "markdown",
   "metadata": {},
   "source": [
    "These connectivities are not reflected in the node's parameter list but you may use `GetConnections()` function to review them. The return value of this function is a tuple that contains a list in which the first and second values are the global source and target node identifiers (ids) in the simulation. These parameters are shown in the node's parameter list."
   ]
  },
  {
   "cell_type": "markdown",
   "metadata": {},
   "source": [
    "**2.- Can you grab the value of the target id from the previous output?**"
   ]
  },
  {
   "cell_type": "markdown",
   "metadata": {},
   "source": [
    "Simulate for 100 ms and observe the results"
   ]
  },
  {
   "cell_type": "code",
   "execution_count": 33,
   "metadata": {},
   "outputs": [
    {
     "name": "stdout",
     "output_type": "stream",
     "text": [
      "I_e: 600.0\n"
     ]
    },
    {
     "data": {
      "image/png": "[encoded data removed]",
      "text/plain": [
       "<Figure size 432x288 with 1 Axes>"
      ]
     },
     "metadata": {
      "needs_background": "light"
     },
     "output_type": "display_data"
    }
   ],
   "source": [
    "%matplotlib inline\n",
    "### run simulation for 100ms\n",
    "\n",
    "# neuron_type = 'iaf_psc_delta'\n",
    "# neuron_type = 'iaf_psc_alpha'\n",
    "neuron_type = 'hh_psc_alpha'\n",
    "neuron, spikegenerator, voltmeter, spikedetector = getNewNeuron(type=neuron_type)\n",
    "\n",
    "\n",
    "nest.SetStatus(neuron, {'I_e':600.0})\n",
    "# nest.SetStatus(neuron, {'V_th':30.0})\n",
    "\n",
    "print('I_e: {}'.format(nest.GetStatus(neuron, {'I_e'})[0][0]))\n",
    "# print('V_th: {}'.format(nest.GetStatus(neuron, {'V_th'})[0][0]))\n",
    "nest.Simulate(100.)\n",
    "\n",
    "# read out recording time and voltage from voltmeter (check the parameter list!)\n",
    "times=nest.GetStatus(voltmeter)[0]['events']['times']\n",
    "voltage=nest.GetStatus(voltmeter)[0]['events']['V_m']\n",
    "\n",
    "# plot results\n",
    "plt.plot(times,voltage)\n",
    "plt.xlabel('Time (ms)');\n",
    "plt.ylabel('Membrane potential (mV)')\n",
    "plt.grid(linestyle='-', linewidth=.25, alpha=.7)"
   ]
  },
  {
   "cell_type": "markdown",
   "metadata": {},
   "source": [
    "**3.- What can we observe here? Are these neuron spikes?** What happens if we modify the external current `I_e` or the threshold voltage `V_th` of the neuron model? How about modifying the synaptic connection between the spike generator and the neuron?"
   ]
  },
  {
   "cell_type": "code",
   "execution_count": 34,
   "metadata": {},
   "outputs": [
    {
     "name": "stdout",
     "output_type": "stream",
     "text": [
      "I_e: 300.0\n",
      "V_th: 30.0\n"
     ]
    },
    {
     "data": {
      "image/png": "[encoded data removed]",
      "text/plain": [
       "<Figure size 432x288 with 1 Axes>"
      ]
     },
     "metadata": {
      "needs_background": "light"
     },
     "output_type": "display_data"
    }
   ],
   "source": [
    "%matplotlib inline\n",
    "### run simulation for 100ms\n",
    "\n",
    "# neuron_type = 'iaf_psc_delta'\n",
    "neuron_type = 'iaf_psc_alpha'\n",
    "# neuron_type = 'hh_psc_alpha'\n",
    "\n",
    "neuron, spikegenerator, voltmeter, spikedetector = getNewNeuron(neuron_type)\n",
    "\n",
    "\n",
    "nest.SetStatus(neuron, {'I_e':300.0})\n",
    "nest.SetStatus(neuron, {'V_th':30.0})\n",
    "\n",
    "\n",
    "print('I_e: {}'.format(nest.GetStatus(neuron, {'I_e'})[0][0]))\n",
    "print('V_th: {}'.format(nest.GetStatus(neuron, {'V_th'})[0][0]))\n",
    "nest.Simulate(100.)\n",
    "\n",
    "# read out recording time and voltage from voltmeter (check the parameter list!)\n",
    "times=nest.GetStatus(voltmeter)[0]['events']['times']\n",
    "voltage=nest.GetStatus(voltmeter)[0]['events']['V_m']\n",
    "\n",
    "# plot results\n",
    "plt.plot(times,voltage)\n",
    "plt.xlabel('Time (ms)');\n",
    "plt.ylabel('Membrane potential (mV)')\n",
    "plt.grid(linestyle='-', linewidth=.25, alpha=.7)"
   ]
  },
  {
   "cell_type": "markdown",
   "metadata": {},
   "source": [
    "In this neuron model, the membrane potential does not follow the biologically observed dynamics that neurons have. Their use is limited to understand and experiment with network dynamics and spiking activity. \n",
    "\n",
    "For comparison, let's observe the membrane potential of a **HH-neuron model** (Hodgkin and Huxley, 1952). This model was the conclusion of a series of papers concerned with the flow of electric current through the surface membrane of the giant nerve fibre in the squid. \n",
    "\n",
    "<img src=\"https://www.researchgate.net/publication/276491039/figure/fig2/AS:615036821184523@1523647613862/The-squid-giant-axon-The-giant-axon-is-a-very-large-up-to-1-mm-in-diameter-and-long.png\" width=600 height=600/>\n",
    "\n",
    "Using voltage-clamp experiments and by varying extracellular sodium and potassium concentrations, Hodgkin and Huxley developed a model in which the properties of an excitable cell are described by a set of ordinary differential equations.  For simplicity, we will not focus on these equations. NEST's framework integrates these equations to obtain the instantaneous membrane potential. The following figure represents an electric circuit model of the neuron's membrane."
   ]
  },
  {
   "cell_type": "markdown",
   "metadata": {},
   "source": [
    "<img src=\"HH-model.png\" width=600 height=600/>"
   ]
  },
  {
   "cell_type": "markdown",
   "metadata": {},
   "source": [
    "The HH-model considers the *ionic channels* present on the cellular membrane. These channels allows the conduction of specific types of ions. Sodium channels (Na+) are scarce inside the cell, so that when sodium channel opens, positive charges rush into the cell to cause excitation. Potassium ions (K+) are rich inside the cell, so that when potassium channel opens, positive charges rush out of the cell to cause inhibition. The model assumes a *leak* current composed of all other remaining ionic currents (Cl, Mg, etc). Thus, from circuit analysis we can obtain the following equation:\n",
    "\n",
    "$$C_m \\frac{dV}{dt} = \\bar{g_{Na}}m^3h(E_{Na}-V) + \\bar{g_K}n^4(E_K-V) + g_{Leak}(E_{Leak}-V) + I$$"
   ]
  },
  {
   "cell_type": "markdown",
   "metadata": {},
   "source": [
    "Where the conductances $g_{Na}$ and $g_{K}$ are:\n",
    "    \n",
    "$$ g_{Na} = \\bar{g_{Na}}m^3h $$\n",
    "$$ g_{K} = \\bar{g_K}n^4 $$"
   ]
  },
  {
   "cell_type": "markdown",
   "metadata": {},
   "source": [
    "Let's see these parameters in NEST by creating a `hh_psc_alpha` neuron. A HH-model neuron with delta-shaped synaptic currents."
   ]
  },
  {
   "cell_type": "markdown",
   "metadata": {},
   "source": [
    "As with the LIF neuron model, these parameters are expressed in standard units such as `mV` (milivolts), `pF` (picofaraday), `ms` (miliseconds),`nS` (nanosiemens, unit of conductance) and `pA` (picoamper). We will use the default values for them."
   ]
  },
  {
   "cell_type": "code",
   "execution_count": 56,
   "metadata": {},
   "outputs": [
    {
     "name": "stdout",
     "output_type": "stream",
     "text": [
      "I_e: 750.0\n"
     ]
    },
    {
     "data": {
      "image/png": "[encoded data removed]",
      "text/plain": [
       "<Figure size 432x288 with 1 Axes>"
      ]
     },
     "metadata": {
      "needs_background": "light"
     },
     "output_type": "display_data"
    }
   ],
   "source": [
    "%matplotlib inline\n",
    "### run simulation for 100ms\n",
    "\n",
    "# neuron_type = 'iaf_psc_delta'\n",
    "# neuron_type = 'iaf_psc_alpha'\n",
    "neuron_type = 'hh_psc_alpha'\n",
    "neuron, spikegenerator, voltmeter, spikedetector = getNewNeuron(type=neuron_type)\n",
    "\n",
    "\n",
    "nest.SetStatus(neuron, {'I_e':750.0})\n",
    "# nest.SetStatus(neuron, {'V_th':10.0})\n",
    "\n",
    "print('I_e: {}'.format(nest.GetStatus(neuron, {'I_e'})[0][0]))\n",
    "# print('V_th: {}'.format(nest.GetStatus(neuron, {'V_th'})[0][0]))\n",
    "nest.Simulate(100.)\n",
    "\n",
    "# read out recording time and voltage from voltmeter (check the parameter list!)\n",
    "times=nest.GetStatus(voltmeter)[0]['events']['times']\n",
    "voltage=nest.GetStatus(voltmeter)[0]['events']['V_m']\n",
    "\n",
    "# plot results\n",
    "plt.plot(times,voltage)\n",
    "plt.xlabel('Time (ms)');\n",
    "plt.ylabel('Membrane potential (mV)')\n",
    "plt.grid(linestyle='-', linewidth=.25, alpha=.7)"
   ]
  },
  {
   "cell_type": "code",
   "execution_count": 36,
   "metadata": {},
   "outputs": [
    {
     "name": "stdout",
     "output_type": "stream",
     "text": [
      "Number of spikes: 2\n"
     ]
    }
   ],
   "source": [
    "spikes=nest.GetStatus(spikedetector, \"n_events\")[0]\n",
    "print(\"Number of spikes: {0}\".format(spikes))"
   ]
  },
  {
   "cell_type": "markdown",
   "metadata": {},
   "source": [
    "Could you observe the spikes? Just after a spike, the membrane potential resets to -77 mV and a short refractory period of 2 ms (check these parameter values from the parameter list shown above!). During this period, the neuron is unable to react to excitation.\n",
    "\n",
    "**5.- Can you try exciting the neuron during this period to observe this phenomena?**"
   ]
  },
  {
   "cell_type": "markdown",
   "metadata": {},
   "source": [
    "### Connecting nodes with different inputs"
   ]
  },
  {
   "cell_type": "markdown",
   "metadata": {},
   "source": [
    "To compare neurons with different inputs, let's see how the parameters of the input affect the neurons' output. In the following example, we will use constant input current and a Poisson spike train with the same mean strength as the constant input current. The probability density function and firing rates of neurons will be shaped given by these inputs. "
   ]
  },
  {
   "cell_type": "markdown",
   "metadata": {},
   "source": [
    "First, let us define the parameters of the simulation and input currents."
   ]
  },
  {
   "cell_type": "code",
   "execution_count": 37,
   "metadata": {},
   "outputs": [],
   "source": [
    "# simulation time\n",
    "T = 1.2e3 # (ms)\n",
    "# firing rate of external Poisson source\n",
    "nu_ext = 15e3 # (Hz)\n",
    "# synaptic weight\n",
    "J = 0.08 # (mV)\n",
    "# delay\n",
    "d = 0.1 # (ms)\n",
    "# membrane potential capacitance\n",
    "C = 250.0 # (pF)\n",
    "# mean input in pAa\n",
    "mu = J*1e-3*nu_ext*C\n",
    "# external current\n",
    "I_ext = mu"
   ]
  },
  {
   "cell_type": "markdown",
   "metadata": {},
   "source": [
    "We will create a dictionary for neuron parameters:"
   ]
  },
  {
   "cell_type": "code",
   "execution_count": 38,
   "metadata": {},
   "outputs": [],
   "source": [
    "# neuron parameter\n",
    "neuron_params = {\n",
    "    'C_m': C, # (pF)\n",
    "    'E_L': 0., # (mV)\n",
    "    'I_e': 0.0, # (pA)\n",
    "    'V_m': 0., # (mV)\n",
    "    'V_reset': 0., # (mV)\n",
    "    'V_th': 15., # (mV)\n",
    "    't_ref': 2.0, # (ms)\n",
    "    'tau_m': 10.0, # (ms)\n",
    "}"
   ]
  },
  {
   "cell_type": "markdown",
   "metadata": {},
   "source": [
    "We can use this to pass as an argument of the `SetDefaults()` function. Whenever we create neurons after calling this function, the default parameter values will be those which we have defined previously."
   ]
  },
  {
   "cell_type": "markdown",
   "metadata": {},
   "source": [
    "Let's use a LIF neuron model with delta-function synaptic currents"
   ]
  },
  {
   "cell_type": "code",
   "execution_count": 46,
   "metadata": {},
   "outputs": [],
   "source": [
    "nest.ResetKernel() # reset simulation kernel\n",
    "# set default neuron parameters\n",
    "nest.SetDefaults('iaf_psc_delta', neuron_params)"
   ]
  },
  {
   "cell_type": "code",
   "execution_count": 47,
   "metadata": {},
   "outputs": [],
   "source": [
    "# create two 'iaf_psc_delta' neurons\n",
    "neurons = nest.Create('iaf_psc_delta', 2)"
   ]
  },
  {
   "cell_type": "markdown",
   "metadata": {},
   "source": [
    "Neuron id **0** will receive constant current *I_ext* defined previously."
   ]
  },
  {
   "cell_type": "code",
   "execution_count": 48,
   "metadata": {},
   "outputs": [],
   "source": [
    "# supply the first neuron with the constant current I_ext\n",
    "nest.SetStatus([neurons[0]], {'I_e': I_ext})"
   ]
  },
  {
   "cell_type": "markdown",
   "metadata": {},
   "source": [
    "Next, we create a poisson spike train using `poisson_generator` as device name. The parameter `rate` will be *nu_ext* defined previously. "
   ]
  },
  {
   "cell_type": "code",
   "execution_count": 49,
   "metadata": {},
   "outputs": [],
   "source": [
    "# create Poisson generator with rate nu_ext\n",
    "poisson_generator = nest.Create('poisson_generator', params={'rate': nu_ext})"
   ]
  },
  {
   "cell_type": "markdown",
   "metadata": {},
   "source": [
    "In the following code we are creating the necessary devices for measuring the neurons' membrane potential and for detecting any spikes generated by them."
   ]
  },
  {
   "cell_type": "code",
   "execution_count": 50,
   "metadata": {},
   "outputs": [],
   "source": [
    "# create two multimeter to record membrane potential of the neurons\n",
    "multimeters = nest.Create('multimeter', 2)\n",
    "# set the multimeters to record membrane potentials\n",
    "nest.SetStatus(multimeters, {'record_from': ['V_m']})\n",
    "# create two spike detectors to record spikes of neurons\n",
    "spikedetectors = nest.Create('spike_detector', 2)\n",
    "# set the spike detectors to record spike times and neuron identifiers, but not to record from file\n",
    "nest.SetStatus(spikedetectors, [{'withtime': True,'withgid': True,'to_file': False}])"
   ]
  },
  {
   "cell_type": "markdown",
   "metadata": {},
   "source": [
    "Let us connect the devices to the neurons:"
   ]
  },
  {
   "cell_type": "code",
   "execution_count": 51,
   "metadata": {},
   "outputs": [],
   "source": [
    "# connect devices to neurons\n",
    "nest.Connect(poisson_generator, [neurons[1]], syn_spec={'weight':J, 'delay':d})\n",
    "nest.Connect(multimeters, neurons, 'one_to_one')\n",
    "nest.Connect(neurons, spikedetectors, 'one_to_one')"
   ]
  },
  {
   "cell_type": "markdown",
   "metadata": {},
   "source": [
    "In the previous piece of code, we specifically defined connections on a `one_to_one` fashion. This is needed because of the amount of possible connections that we have. Since we generated two of each node, we need to tell *NEST* that we just want this type of connection. Please review other type of connection specifications here:\n",
    "https://nest-simulator.org/connection_management/.\n",
    "\n",
    "Next, we will simulate this setup. We will need to save the measurements in lists for later plotting. Try to think by yourself what the parameters in this section mean."
   ]
  },
  {
   "cell_type": "code",
   "execution_count": 14,
   "metadata": {},
   "outputs": [
    {
     "data": {
      "image/png": "[encoded data removed]",
      "text/plain": [
       "<Figure size 432x288 with 1 Axes>"
      ]
     },
     "metadata": {
      "needs_background": "light"
     },
     "output_type": "display_data"
    },
    {
     "data": {
      "image/png": "[encoded data removed]",
      "text/plain": [
       "<Figure size 432x288 with 1 Axes>"
      ]
     },
     "metadata": {
      "needs_background": "light"
     },
     "output_type": "display_data"
    }
   ],
   "source": [
    "# simulate\n",
    "nest.Simulate(T)\n",
    "\n",
    "# readout lists. we will store data in these data structures.\n",
    "V_mem = []\n",
    "times = []\n",
    "spikes = []\n",
    "for i in range(2):\n",
    "    data = nest.GetStatus([multimeters[i]])[0]['events']\n",
    "    V_mem.append(data['V_m'])\n",
    "    times.append(data['times'])\n",
    "    spikes.append(nest.GetStatus([spikedetectors[i]])[0]['events']['times'])\n",
    "\n",
    "# plot histogram of membrane potentials of noise driven neuron\n",
    "fig1 = plt.figure(1)\n",
    "ax1 = fig1.add_subplot(111)\n",
    "ax1.hist(V_mem[1], 100)\n",
    "plt.xlabel(r'$V_m$ (mV)')\n",
    "plt.grid(linestyle='-', linewidth=.25, alpha=.7)\n",
    "\n",
    "# plot traces of membrane potential\n",
    "fig2 = plt.figure(2)\n",
    "plt.plot(times[0], V_mem[0], label='constant input')\n",
    "plt.plot(times[1], V_mem[1], label='Poisson input')\n",
    "plt.xlabel('Time (ms)')\n",
    "plt.ylabel(r'$V_m$ (mV)')\n",
    "plt.xlim([0., T])\n",
    "plt.ylim([-5., 20.])\n",
    "plt.legend()\n",
    "plt.grid(linestyle='-', linewidth=.25, alpha=.7)\n",
    "plt.show()"
   ]
  },
  {
   "cell_type": "markdown",
   "metadata": {},
   "source": [
    "Measure neurons' firing rate with the following code:"
   ]
  },
  {
   "cell_type": "code",
   "execution_count": 15,
   "metadata": {},
   "outputs": [
    {
     "name": "stdout",
     "output_type": "stream",
     "text": [
      "Rate of neuron stimulated with constant input:  0.0\n",
      "Rate of neuron stimulated with Poisson input:  0.0\n"
     ]
    }
   ],
   "source": [
    "# calculate and print firing rate of neurons\n",
    "rate = float(len(spikes[0]))/T*1e3\n",
    "print('Rate of neuron stimulated with constant input: ', rate)\n",
    "rate = float(len(spikes[1]))/T*1e3\n",
    "print('Rate of neuron stimulated with Poisson input: ', rate)"
   ]
  },
  {
   "cell_type": "markdown",
   "metadata": {},
   "source": [
    "What!? There are no spikes?! Well, look at the figures and consider the threshold potential value `V_th`. Let's try increasing the synaptic strengh `J`. The neuron receiving Poisson input will be in different firing rate regimes!\n",
    "\n",
    "**6.- Try to make the neuron fire at an irregular regime.**"
   ]
  },
  {
   "cell_type": "code",
   "execution_count": 20,
   "metadata": {},
   "outputs": [
    {
     "data": {
      "image/png": "[encoded data removed]",
      "text/plain": [
       "<Figure size 432x288 with 1 Axes>"
      ]
     },
     "metadata": {
      "needs_background": "light"
     },
     "output_type": "display_data"
    },
    {
     "data": {
      "image/png": "[encoded data removed]",
      "text/plain": [
       "<Figure size 432x288 with 1 Axes>"
      ]
     },
     "metadata": {
      "needs_background": "light"
     },
     "output_type": "display_data"
    },
    {
     "name": "stdout",
     "output_type": "stream",
     "text": [
      "Rate of neuron stimulated with constant input:  370.83333333333337\n",
      "Rate of neuron stimulated with Poisson input:  360.8333333333333\n"
     ]
    }
   ],
   "source": [
    "# simulation time\n",
    "T = 1.2e3 # (ms)\n",
    "# firing rate of external Poisson source\n",
    "nu_ext = 15e3 # (Hz)\n",
    "# synaptic weight\n",
    "J = 1.48 # (mV)\n",
    "# delay\n",
    "d = 0.1 # (ms)\n",
    "# membrane potential capacitance\n",
    "C = 250.0 # (pF)\n",
    "# mean input in pAa\n",
    "mu = J*1e-3*nu_ext*C\n",
    "# external current\n",
    "I_ext = mu\n",
    "\n",
    "# neuron parameter\n",
    "neuron_params = {\n",
    "    'C_m': C, # (pF)\n",
    "    'E_L': 0., # (mV)\n",
    "    'I_e': 0.0, # (pA)\n",
    "    'V_m': 0., # (mV)\n",
    "    'V_reset': 0., # (mV)\n",
    "    'V_th': 15., # (mV)\n",
    "    't_ref': 2.0, # (ms)\n",
    "    'tau_m': 10.0, # (ms)\n",
    "}\n",
    "\n",
    "# set default neuron parameters\n",
    "nest.SetDefaults('iaf_psc_delta', neuron_params)\n",
    "\n",
    "# create two 'iaf_psc_delta' neurons\n",
    "neurons = nest.Create('iaf_psc_delta', 2)\n",
    "\n",
    "# supply the first neuron with the constant current I_ext\n",
    "nest.SetStatus([neurons[0]], {'I_e': I_ext})\n",
    "\n",
    "# create Poisson generator with rate nu_ext\n",
    "poisson_generator = nest.Create('poisson_generator', params={'rate': nu_ext})\n",
    "\n",
    "# create two multimeter to record membrane potential of the neurons\n",
    "multimeters = nest.Create('multimeter', 2)\n",
    "# set the multimeters to record membrane potentials\n",
    "nest.SetStatus(multimeters, {'record_from': ['V_m']})\n",
    "# create two spike detectors to record spikes of neurons\n",
    "spikedetectors = nest.Create('spike_detector', 2)\n",
    "# set the spike detectors to record spike times and neuron identifiers, but not to record from file\n",
    "nest.SetStatus(spikedetectors, [{'withtime': True,'withgid': True,'to_file': False}])\n",
    "\n",
    "# connect devices to neurons\n",
    "nest.Connect(poisson_generator, [neurons[1]], syn_spec={'weight':J, 'delay':d})\n",
    "nest.Connect(multimeters, neurons, 'one_to_one')\n",
    "nest.Connect(neurons, spikedetectors, 'one_to_one')\n",
    "\n",
    "# simulate\n",
    "nest.Simulate(T)\n",
    "\n",
    "# readout lists. we will store data in these data structures.\n",
    "V_mem = []\n",
    "times = []\n",
    "spikes = []\n",
    "for i in range(2):\n",
    "    data = nest.GetStatus([multimeters[i]])[0]['events']\n",
    "    V_mem.append(data['V_m'])\n",
    "    times.append(data['times'])\n",
    "    spikes.append(nest.GetStatus([spikedetectors[i]])[0]['events']['times'])\n",
    "\n",
    "# plot histogram of membrane potentials of noise driven neuron\n",
    "fig1 = plt.figure(1)\n",
    "ax1 = fig1.add_subplot(111)\n",
    "ax1.hist(V_mem[1], 100)\n",
    "plt.xlabel(r'$V_m$ (mV)')\n",
    "plt.grid(linestyle='-', linewidth=.25, alpha=.7)\n",
    "\n",
    "# plot traces of membrane potential\n",
    "fig2 = plt.figure(2)\n",
    "plt.plot(times[0], V_mem[0], label='constant input')\n",
    "plt.plot(times[1], V_mem[1], label='Poisson input')\n",
    "plt.xlabel('Time (ms)')\n",
    "plt.ylabel(r'$V_m$ (mV)')\n",
    "plt.xlim([0., T])\n",
    "plt.ylim([-5., 20.])\n",
    "plt.legend()\n",
    "plt.grid(linestyle='-', linewidth=.25, alpha=.7)\n",
    "plt.show()\n",
    "\n",
    "# calculate and print firing rate of neurons\n",
    "rate = float(len(spikes[0]))/T*1e3\n",
    "print('Rate of neuron stimulated with constant input: ', rate)\n",
    "rate = float(len(spikes[1]))/T*1e3\n",
    "print('Rate of neuron stimulated with Poisson input: ', rate)"
   ]
  },
  {
   "cell_type": "markdown",
   "metadata": {},
   "source": [
    "**7.- Try to make the neuron spike at a regular regime.**"
   ]
  },
  {
   "cell_type": "code",
   "execution_count": null,
   "metadata": {},
   "outputs": [],
   "source": []
  },
  {
   "cell_type": "markdown",
   "metadata": {},
   "source": [
    "Since we are using the LIF neuron model you will not be able to see *proper* spikes. Instead, you will only see the after-spike dynamics (membrane potential reset and refractory period).\n",
    "\n",
    "**8.- Try to make HH neuron models spike at a regular regime for both input conditions.**"
   ]
  },
  {
   "cell_type": "code",
   "execution_count": null,
   "metadata": {},
   "outputs": [],
   "source": []
  },
  {
   "cell_type": "markdown",
   "metadata": {},
   "source": [
    "## F-I curve"
   ]
  },
  {
   "cell_type": "markdown",
   "metadata": {},
   "source": [
    "As you have seen in the previous tutorial, the firing rate of the neuron can change given different external current `I_e`. It's possible to plot this relationship and its usually referred to as the **F-I curve**. The following code plots this curve."
   ]
  },
  {
   "cell_type": "code",
   "execution_count": 37,
   "metadata": {},
   "outputs": [],
   "source": [
    "# neuron parameter\n",
    "neuron_params = {\n",
    "    'C_m': 250.0, # (pF)\n",
    "    'E_L': 0., # (mV)\n",
    "    'I_e': 0.0, # (pA)\n",
    "    'V_m': 0., # (mV)\n",
    "    'V_reset': 0., # (mV)\n",
    "    'V_th': 15., # (mV)\n",
    "    't_ref': 2.0, # (ms)\n",
    "    'tau_m': 10.0, # (ms)\n",
    "}\n",
    "\n",
    "model = 'iaf_psc_delta'"
   ]
  },
  {
   "cell_type": "code",
   "execution_count": 38,
   "metadata": {},
   "outputs": [],
   "source": [
    "def FI_curve(model, params=False, I_e=(200.0,600.0,5.0), T_sim=1e3):\n",
    "    i_range = np.arange(*I_e)\n",
    "    rates = np.zeros(np.size(i_range))\n",
    "\n",
    "    for n, i in enumerate(i_range):    \n",
    "        nest.ResetKernel()\n",
    "        if params:\n",
    "            nest.SetDefaults(model, params)   \n",
    "        neuron=nest.Create(model)\n",
    "        nest.SetStatus(neuron, {'I_e': i})\n",
    "        spike_detector=nest.Create('spike_detector')\n",
    "        nest.SetStatus(spike_detector, [{'withtime': True,'withgid': True,'to_file': False}])\n",
    "        nest.Connect(neuron,spike_detector)\n",
    "        nest.Simulate(T_sim)\n",
    "        rates[n] = nest.GetStatus(spike_detector, 'n_events')[0] * 1000.0 / T_sim \n",
    "        \n",
    "    return rates"
   ]
  },
  {
   "cell_type": "code",
   "execution_count": 39,
   "metadata": {},
   "outputs": [],
   "source": [
    "rates = FI_curve(model, neuron_params)\n",
    "I_e=(200.0,600.0,5.0)"
   ]
  },
  {
   "cell_type": "code",
   "execution_count": 40,
   "metadata": {},
   "outputs": [
    {
     "data": {
      "image/png": "[encoded data removed]",
      "text/plain": [
       "<Figure size 1800x1200 with 1 Axes>"
      ]
     },
     "metadata": {
      "needs_background": "light"
     },
     "output_type": "display_data"
    }
   ],
   "source": [
    "fig3 = plt.figure(3)\n",
    "plt.plot(np.arange(*I_e),rates)\n",
    "plt.grid(linestyle='-', linewidth=.25, alpha=.7)\n",
    "plt.ylabel('Firing rate (Hz)')\n",
    "plt.xlabel(r'$I_e$ (pA)')\n",
    "plt.show()"
   ]
  },
  {
   "cell_type": "markdown",
   "metadata": {},
   "source": [
    "As you can observe from this figure, given the parameter setup, the neuron in a leaky-integrate-and-fire model starts to fire spikes at around *370 pA* of external input current `I_e`. For this particular case, `V_th` was chosen to be low to observe the trend of the firing rate as external current is increasing. \n",
    "\n",
    "Modifying the value of the capacitance `C_m` moves this curve in the x-axis, and modifying the refractory period `t_ref` slows down the firing rate i.e. more current is required for a given firing rate. "
   ]
  },
  {
   "cell_type": "markdown",
   "metadata": {},
   "source": [
    "**9.- Observe these changes in the F-I curve by modifying the neuron model parameters**"
   ]
  },
  {
   "cell_type": "code",
   "execution_count": null,
   "metadata": {},
   "outputs": [],
   "source": []
  },
  {
   "cell_type": "markdown",
   "metadata": {},
   "source": [
    "**10.- Repeat these simulations with the HH neuron model `hh_psc_alpha` by modifying channel conductances.**"
   ]
  },
  {
   "cell_type": "code",
   "execution_count": null,
   "metadata": {},
   "outputs": [],
   "source": []
  },
  {
   "cell_type": "markdown",
   "metadata": {},
   "source": [
    "## Well done!"
   ]
  }
 ],
 "metadata": {
  "kernelspec": {
   "display_name": "Python 3",
   "language": "python",
   "name": "python3"
  },
  "language_info": {
   "codemirror_mode": {
    "name": "ipython",
    "version": 3
   },
   "file_extension": ".py",
   "mimetype": "text/x-python",
   "name": "python",
   "nbconvert_exporter": "python",
   "pygments_lexer": "ipython3",
   "version": "3.7.3"
  }
 },
 "nbformat": 4,
 "nbformat_minor": 4
}
