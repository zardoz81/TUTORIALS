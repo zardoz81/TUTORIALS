{
 "cells": [
  {
   "cell_type": "markdown",
   "metadata": {},
   "source": [
    "derivative of a step function is the delta function\n",
    "\n",
    "$$\n",
    "\\delta\n",
    "$$\n",
    "\n",
    "$$\n",
    "\\frac{d}{dx}\\theta(x) = \\delta(x)\n",
    "$$\n",
    "\n",
    "$$\n",
    "\\frac{dV}{dt} = \\delta(t-t_i)\n",
    "$$\n",
    "$$\n",
    "V(t) = e^{(-\\frac{t-t_i}{\\tau})}\n",
    "$$"
   ]
  },
  {
   "cell_type": "code",
   "execution_count": 6,
   "metadata": {},
   "outputs": [
    {
     "name": "stdout",
     "output_type": "stream",
     "text": [
      "7.7.2\n",
      "NEST nest-2.18.0\n"
     ]
    }
   ],
   "source": [
    "# neuron can be imported in every \n",
    "import neuron\n",
    "print(neuron.version)\n",
    "\n",
    "# nest can only be imported from the sk+ environment (activate it before running this notebook\n",
    "# by typing conda activate sk+)\n",
    "import nest\n",
    "print(nest.version())"
   ]
  },
  {
   "cell_type": "markdown",
   "metadata": {},
   "source": [
    "# Let's first get Jupyter notebooks up\n",
    "\n",
    "This assumes you installed NEST beforehand.\n",
    "\n",
    "## For Windows users\n",
    "\n",
    "* Open Virtual Box and Start the ubuntu image\n",
    "* Make it full screen\n",
    "\n",
    "## For Windows and Mac users\n",
    "\n",
    "* Go to `https://github.com/oist-ncbc/skill-pill-plus`\n",
    "* Click the green button `Clone or download` then `Download ZIP`\n",
    "* Download and unzip somewhere\n",
    "* Open a terminal\n",
    "* Write `jupyter notebook` in the terminal\n",
    "    * If it doesn't work, try `conda install jupyter` first.\n",
    "* Navigate to the folder you downloaded\n",
    "* open this notebook (`Getting started.ipynb`)\n"
   ]
  },
  {
   "cell_type": "code",
   "execution_count": null,
   "metadata": {},
   "outputs": [],
   "source": []
  },
  {
   "cell_type": "code",
   "execution_count": null,
   "metadata": {},
   "outputs": [],
   "source": []
  },
  {
   "cell_type": "markdown",
   "metadata": {},
   "source": [
    "# Let's make sure you have everything installed\n",
    "Run the following cell by typing `SHIFT + ENTER`"
   ]
  },
  {
   "cell_type": "code",
   "execution_count": 12,
   "metadata": {},
   "outputs": [
    {
     "name": "stdout",
     "output_type": "stream",
     "text": [
      "Yay, it works!\n"
     ]
    }
   ],
   "source": [
    "import numpy as np\n",
    "import random\n",
    "import matplotlib.pyplot as plt\n",
    "import random\n",
    "import nest\n",
    "import time\n",
    "\n",
    "print(\"Yay, it works!\")"
   ]
  }
 ],
 "metadata": {
  "kernelspec": {
   "display_name": "Python 3",
   "language": "python",
   "name": "python3"
  },
  "language_info": {
   "codemirror_mode": {
    "name": "ipython",
    "version": 3
   },
   "file_extension": ".py",
   "mimetype": "text/x-python",
   "name": "python",
   "nbconvert_exporter": "python",
   "pygments_lexer": "ipython3",
   "version": "3.7.3"
  }
 },
 "nbformat": 4,
 "nbformat_minor": 2
}
