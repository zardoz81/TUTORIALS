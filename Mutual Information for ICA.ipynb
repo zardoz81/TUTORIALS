{
 "cells": [
  {
   "cell_type": "markdown",
   "metadata": {},
   "source": [
    "## Mutual Information for ICA"
   ]
  },
  {
   "cell_type": "code",
   "execution_count": 2,
   "metadata": {},
   "outputs": [
    {
     "name": "stdout",
     "output_type": "stream",
     "text": [
      "Downloading 1-hwYUvl5iKi9DZGY2QusjM4cmL3EWh0C into ./data/KOS_DAS.mat... Done.\n"
     ]
    }
   ],
   "source": [
    "from google_drive_downloader import GoogleDriveDownloader as gdd\n",
    "gdd.download_file_from_google_drive(file_id='1-hwYUvl5iKi9DZGY2QusjM4cmL3EWh0C',\n",
    "                                    dest_path='./data/KOS_DAS.mat',\n",
    "                                    unzip=False)"
   ]
  },
  {
   "cell_type": "code",
   "execution_count": 245,
   "metadata": {},
   "outputs": [
    {
     "name": "stdout",
     "output_type": "stream",
     "text": [
      "\r",
      "3"
     ]
    }
   ],
   "source": [
    "import time\n",
    "import sys\n",
    "sys.stdout.write(\"\\r{}\".format(i))\n",
    "sys.stdout.flush()"
   ]
  },
  {
   "cell_type": "code",
   "execution_count": 89,
   "metadata": {},
   "outputs": [],
   "source": [
    "import scipy.io as sio\n",
    "mat_contents = sio.loadmat('/Users/RomanKoshkin/Documents/MATLAB/EEG.mat')"
   ]
  },
  {
   "cell_type": "code",
   "execution_count": 90,
   "metadata": {
    "scrolled": true
   },
   "outputs": [
    {
     "ename": "KeyError",
     "evalue": "'S'",
     "output_type": "error",
     "traceback": [
      "\u001b[0;31m---------------------------------------------------------------------------\u001b[0m",
      "\u001b[0;31mKeyError\u001b[0m                                  Traceback (most recent call last)",
      "\u001b[0;32m<ipython-input-90-f97f0690586c>\u001b[0m in \u001b[0;36m<module>\u001b[0;34m()\u001b[0m\n\u001b[1;32m      6\u001b[0m \u001b[0;34m\u001b[0m\u001b[0m\n\u001b[1;32m      7\u001b[0m \u001b[0mX\u001b[0m \u001b[0;34m=\u001b[0m \u001b[0mmat_contents\u001b[0m\u001b[0;34m[\u001b[0m\u001b[0;34m'X'\u001b[0m\u001b[0;34m]\u001b[0m \u001b[0;31m# raw EEG\u001b[0m\u001b[0;34m\u001b[0m\u001b[0m\n\u001b[0;32m----> 8\u001b[0;31m \u001b[0mS\u001b[0m \u001b[0;34m=\u001b[0m \u001b[0mmat_contents\u001b[0m\u001b[0;34m[\u001b[0m\u001b[0;34m'S'\u001b[0m\u001b[0;34m]\u001b[0m \u001b[0;31m# Independent components (EEG after ICA decomposition)\u001b[0m\u001b[0;34m\u001b[0m\u001b[0m\n\u001b[0m\u001b[1;32m      9\u001b[0m \u001b[0mxedges\u001b[0m \u001b[0;34m=\u001b[0m \u001b[0mnp\u001b[0m\u001b[0;34m.\u001b[0m\u001b[0mlinspace\u001b[0m\u001b[0;34m(\u001b[0m\u001b[0;34m-\u001b[0m\u001b[0;36m100\u001b[0m\u001b[0;34m,\u001b[0m\u001b[0;36m100\u001b[0m\u001b[0;34m,\u001b[0m\u001b[0;36m100\u001b[0m\u001b[0;34m)\u001b[0m\u001b[0;34m.\u001b[0m\u001b[0mtolist\u001b[0m\u001b[0;34m(\u001b[0m\u001b[0;34m)\u001b[0m\u001b[0;34m\u001b[0m\u001b[0m\n\u001b[1;32m     10\u001b[0m \u001b[0myedges\u001b[0m \u001b[0;34m=\u001b[0m \u001b[0mnp\u001b[0m\u001b[0;34m.\u001b[0m\u001b[0mlinspace\u001b[0m\u001b[0;34m(\u001b[0m\u001b[0;34m-\u001b[0m\u001b[0;36m100\u001b[0m\u001b[0;34m,\u001b[0m\u001b[0;36m100\u001b[0m\u001b[0;34m,\u001b[0m\u001b[0;36m100\u001b[0m\u001b[0;34m)\u001b[0m\u001b[0;34m.\u001b[0m\u001b[0mtolist\u001b[0m\u001b[0;34m(\u001b[0m\u001b[0;34m)\u001b[0m\u001b[0;34m\u001b[0m\u001b[0m\n",
      "\u001b[0;31mKeyError\u001b[0m: 'S'"
     ]
    }
   ],
   "source": [
    "# Ossadtchi et al. (2014) doi: 10.3389/fninf.2013.00053\n",
    "# Mutual information spectrum for selection of event-related spatial components.\n",
    "\n",
    "import scipy.stats as ss\n",
    "import sklearn.metrics as sm\n",
    "\n",
    "X = mat_contents['X'] # raw EEG\n",
    "S = mat_contents['S'] # Independent components (EEG after ICA decomposition)\n",
    "xedges = np.linspace(-100,100,100).tolist()\n",
    "yedges = np.linspace(-100,100,100).tolist()\n",
    "\n",
    "MIN = []\n",
    "\n",
    "comp = 1\n",
    "chan = 12\n",
    "\n",
    "plt.figure(figsize=(15,5))\n",
    "\n",
    "# We use 2D histogram find the probability of X-values within certain ranges given\n",
    "# certain S-values falling into certain ranges:\n",
    "H,_,_ = np.histogram2d(X[chan-1,:],S[comp-1,:], bins=(xedges, yedges), density=True)\n",
    "\n",
    "# for avoid division by zero, we replace zeros by extremely low values:\n",
    "for x in range(99):\n",
    "    for y in range(99):\n",
    "        H[x,y] = 2.2204460492503131e-16 if H[x,y]==0 else H[x,y]\n",
    "\n",
    "plt.subplot(1,3,1)\n",
    "plt.imshow(H)\n",
    "plt.ylabel('S__' + str(np.std(S[comp-1,:])))\n",
    "plt.xlabel('X__' + str(np.std(X[chan-1,:])))\n",
    "\n",
    "print(\"abmin \\t\", np.min(np.sum(H,axis=1)))\n",
    "\n",
    "P_x = np.sum(H,axis=1)\n",
    "P_s = np.sum(H,axis=0)\n",
    "plt.subplot(1,3,2)\n",
    "plt.plot(P_x, label='X')\n",
    "plt.plot(P_s, label='S')\n",
    "plt.legend()\n",
    "\n",
    "plt.subplot(1,3,3)\n",
    "plt.plot(X[chan-1,1:400], label=str('Chan ' + str(chan+1)))\n",
    "plt.plot(S[comp-1,1:400], label=str('Comp. ' + str(comp+1)))\n",
    "plt.legend()\n",
    "\n",
    "\n",
    "# entropy H(C):\n",
    "ent = 0\n",
    "\n",
    "# for x in range(99):\n",
    "#     ent += - P_s[x] * np.log(P_s[x])\n",
    "# print('H(C)\\t', ent)\n",
    "ent = ss.entropy(P_s)\n",
    "\n",
    "ent_e = 0\n",
    "# for x in range(99):\n",
    "#     ent_e += - P_x[x] * np.log(P_x[x])\n",
    "# print(ent_e)\n",
    "ent_e = ss.entropy(P_x)\n",
    "\n",
    "# conditional entropy  H(C|X)\n",
    "ce = 0\n",
    "for x in range(99):\n",
    "    for y in range(99):\n",
    "        ce += - H[x][y]*np.log(H[x][y]/P_x[x])\n",
    "print('H(C|X)\\t', ce)\n",
    "\n",
    "print(ce)\n",
    "\n",
    "MI = ent - ce\n",
    "MI_norm = MI/np.sqrt(ent*ent_e)\n",
    "MIN.append(MI_norm)\n",
    "print('MI \\t', MI)\n",
    "print('MI_no \\t', MI_norm)"
   ]
  },
  {
   "cell_type": "code",
   "execution_count": null,
   "metadata": {},
   "outputs": [],
   "source": [
    "MIN = []\n",
    "for i in range(63):\n",
    "    H,_,_ = np.histogram2d(X[i,:],S[0,:], bins=(xedges, yedges))\n",
    "    MIN.append(sm.mutual_info_score(None, None, contingency=H))\n",
    "\n",
    "for k in range(len(MIN)):\n",
    "    print(MIN[k])"
   ]
  },
  {
   "cell_type": "code",
   "execution_count": null,
   "metadata": {},
   "outputs": [],
   "source": [
    "import scipy.stats as ss\n",
    "import sklearn.metrics as sm\n",
    "\n",
    "X = mat_contents['X']\n",
    "S = mat_contents['S']\n",
    "xedges = np.linspace(-25,25,100).tolist()\n",
    "yedges = np.linspace(-25,25,100).tolist()\n",
    "\n",
    "MIN = []\n",
    "for k in range(63):\n",
    "    comp = 0\n",
    "    chan = k\n",
    "\n",
    "\n",
    "    # plt.figure(figsize=(15,5))\n",
    "    \n",
    "    numBins = 100  # number of bins in each dimension\n",
    "    data = np.vstack([X[chan,:], S[comp,:]]).T\n",
    "    # We use 2D histogram find the probability of X-values within certain ranges given\n",
    "    # certain S-values falling into certain ranges:\n",
    "    jointProbs, edges = np.histogramdd(data, bins=(xedges,yedges))\n",
    "    jointProbs /= jointProbs.sum()\n",
    "    H = jointProbs\n",
    "\n",
    "    for x in range(100):\n",
    "        for y in range(100):\n",
    "            H[x,y] = 2.2204460492503131e-16 if H[x,y]==0 else H[x,y]\n",
    "\n",
    "    # plt.subplot(1,3,1)\n",
    "    # plt.imshow(H)\n",
    "    # plt.ylabel('S__' + str(np.std(S[comp-1,:])))\n",
    "    # plt.xlabel('X__' + str(np.std(X[chan-1,:])))\n",
    "\n",
    "#     print(\"abmin \\t\", np.min(np.sum(H,axis=1)))\n",
    "\n",
    "    P_x = np.sum(H,axis=1)\n",
    "    P_s = np.sum(H,axis=0)\n",
    "    # plt.subplot(1,3,2)\n",
    "    # plt.plot(P_x, label='X')\n",
    "    # plt.plot(P_s, label='S')\n",
    "    # plt.legend()\n",
    "\n",
    "    # plt.subplot(1,3,3)\n",
    "    # plt.plot(X[chan-1,1:400], label=str('Chan ' + str(chan+1)))\n",
    "    # plt.plot(S[comp-1,1:400], label=str('Comp. ' + str(comp+1)))\n",
    "    # plt.legend()\n",
    "\n",
    "\n",
    "    # entropy H(C):\n",
    "    ent = 0\n",
    "    for x in range(100):\n",
    "        ent += - P_s[x] * np.log(P_s[x])\n",
    "#     print('H(C)\\t', ent)\n",
    "#     ent = ss.entropy(P_s) Entropy can be calculated like this too\n",
    "\n",
    "    ent_e = 0\n",
    "    for x in range(100):\n",
    "        ent_e += - P_x[x] * np.log(P_x[x])\n",
    "#     print(ent_e)\n",
    "#     ent_e = ss.entropy(P_x)\n",
    "\n",
    "    # conditional entropy  H(C|X)\n",
    "    ce = 0\n",
    "    for x in range(100):\n",
    "        for y in range(100):\n",
    "            ce += - H[x][y]*np.log(H[x][y]/P_x[x])\n",
    "#     ce = ss.entropy(H.flatten()) - ss.entropy(P_x.flatten()) Conditional entropy can be calculated like this too\n",
    "#     print('H(C|X)\\t', ce)\n",
    "\n",
    "    MI = ent - ce\n",
    "    MI_norm = MI/np.sqrt(ent*ent_e)\n",
    "    MIN.append(MI_norm)\n",
    "#     print('MI \\t', MI)\n",
    "#     print('MI_no \\t', MI_norm)\n",
    "\n",
    "for k in range(len(MIN)):\n",
    "#     print(k+1, MIN[k])\n",
    "    print(MIN[k])"
   ]
  },
  {
   "cell_type": "code",
   "execution_count": 2,
   "metadata": {},
   "outputs": [
    {
     "name": "stdout",
     "output_type": "stream",
     "text": [
      "0.3762269687474964\n",
      "0.34169295662488397\n",
      "0.08773787379322544\n",
      "0.018521993592563138\n",
      "0.059879545987495765\n",
      "0.004210888913683867\n",
      "0.006629173517699418\n",
      "0.003107922444263009\n",
      "0.016392237413030857\n",
      "0.008770113111078533\n",
      "0.0036871166624897833\n",
      "0.009777093542438678\n",
      "0.009187679981168442\n",
      "0.0025009163821034545\n",
      "0.0016089012072337957\n",
      "0.002941608731620268\n",
      "0.0047070875515610264\n",
      "0.0033902998661114662\n",
      "0.004181851214415295\n",
      "0.00493813483003859\n",
      "0.0027755469047179323\n",
      "0.0022586414638805434\n",
      "0.0026548667912150202\n",
      "0.003646405917493721\n",
      "0.0009022666948368659\n",
      "0.003012482045890431\n",
      "0.0027349954068761713\n",
      "0.0288108050030278\n",
      "0.0008144123073899131\n",
      "0.0018419577543219237\n",
      "0.0024018625093558017\n",
      "0.004978905047054633\n",
      "0.0038299128166934876\n",
      "0.0016762991334809373\n",
      "0.0018984330556382418\n",
      "0.003556691958532648\n",
      "0.001536350895449623\n",
      "0.0024576999615542818\n",
      "0.002558707682379597\n",
      "0.003375537039233549\n",
      "0.00347525411895763\n",
      "0.0022205756842291345\n",
      "0.0013354906380799263\n",
      "0.001862352790925288\n",
      "0.0021296608959895514\n",
      "0.0017684367318287076\n",
      "0.001875122114424129\n",
      "0.001927509527513259\n",
      "0.003723729143744034\n",
      "0.0015009686747649523\n",
      "0.0016824279262036604\n",
      "0.0024157764196053575\n",
      "0.0020258797949027417\n",
      "0.00349544933561347\n",
      "0.0022276170444658406\n",
      "0.0014537414004845526\n",
      "0.00814456625050081\n",
      "0.001486994707054983\n",
      "0.0023041583401994734\n",
      "0.0020985339621532838\n",
      "0.001350305122718447\n",
      "0.0027451247209796205\n",
      "0.009621854433648217\n"
     ]
    }
   ],
   "source": [
    "# Ossadtchi et al. (2014) doi: 10.3389/fninf.2013.00053\n",
    "# Mutual information spectrum for selection of event-related spatial components.\n",
    "\n",
    "import scipy.stats as ss\n",
    "import sklearn.metrics as sm\n",
    "import scipy.io as sio\n",
    "import numpy as np\n",
    "\n",
    "mat_contents = sio.loadmat('/Users/RomanKoshkin/Documents/MATLAB/EEG.mat')\n",
    "\n",
    "X = mat_contents['X']\n",
    "S = mat_contents['S']\n",
    "xedges = np.linspace(-25,25,100).tolist()\n",
    "yedges = np.linspace(-25,25,100).tolist()\n",
    "\n",
    "MIN = []\n",
    "for k in range(63):\n",
    "    comp = k\n",
    "    chan = 15\n",
    "\n",
    "\n",
    "    # plt.figure(figsize=(15,5))\n",
    "    \n",
    "    numBins = 100  # number of bins in each dimension\n",
    "    data = np.vstack([X[chan,:], S[comp,:]]).T\n",
    "    jointProbs, edges = np.histogramdd(data, bins=100)\n",
    "    jointProbs /= jointProbs.sum()\n",
    "    H = jointProbs\n",
    "\n",
    "    for x in range(100):\n",
    "        for y in range(100):\n",
    "            H[x,y] = 2.2204460492503131e-16 if H[x,y]==0 else H[x,y]\n",
    "\n",
    "    # plt.subplot(1,3,1)\n",
    "    # plt.imshow(H)\n",
    "    # plt.ylabel('S__' + str(np.std(S[comp-1,:])))\n",
    "    # plt.xlabel('X__' + str(np.std(X[chan-1,:])))\n",
    "\n",
    "#     print(\"abmin \\t\", np.min(np.sum(H,axis=1)))\n",
    "\n",
    "    P_x = np.sum(H,axis=1)\n",
    "    P_s = np.sum(H,axis=0)\n",
    "    # plt.subplot(1,3,2)\n",
    "    # plt.plot(P_x, label='X')\n",
    "    # plt.plot(P_s, label='S')\n",
    "    # plt.legend()\n",
    "\n",
    "    # plt.subplot(1,3,3)\n",
    "    # plt.plot(X[chan-1,1:400], label=str('Chan ' + str(chan+1)))\n",
    "    # plt.plot(S[comp-1,1:400], label=str('Comp. ' + str(comp+1)))\n",
    "    # plt.legend()\n",
    "\n",
    "\n",
    "    MI = 0\n",
    "    for x in range(100):\n",
    "        for y in range(100):\n",
    "            MI += H[x][y]*np.log(H[x][y]/(P_x[x]*P_s[y]))\n",
    "\n",
    "    MIN.append(MI)\n",
    "\n",
    "for k in range(len(MIN)):\n",
    "#     print(k+1, MIN[k])\n",
    "    print(MIN[k])"
   ]
  },
  {
   "cell_type": "markdown",
   "metadata": {},
   "source": [
    "# Basic facts about Marginal and Joint distributions:\n",
    "![title](dist.png)\n",
    "- marginal distrubutions are obtained by summing the rows and columns of the joint distribution (**not** but multiplying the elements of the marginals!!). The marginals can be independent or dependent on each other, and if we multiply them, we cannot magically obtain information about their (in)dependence. If the table below, we see that V1 and V2 are dependent (if you get **red** in V1 there's a 0.4 chance getting **red** in V2).\n",
    "\n",
    "|      |      | V2   |V2    |      |\n",
    "|------|------|------|------|------|\n",
    "|      |      | RED  |BLUE  |**M2**|\n",
    "|**V1**| RED  | 0.4  | 0.1  | 0.5  |\n",
    "|**V1**| BLUE | 0.1  | 0.4  | 0.5  |\n",
    "|      |**M1**| 0.5  | 0.5  | 1.0  |\n",
    "\n",
    "But if you started from the marginals and tried to get the joint distribution from them, you'd lose dependence information:\n",
    "\n",
    "|      |      | V2   |V2    |      |\n",
    "|------|------|------|------|------|\n",
    "|      |      | RED  |BLUE  |**M2**|\n",
    "|**V1**| RED  | 0.25 | 0.25 | 0.5  |\n",
    "|**V1**| BLUE | 0.25 | 0.25 | 0.5  |\n",
    "|      |**M1**| 0.5  | 0.5  | 1.0  |\n",
    "\n",
    "- Both each marginal distribution and the joint distribution always sum to 1."
   ]
  },
  {
   "cell_type": "markdown",
   "metadata": {},
   "source": [
    "Now let's compute **Mutual Information**:\n",
    "$$\n",
    "{MI} (X;Y)=\\sum _{y\\in {\\mathcal {Y}}}\\sum _{x\\in {\\mathcal {X}}}{p_{(X,Y)}(x,y)\\log {\\left({\\frac {p_{(X,Y)}(x,y)}{p_{X}(x)\\,p_{Y}(y)}}\\right)}}\n",
    "$$\n",
    "where $P_{(X,Y)}$ is the joint probability of variable $X$ and variable $Y$, $P_{(X)}$ and $P_{(Y)}$ are marginal disributions of these variables, respectively.\n",
    "\n",
    "To obtained normed mutual information, $MI^*$, that is scaled to the range of [0,1], we divide it by the square root of the sum of the variables' entropies $H(X) = -\\sum p(x) \\log p(x)$:\n",
    "\n",
    "$$\n",
    "{MI^*} = \\frac{MI}{\\sqrt{H(X) + H(Y)}}\n",
    "$$\n",
    "\n",
    "## Remember: to compute mutual information, you need to always start with $P_{(X,Y)}$, which is a normed 2D histogram of the two variables.\n"
   ]
  },
  {
   "cell_type": "code",
   "execution_count": 490,
   "metadata": {},
   "outputs": [
    {
     "name": "stdout",
     "output_type": "stream",
     "text": [
      "Joint Dist:\n",
      " tensor([[0.4000, 0.1000],\n",
      "        [0.1000, 0.4000]])\n",
      "Marginal dist1:\t tensor([0.5000, 0.5000])\n",
      "Marginal dist2:\t tensor([0.5000, 0.5000])\n",
      "Entropy P:\t tensor(0.6931)\n",
      "Entropy Q:\t tensor(0.6931)\n",
      "Entropy JD:\t tensor(1.1935)\n",
      "Normed MI:\t tensor(0.1637)\n"
     ]
    }
   ],
   "source": [
    "def entropy(x):\n",
    "    entropy = 0\n",
    "    x = x.flatten()\n",
    "    for i in range(len(x)):\n",
    "        entropy += -x[i]*torch.log(x[i])\n",
    "    return entropy\n",
    "\n",
    "def MI(JD, MD1, MD2):\n",
    "    MI = 0\n",
    "    for i in range(len(MD1)):\n",
    "        for j in range(len(MD2)):\n",
    "            if JD[i,j]>0 and P[i]>0 and Q[i]>0:\n",
    "                MI += JD[i,j]*torch.log(JD[i,j]/(P[i]*Q[j]))\n",
    "            else:\n",
    "                pass\n",
    "    return MI/torch.sqrt(entropy(MD1)+entropy(MD2))\n",
    "    \n",
    "\n",
    "JD = torch.FloatTensor([[0.4, 0.1],[0.1, 0.4]])\n",
    "P = JD.sum(dim=0) # marginal distribution of variable 1\n",
    "Q = JD.sum(dim=1) # marginal distribution of variable 2\n",
    "\n",
    "# H = torch.matmul(P.view(-1,1),Q.view(1,-1)).detach().numpy()\n",
    "print('Joint Dist:\\n', JD)\n",
    "print('Marginal dist1:\\t', P)\n",
    "print('Marginal dist2:\\t', Q)\n",
    "print('Entropy P:\\t', entropy(P))\n",
    "print('Entropy Q:\\t', entropy(Q))\n",
    "print('Entropy JD:\\t', entropy(JD))\n",
    "print('Normed MI:\\t', MI(JD, P, Q))"
   ]
  },
  {
   "cell_type": "markdown",
   "metadata": {},
   "source": [
    "#### Or you can compute MI using another formula:\n",
    "$$ {MI^*} = \\frac{H(X) + H(Y) - H(X,Y)}{\\sqrt{H(X) + H(Y)}} $$"
   ]
  },
  {
   "cell_type": "code",
   "execution_count": 493,
   "metadata": {},
   "outputs": [
    {
     "name": "stdout",
     "output_type": "stream",
     "text": [
      "Normed MI:\t tensor(0.1637)\n"
     ]
    }
   ],
   "source": [
    "H1 = entropy(P)\n",
    "H2 = entropy(Q)\n",
    "JE = entropy(JD)\n",
    "MI = (H1 + H2 - JE)/torch.sqrt(H1+H2)\n",
    "print('Normed MI:\\t', MI)"
   ]
  },
  {
   "cell_type": "markdown",
   "metadata": {},
   "source": [
    "#### Or even through KL divergence\n",
    "$${\\displaystyle MI(X;Y)=D_{\\mathrm {KL} }(P_{(X,Y)}\\|P_{X}\\otimes P_{Y})}$$\n",
    "\n",
    "$${\\displaystyle D_{\\text{KL}}(P\\parallel Q)=-\\sum _{x\\in {\\mathcal {X}}}P(x)\\log \\left({\\frac {Q(x)}{P(x)}}\\right)}$$"
   ]
  },
  {
   "cell_type": "code",
   "execution_count": 492,
   "metadata": {},
   "outputs": [
    {
     "name": "stdout",
     "output_type": "stream",
     "text": [
      "Unnormed MI:\t tensor(0.1927)\n",
      "Normed MI:\t tensor(0.1637)\n"
     ]
    }
   ],
   "source": [
    "MI = - torch.dot(JD.flatten(), (torch.matmul(Q.view(-1,1), P.view(1,-1)).div(JD)).log().flatten())\n",
    "print('Unnormed MI:\\t', MI)\n",
    "MI = MI/torch.sqrt(H1+H2)\n",
    "print('Normed MI:\\t', MI)"
   ]
  },
  {
   "cell_type": "markdown",
   "metadata": {},
   "source": [
    "## Now let's do the same on real EEG data:"
   ]
  },
  {
   "cell_type": "code",
   "execution_count": 8,
   "metadata": {},
   "outputs": [
    {
     "name": "stdout",
     "output_type": "stream",
     "text": [
      "(60, 500)\n"
     ]
    },
    {
     "data": {
      "text/plain": [
       "Text(0.5,1,'Marginal Distributions')"
      ]
     },
     "execution_count": 8,
     "metadata": {},
     "output_type": "execute_result"
    },
    {
     "data": {
      "image/png": "[encoded data removed]",
      "text/plain": [
       "<matplotlib.figure.Figure at 0x11b2fa128>"
      ]
     },
     "metadata": {},
     "output_type": "display_data"
    }
   ],
   "source": [
    "import matplotlib.pyplot as plt\n",
    "import numpy as np\n",
    "import scipy.io as sio\n",
    "mat_contents = sio.loadmat('/Users/RomanKoshkin/Documents/MATLAB/EEG.mat')\n",
    "\n",
    "\n",
    "dat = mat_contents['X'].mean(axis=0)\n",
    "print(dat.shape)\n",
    "X = dat[32,:].flatten()\n",
    "S = dat[33,:].flatten()\n",
    "# S = dat[10,:].flatten()\n",
    "\n",
    "granularity = 23\n",
    "xedges = np.linspace(-6,6,granularity).tolist()\n",
    "yedges = np.linspace(-6,6,granularity).tolist()\n",
    "\n",
    "JD,_,_ = np.histogram2d(X,S, bins=(xedges, yedges), density=False)\n",
    "JD = JD/np.sum(JD)\n",
    "\n",
    "# for avoid division by zero, we replace zeros by extremely low values:\n",
    "# for x in range(granularity-1):\n",
    "#     for y in range(granularity-1):\n",
    "#         JD[x,y] = 2.2204460492503131e-16 if JD[x,y]==0 else JD[x,y]\n",
    "\n",
    "plt.figure(figsize = (15,5))\n",
    "plt.subplot(1,3,1)\n",
    "plt.plot(X)\n",
    "plt.plot(S)\n",
    "plt.title('Var. 1 and Var. 2')\n",
    "plt.subplot(1,3,2)\n",
    "plt.imshow(JD)\n",
    "plt.title('Joint Distribution')\n",
    "plt.subplot(1,3,3)\n",
    "plt.plot(xedges[1:], JD.sum(axis=0))\n",
    "plt.plot(xedges[1:], JD.sum(axis=1))\n",
    "plt.title('Marginal Distributions')"
   ]
  },
  {
   "cell_type": "code",
   "execution_count": 9,
   "metadata": {},
   "outputs": [
    {
     "name": "stdout",
     "output_type": "stream",
     "text": [
      "Entropy of Var. #1:\t 2.1395014855363037\n"
     ]
    }
   ],
   "source": [
    "# entropy of var #1\n",
    "P = JD.sum(axis=0)\n",
    "H1 = 0\n",
    "for i in range(len(P)):\n",
    "    if P[i]>0:\n",
    "        H1 += -P[i]*np.log(P[i])\n",
    "    else:\n",
    "        pass\n",
    "print('Entropy of Var. #1:\\t', H1)"
   ]
  },
  {
   "cell_type": "code",
   "execution_count": 10,
   "metadata": {},
   "outputs": [
    {
     "name": "stdout",
     "output_type": "stream",
     "text": [
      "Entropy of Var. #2:\t 2.6738577432932296\n"
     ]
    }
   ],
   "source": [
    "# entropy of var #2\n",
    "Q = JD.sum(axis=1)\n",
    "H2 = 0\n",
    "for i in range(len(Q)):\n",
    "    if Q[i]>0:\n",
    "        H2 += -Q[i]*np.log(Q[i])\n",
    "    else:\n",
    "        pass\n",
    "print('Entropy of Var. #2:\\t', H2)"
   ]
  },
  {
   "cell_type": "code",
   "execution_count": 11,
   "metadata": {},
   "outputs": [
    {
     "name": "stdout",
     "output_type": "stream",
     "text": [
      "Entropy of the joint distribution of Var. #1 and Var.2:\t 2.6738577432932296\n"
     ]
    }
   ],
   "source": [
    "# joint entropy\n",
    "JE = 0\n",
    "for i in range(len(P)):\n",
    "    for j in range(len(Q)):\n",
    "        if JD[i,j]>0:\n",
    "            JE += -JD[i,j]*np.log(JD[i,j])\n",
    "        else:\n",
    "            pass\n",
    "print('Entropy of the joint distribution of Var. #1 and Var.2:\\t', H2)"
   ]
  },
  {
   "cell_type": "code",
   "execution_count": 12,
   "metadata": {},
   "outputs": [
    {
     "data": {
      "text/plain": [
       "0.7616382637871798"
      ]
     },
     "execution_count": 12,
     "metadata": {},
     "output_type": "execute_result"
    }
   ],
   "source": [
    "MI = (H1 + H2 - JE)/np.sqrt(H1+H2)\n",
    "MI"
   ]
  },
  {
   "cell_type": "code",
   "execution_count": 13,
   "metadata": {},
   "outputs": [
    {
     "data": {
      "text/plain": [
       "0.7303552537149037"
      ]
     },
     "execution_count": 13,
     "metadata": {},
     "output_type": "execute_result"
    }
   ],
   "source": [
    "MI = 0\n",
    "for j in range(len(Q)):\n",
    "    for i in range(len(P)):\n",
    "        if JD[i,j]>0 and P[i]>0 and Q[j]>0:\n",
    "            MI += JD[i,j]*np.log(JD[i,j]/(P[i]*Q[j]))\n",
    "        else:\n",
    "            pass\n",
    "MI\n",
    "MI/np.sqrt(H1+H2)"
   ]
  },
  {
   "cell_type": "code",
   "execution_count": null,
   "metadata": {},
   "outputs": [],
   "source": []
  }
 ],
 "metadata": {
  "kernelspec": {
   "display_name": "Python 3",
   "language": "python",
   "name": "python3"
  },
  "language_info": {
   "codemirror_mode": {
    "name": "ipython",
    "version": 3
   },
   "file_extension": ".py",
   "mimetype": "text/x-python",
   "name": "python",
   "nbconvert_exporter": "python",
   "pygments_lexer": "ipython3",
   "version": "3.6.3"
  }
 },
 "nbformat": 4,
 "nbformat_minor": 2
}
