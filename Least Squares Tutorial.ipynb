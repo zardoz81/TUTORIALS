{
 "cells": [
  {
   "cell_type": "markdown",
   "metadata": {},
   "source": [
    "# Least Squares Tutorial"
   ]
  },
  {
   "cell_type": "code",
   "execution_count": 1,
   "metadata": {},
   "outputs": [
    {
     "data": {
      "text/plain": [
       "<matplotlib.collections.PathCollection at 0x10fd72160>"
      ]
     },
     "execution_count": 1,
     "metadata": {},
     "output_type": "execute_result"
    }
   ],
   "source": [
    "import numpy as np\n",
    "import matplotlib.pyplot as plt\n",
    "\n",
    "n = 100\n",
    "x = np.arange(n).flatten()\n",
    "\n",
    "y = np.random.rand(n,1).flatten()\n",
    "y = y*(x*0.03) + x*0.01\n",
    "plt.scatter(x,y, c='red')"
   ]
  },
  {
   "cell_type": "code",
   "execution_count": 2,
   "metadata": {},
   "outputs": [
    {
     "data": {
      "text/html": [
       "<style>div.warn {font-family: Verdana; font-size: 16px;} </style>"
      ],
      "text/plain": [
       "<IPython.core.display.HTML object>"
      ]
     },
     "execution_count": 2,
     "metadata": {},
     "output_type": "execute_result"
    }
   ],
   "source": [
    "from IPython.display import HTML\n",
    "# border-color: #dFb5b4; border-left: 150px solid #dfb5b4; padding: 0.5em;\n",
    "style = \"<style>div.warn {font-family: Verdana; font-size: 16px;} </style>\"\n",
    "HTML(style)"
   ]
  },
  {
   "cell_type": "markdown",
   "metadata": {},
   "source": [
    "<div class=\"warn\">\n",
    "\n",
    "## Way 1\n",
    "\n",
    "### Partial derivatives (system of equations)"
   ]
  },
  {
   "cell_type": "markdown",
   "metadata": {},
   "source": [
    "<div class=\"warn\">\n",
    "    \n",
    "we need to define a line \n",
    "\n",
    "$${ y = kx+b }$$ \n",
    "\n",
    "such that the error betwee each of its y-coordinate and the y-coordinate of the corresponding (lying on the same x-coordinate) data points (${y_i}$) is minimized. We will only care about absolute values of the errors, so we'll use the squares.\n",
    "$${L(k,b) = \\sum_{i}{(y_i - kx_i - b)^2}}$$\n",
    "We need to find to differentiate (using the chain rule) this expression and set it to zero. That's where this loss (error) will be minimized.\n",
    "\n",
    "\n",
    "$$\\begin{cases} \\frac{\\partial L}{\\partial k} = -2 \\sum_{i}{(y_i - kx_i-b)*x_i = 0} \\\\ \\frac{\\partial L}{\\partial b} = -2 \\sum_{i}{(y_i - kx_i-b)*1} = 0 \\end{cases}$$\n",
    "\n",
    "Dropping the -2 and expading the brackets and the sums (for convenience), we have:\n",
    "\n",
    "$$\\begin{cases} \\frac{\\partial L}{\\partial k} = \\sum_{i}{y_ix_i} - k\\sum_{i}{x_ix_i} - b\\sum_{i}{x_i} = 0 \\\\ \\frac{\\partial L}{\\partial b} = \\sum_{i}{y_i} - k\\sum_{i}{x_i}-b\\sum_{i}{1} = 0 \\end{cases}$$\n",
    "\n",
    "The sigmas are in fact dot products. Let's rewrite the system of equations to get rid of the clutter:\n",
    "\n",
    "\n",
    "\n",
    "\n",
    "Now solve for $k$ and for $b$\n",
    "\n",
    "\n",
    "$$\\begin{cases} \\mathbf{y}^\\top \\mathbf{x} - k \\mathbf{x}^\\top \\mathbf{x} = b\\sum_{i}{x_i}\\\\\n",
    "\\sum_{i}{y_i} - k \\sum_{i}{x_i} = bn \\end{cases}$$\n",
    "\n",
    "Now lets multiply both sides of the second equation in the system by $\\frac{\\sum_{i}{x_i}}{n}$\n",
    "\n",
    "$$\\begin{cases} \\mathbf{y}^\\top \\mathbf{x} - k \\mathbf{x}^\\top \\mathbf{x} = b\\sum_{i}{x_i}\\\\\n",
    "\\sum_{i}{y_i}\\frac{\\sum_{i}{x_i}}{n} - k \\sum_{i}{x_i}\\frac{\\sum_{i}{x_i}}{n} = bn\\frac{\\sum_{i}{x_i}}{n} \\end{cases}$$\n",
    "\n",
    "The right terms of both equations are now equal. We can subtract the secod from the first to get rid (temporarily) of the term containing the unknown variable $b$, and solve for $k$. \n",
    "\n",
    "\n",
    "$$ k = \\frac{\\mathbf{y}^\\top \\mathbf{x} - \\sum_{i}{y_i}a}{\\mathbf{x}^\\top \\mathbf{x} - \\sum_{i}{x_i}a}$$\n",
    "where $$ a = \\frac{\\sum_{i}{x_i}}{n}$$\n",
    "\n",
    "\n",
    "\n",
    "Then we'll solve similarly for $b$, for which we need to get rid of the terms contaning $k$. For this we need to multiply the second equation by $\\frac{\\mathbf{x}^\\top \\mathbf{x}}{\\sum_{i}{x_i}}$ and then, to cancel the terms containing $k$, subtract this second equation from the first one, and solve for $b$:\n",
    "\n",
    "$$ b = \\frac{\\mathbf{y}^\\top \\mathbf{x} - \\sum_{i}{y_i}a}{\\sum_{i}{x_i} - na}$$\n",
    "where $$ a = \\frac{\\mathbf{x}^\\top \\mathbf{x}}{\\sum_{i}{x_i}}$$\n",
    "\n",
    "</div>"
   ]
  },
  {
   "cell_type": "code",
   "execution_count": 3,
   "metadata": {},
   "outputs": [
    {
     "name": "stdout",
     "output_type": "stream",
     "text": [
      "k 0.02522797904701409\n",
      "b 0.02587862974767416\n"
     ]
    }
   ],
   "source": [
    "a = np.sum(x)/n\n",
    "k = (np.dot(y,x) - np.sum(y)*a)/(np.dot(x,x) - np.sum(x)*a)\n",
    "print('k', k)\n",
    "a = np.dot(x,x)/np.sum(x)\n",
    "b = (np.dot(y,x) - np.sum(y)*a)/(np.sum(x) - n*a)\n",
    "print('b', b)"
   ]
  },
  {
   "cell_type": "code",
   "execution_count": 4,
   "metadata": {},
   "outputs": [
    {
     "data": {
      "text/plain": [
       "[<matplotlib.lines.Line2D at 0x10dc9f438>]"
      ]
     },
     "execution_count": 4,
     "metadata": {},
     "output_type": "execute_result"
    },
    {
     "data": {
      "image/png": "[encoded data removed]",
      "text/plain": [
       "<matplotlib.figure.Figure at 0x10dc9f400>"
      ]
     },
     "metadata": {},
     "output_type": "display_data"
    }
   ],
   "source": [
    "y_p = k*x + b\n",
    "plt.scatter(x,y, color='red')\n",
    "plt.plot(x,y_p)\n"
   ]
  },
  {
   "cell_type": "markdown",
   "metadata": {},
   "source": [
    "<div class=\"warn\">\n",
    "## Way 2\n",
    "WE can also use SVD (PCA) to find the best fit line. Then first eigenvector is the direction of the best fit line "
   ]
  },
  {
   "cell_type": "code",
   "execution_count": 5,
   "metadata": {},
   "outputs": [
    {
     "data": {
      "text/plain": [
       "Text(0.5,1,'k = -1.00 \\t b = -0.03')"
      ]
     },
     "execution_count": 5,
     "metadata": {},
     "output_type": "execute_result"
    },
    {
     "data": {
      "image/png": "[encoded data removed]",
      "text/plain": [
       "<matplotlib.figure.Figure at 0x10dd31c88>"
      ]
     },
     "metadata": {},
     "output_type": "display_data"
    }
   ],
   "source": [
    "X = np.vstack([x,y])\n",
    "U,S,V = np.linalg.svd(X)\n",
    "plt.scatter(X[0,:], X[1,:])\n",
    "plt.plot([0, abs(U[0,0]*100)], [0, abs(U[1,0]*100)])\n",
    "plt.title('k = {:.2f} \\t b = {:.2f}'.format(U[0,0], U[1,0]))"
   ]
  },
  {
   "cell_type": "markdown",
   "metadata": {},
   "source": [
    "<div class=\"warn\">\n",
    "## Way 3\n",
    "\n",
    "We can also do a trick and plug the intercept (bias) coefficient into the weight vector $\\beta$ as the last element. We will also need to add an additional 'variable' to the data as the last column of ones. (**Column, if your predictors are in columns. Don't get confused, because in EEG predictors are in rows, while time samples are in columns**)"
   ]
  },
  {
   "cell_type": "markdown",
   "metadata": {},
   "source": [
    "<div class=\"warn\">\n",
    "$$ L = \\frac{1}{2}(\\mathbf{X} \\mathbf{\\beta} - \\mathbf{y})^2 $$\n",
    "\n",
    "$$ \\frac{dL}{d\\beta} = (\\mathbf{X}^{\\top}-\\mathbf{y})\\mathbf{X}^{\\top} $$\n",
    "\n",
    "set the derivative to zero, expand, and rearrange, multiply by inverse from the left:\n",
    "\n",
    "\n",
    "$$ (\\mathbf{X}^{\\top}\\mathbf{X})^{-1}\\mathbf{X}^{\\top}\\mathbf{X}  \\mathbf{\\beta} = (\\mathbf{X}^{\\top}\\mathbf{X})^{-1} \\mathbf{X}\\mathbf{y} $$\n",
    "\n",
    "$$\\mathbf{\\beta} = (\\mathbf{X}^{\\top}\\mathbf{X})^{-1} \\mathbf{X}\\mathbf{y} $$"
   ]
  },
  {
   "cell_type": "code",
   "execution_count": 6,
   "metadata": {},
   "outputs": [
    {
     "name": "stdout",
     "output_type": "stream",
     "text": [
      "k = 0.0252 \t b = 0.0259\n"
     ]
    }
   ],
   "source": [
    "l = X.shape[1]\n",
    "x = X[0,:].reshape(l,1)\n",
    "x = np.concatenate((x, np.ones((l,1))), axis=1)\n",
    "y = X[1,:].reshape(l,1)\n",
    "# beta = np.linalg.inv(np.dot(x.T,x))\n",
    "beta = (np.linalg.inv(np.dot(x.T,x))).dot(x.T).dot(y)\n",
    "print('k = {:.4f} \\t b = {:.4f}'.format(beta[0,0], beta[1,0]))"
   ]
  },
  {
   "cell_type": "markdown",
   "metadata": {},
   "source": [
    "## How good is the fit?"
   ]
  },
  {
   "cell_type": "code",
   "execution_count": 7,
   "metadata": {},
   "outputs": [],
   "source": [
    "x = x[:,0].flatten()"
   ]
  },
  {
   "cell_type": "code",
   "execution_count": 8,
   "metadata": {},
   "outputs": [
    {
     "data": {
      "image/png": "[encoded data removed]",
      "text/plain": [
       "<matplotlib.figure.Figure at 0x10ffcecf8>"
      ]
     },
     "metadata": {},
     "output_type": "display_data"
    }
   ],
   "source": [
    "k = beta[0,0]\n",
    "b = beta[1,0]\n",
    "y = k*x + b\n",
    "\n",
    "plt.figure(figsize=(15,5))\n",
    "plt.subplot(1,3,1)\n",
    "plt.scatter(X[0,:], X[1,:])\n",
    "plt.scatter(x,y)\n",
    "# compute and plot residuals:\n",
    "resid = X[1,:] - y\n",
    "plt.subplot(1,3,2)\n",
    "plt.hist(resid)\n",
    "plt.title('Residuals')\n",
    "plt.subplot(1,3,3)\n",
    "q = plt.plot(resid)"
   ]
  },
  {
   "cell_type": "markdown",
   "metadata": {},
   "source": [
    "<div class=\"warn\">\n",
    "## Compute goodness of fit ($R^{2}$)\n",
    "$$ Goodness.of.fit = \\frac{variance.explained.by.the.model}{total.variance.in.the.response.var}$$\n",
    "\n",
    "\n",
    "\n",
    "\n",
    "$$ \\mathbf{R^{2} = \\frac{Var(y_{GT}) - Var(y_{resid})}{Var(y_{GT})}}$$"
   ]
  },
  {
   "cell_type": "code",
   "execution_count": 21,
   "metadata": {},
   "outputs": [
    {
     "name": "stdout",
     "output_type": "stream",
     "text": [
      "Total variance in the response variable:\t 0.7969303517755365\n",
      "unexplaided variance:\t\t\t\t 0.2666076170222846\n",
      "Explained variance (R^2):\t\t\t 0.6654568163600609\n",
      "Check if it is correct using another method:\t 0.6654568163600612\n"
     ]
    }
   ],
   "source": [
    "print('Total variance in the response variable:\\t', np.var(X[1,:]))\n",
    "print('unexplaided variance:\\t\\t\\t\\t', np.var(resid))\n",
    "print('Explained variance (R^2):\\t\\t\\t', (np.var(X[1,:])-np.var(resid))/np.var(X[1,:]))\n",
    "print('Check if it is correct using another method:\\t', np.corrcoef(X[1,:].flatten(), y)[0,1]**2)"
   ]
  },
  {
   "cell_type": "code",
   "execution_count": null,
   "metadata": {},
   "outputs": [],
   "source": []
  },
  {
   "cell_type": "code",
   "execution_count": null,
   "metadata": {},
   "outputs": [],
   "source": []
  },
  {
   "cell_type": "code",
   "execution_count": null,
   "metadata": {},
   "outputs": [],
   "source": []
  },
  {
   "cell_type": "code",
   "execution_count": null,
   "metadata": {},
   "outputs": [],
   "source": []
  },
  {
   "cell_type": "code",
   "execution_count": 22,
   "metadata": {},
   "outputs": [
    {
     "data": {
      "text/plain": [
       "0.7969303517755365"
      ]
     },
     "execution_count": 22,
     "metadata": {},
     "output_type": "execute_result"
    }
   ],
   "source": [
    "np.var(X[1,:])"
   ]
  },
  {
   "cell_type": "code",
   "execution_count": 23,
   "metadata": {},
   "outputs": [
    {
     "data": {
      "text/plain": [
       "0.5303227347532522"
      ]
     },
     "execution_count": 23,
     "metadata": {},
     "output_type": "execute_result"
    }
   ],
   "source": [
    "np.var(y)"
   ]
  },
  {
   "cell_type": "code",
   "execution_count": 24,
   "metadata": {},
   "outputs": [
    {
     "name": "stdout",
     "output_type": "stream",
     "text": [
      "R\t 0.8239953186980269\n",
      "R2\t 0.678968285236263\n"
     ]
    }
   ],
   "source": [
    "R = np.cov(X[1,:], y)[0,1]/np.sqrt(np.var(X[1,:])*np.var(y))\n",
    "print('R\\t', R)\n",
    "print('R2\\t', R**2)"
   ]
  },
  {
   "cell_type": "code",
   "execution_count": 25,
   "metadata": {},
   "outputs": [
    {
     "data": {
      "text/plain": [
       "array([[0.80498015, 0.53567953],\n",
       "       [0.53567953, 0.53567953]])"
      ]
     },
     "execution_count": 25,
     "metadata": {},
     "output_type": "execute_result"
    }
   ],
   "source": [
    "np.cov(X[1,:], y)"
   ]
  },
  {
   "cell_type": "code",
   "execution_count": null,
   "metadata": {},
   "outputs": [],
   "source": []
  }
 ],
 "metadata": {
  "kernelspec": {
   "display_name": "Python 3",
   "language": "python",
   "name": "python3"
  },
  "language_info": {
   "codemirror_mode": {
    "name": "ipython",
    "version": 3
   },
   "file_extension": ".py",
   "mimetype": "text/x-python",
   "name": "python",
   "nbconvert_exporter": "python",
   "pygments_lexer": "ipython3",
   "version": "3.6.3"
  }
 },
 "nbformat": 4,
 "nbformat_minor": 1
}
