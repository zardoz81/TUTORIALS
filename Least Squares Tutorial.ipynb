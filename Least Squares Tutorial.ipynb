{
 "cells": [
  {
   "cell_type": "markdown",
   "metadata": {},
   "source": [
    "# Least Squares Tutorial"
   ]
  },
  {
   "cell_type": "code",
   "execution_count": 58,
   "metadata": {},
   "outputs": [
    {
     "data": {
      "text/plain": [
       "<matplotlib.collections.PathCollection at 0x113551c18>"
      ]
     },
     "execution_count": 58,
     "metadata": {},
     "output_type": "execute_result"
    },
    {
     "data": {
      "image/png": "[encoded data removed]",
      "text/plain": [
       "<matplotlib.figure.Figure at 0x1128e8fd0>"
      ]
     },
     "metadata": {},
     "output_type": "display_data"
    }
   ],
   "source": [
    "import numpy as np\n",
    "import matplotlib.pyplot as plt\n",
    "\n",
    "n = 100\n",
    "x = np.arange(n).flatten()\n",
    "\n",
    "y = np.random.rand(n,1).flatten()\n",
    "y = y + x*0.01\n",
    "plt.scatter(x,y)"
   ]
  },
  {
   "cell_type": "markdown",
   "metadata": {},
   "source": [
    "we need to define a line ($${ y = kx+b }$$) such that the error betwee each of its y-coordinate and the y-coordinate of the corresponding (lying on the same x-coordinate) data points (${y_i}$) is minimized. We will only care about absolute values of the errors, so we'll use the squares.\n",
    "$${L(k,b) = \\sum_{i}{(y_i - kx_i - b)^2}}$$\n",
    "We need to find to differentiate (using the chain rule) this expression and set it to zero. That's where this loss (error) will be minimized.\n",
    "\n",
    "\n",
    "$$\\begin{cases} \\frac{\\partial L}{\\partial k} = -2 \\sum_{i}{(y_i - kx_i-b)*x_i = 0} \\\\ \\frac{\\partial L}{\\partial b} = -2 \\sum_{i}{(y_i - kx_i-b)*1} = 0 \\end{cases}$$\n",
    "\n",
    "Dropping the -2 and expading the brackets and the sums (for convenience), we have:\n",
    "\n",
    "$$\\begin{cases} \\frac{\\partial L}{\\partial k} = \\sum_{i}{y_ix_i} - k\\sum_{i}{x_ix_i} - b\\sum_{i}{x_i} = 0 \\\\ \\frac{\\partial L}{\\partial b} = \\sum_{i}{y_i} - k\\sum_{i}{x_i}-b\\sum_{i}{1} = 0 \\end{cases}$$\n",
    "\n",
    "The sigmas are in fact dot products. Let's rewrite the system of equations to get rid of the clutter:\n",
    "\n",
    "\n",
    "\n",
    "\n",
    "Now solve for $k$ and for $b$\n",
    "\n",
    "\n",
    "$$\\begin{cases} \\mathbf{y}^\\top \\mathbf{x} - k \\mathbf{x}^\\top \\mathbf{x} = b\\sum_{i}{x_i}\\\\\n",
    "\\sum_{i}{y_i} - k \\sum_{x}{x_i} = bn \\end{cases}$$\n",
    "\n",
    "Now lets multiply both sides of the second equation in the system by $\\frac{\\sum_{i}{x_i}}{n}$\n",
    "\n",
    "$$\\begin{cases} \\mathbf{y}^\\top \\mathbf{x} - k \\mathbf{x}^\\top \\mathbf{x} = b\\sum_{i}{x_i}\\\\\n",
    "\\sum_{i}{y_i}\\frac{\\sum_{i}{x_i}}{n} - k \\sum_{x}{x_i}\\frac{\\sum_{i}{x_i}}{n} = bn\\frac{\\sum_{i}{x_i}}{n} \\end{cases}$$\n",
    "\n",
    "The right terms of both equations are now equal. We can subtract the secod from the first to get rid (temporarily) of the term containing the unknown variable $b$, and solve for $k$. Then we'll solve similarly for $b$."
   ]
  },
  {
   "cell_type": "code",
   "execution_count": 59,
   "metadata": {},
   "outputs": [
    {
     "name": "stdout",
     "output_type": "stream",
     "text": [
      "k 0.009976582106771225\n",
      "b 0.5178845090384154\n"
     ]
    }
   ],
   "source": [
    "a = np.sum(x)/n\n",
    "k = (np.dot(y,x) - np.sum(y)*a)/(np.dot(x,x) - np.sum(x)*a)\n",
    "print('k', k)\n",
    "a = np.dot(x,x)/np.sum(x)\n",
    "b = (np.dot(y,x) - np.sum(y)*a)/(np.sum(x) - n*a)\n",
    "print('b', b)"
   ]
  },
  {
   "cell_type": "code",
   "execution_count": 60,
   "metadata": {},
   "outputs": [
    {
     "data": {
      "text/plain": [
       "[<matplotlib.lines.Line2D at 0x1135471d0>]"
      ]
     },
     "execution_count": 60,
     "metadata": {},
     "output_type": "execute_result"
    },
    {
     "data": {
      "image/png": "[encoded data removed]",
      "text/plain": [
       "<matplotlib.figure.Figure at 0x110612390>"
      ]
     },
     "metadata": {},
     "output_type": "display_data"
    }
   ],
   "source": [
    "y_p = k*x + b\n",
    "plt.scatter(x,y)\n",
    "plt.plot(x,y_p)"
   ]
  },
  {
   "cell_type": "code",
   "execution_count": null,
   "metadata": {},
   "outputs": [],
   "source": []
  }
 ],
 "metadata": {
  "kernelspec": {
   "display_name": "Python 3",
   "language": "python",
   "name": "python3"
  },
  "language_info": {
   "codemirror_mode": {
    "name": "ipython",
    "version": 3
   },
   "file_extension": ".py",
   "mimetype": "text/x-python",
   "name": "python",
   "nbconvert_exporter": "python",
   "pygments_lexer": "ipython3",
   "version": "3.6.3"
  }
 },
 "nbformat": 4,
 "nbformat_minor": 1
}
