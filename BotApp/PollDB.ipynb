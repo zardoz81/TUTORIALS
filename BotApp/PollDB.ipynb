{
 "cells": [
  {
   "cell_type": "code",
   "execution_count": 15,
   "metadata": {},
   "outputs": [],
   "source": [
    "import requests\n"
   ]
  },
  {
   "cell_type": "code",
   "execution_count": 35,
   "metadata": {},
   "outputs": [
    {
     "data": {
      "text/plain": [
       "[{'_id': '5f0084be389ab4b41524cb24',\n",
       "  'chat_id': 348368436,\n",
       "  'engaged': False,\n",
       "  'start_loc': [37.685494, 55.757227],\n",
       "  'start_str': 'Россия, Москва, Волочаевская улица, 3/4с12',\n",
       "  'target_loc': [37.595914, 55.76996],\n",
       "  'target_str': 'Россия, Москва, 1-я Тверская-Ямская улица',\n",
       "  'time': '2020-07-04 13:41:41.494000',\n",
       "  'updated': '2020-07-04 13:31:41.494000',\n",
       "  'user_id': 348368436,\n",
       "  'user_name': 'Roman'},\n",
       " {'_id': '5f09a31e27170a57a4867fdd',\n",
       "  'chat_id': 348368436,\n",
       "  'engaged': False,\n",
       "  'start_loc': [37.683347, 55.766375],\n",
       "  'start_str': 'МГТУ им. Н.Э.Баумана, 2-я Бауманская улица, Москва, Россия',\n",
       "  'target_loc': [37.405974, 55.962962],\n",
       "  'target_str': 'Шереметьево, Терминал D, Москва, Россия',\n",
       "  'time': '2020-07-11 11:41:42.178000',\n",
       "  'updated': '2020-07-11 11:31:42.178000',\n",
       "  'user_id': 348368436,\n",
       "  'user_name': 'Roman'},\n",
       " {'_id': '5f10d6ef27170a57a4867ff2',\n",
       "  'chat_id': 348368436,\n",
       "  'engaged': False,\n",
       "  'start_loc': [60.496674, 56.820553],\n",
       "  'start_str': 'Московский государственный университет',\n",
       "  'target_loc': [37.414921, 55.981404],\n",
       "  'target_str': 'Шереметьево, Терминал B, Химки, Россия',\n",
       "  'time': '2020-07-16 22:48:38.489000',\n",
       "  'updated': '2020-07-16 22:38:38.490000',\n",
       "  'user_id': 348368436,\n",
       "  'user_name': 'Roman'},\n",
       " {'_id': '5f11270527170a57a4867ff4',\n",
       "  'chat_id': 348368436,\n",
       "  'engaged': False,\n",
       "  'start_loc': [37.581496, 55.776618],\n",
       "  'start_str': 'Белорусский вокзал, площадь Тверская Застава, Москва, Россия',\n",
       "  'target_loc': [37.407995, 55.601177],\n",
       "  'target_str': 'Метро Филатов луг, Москва, Россия',\n",
       "  'time': '2020-07-17 04:40:20.748000',\n",
       "  'updated': '2020-07-17 04:20:20.748000',\n",
       "  'user_id': 348368436,\n",
       "  'user_name': 'Roman'}]"
      ]
     },
     "execution_count": 35,
     "metadata": {},
     "output_type": "execute_result"
    }
   ],
   "source": [
    "data = {}   \n",
    "\n",
    "data['start_str'] = 'asdf'\n",
    "data['target_str'] = 'asdf'\n",
    "data['target_loc'] = 'asdf'\n",
    "data['user_name'] = 'asdf'\n",
    "data['user_id'] = 'asdf'\n",
    "data['ride_date'] = 'asdf'\n",
    "data['ride_start'] = 'asdf'\n",
    "data['ride_finish'] = 'asdf'\n",
    "\n",
    "\n",
    "resp = requests.post('http://roman-koshkin.unit.oist.jp/user', json=data)\n",
    "resp.json()"
   ]
  },
  {
   "cell_type": "code",
   "execution_count": null,
   "metadata": {},
   "outputs": [],
   "source": []
  },
  {
   "cell_type": "code",
   "execution_count": null,
   "metadata": {},
   "outputs": [],
   "source": []
  }
 ],
 "metadata": {
  "kernelspec": {
   "display_name": "Python 3",
   "language": "python",
   "name": "python3"
  },
  "language_info": {
   "codemirror_mode": {
    "name": "ipython",
    "version": 3
   },
   "file_extension": ".py",
   "mimetype": "text/x-python",
   "name": "python",
   "nbconvert_exporter": "python",
   "pygments_lexer": "ipython3",
   "version": "3.7.3"
  }
 },
 "nbformat": 4,
 "nbformat_minor": 2
}
