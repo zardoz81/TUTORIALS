{
 "cells": [
  {
   "cell_type": "markdown",
   "metadata": {},
   "source": [
    "# Good tutorial on flask & server\n",
    "https://pythonise.com/series/learning-flask/rendering-html-files-with-flask"
   ]
  },
  {
   "cell_type": "code",
   "execution_count": null,
   "metadata": {
    "scrolled": true
   },
   "outputs": [
    {
     "name": "stdout",
     "output_type": "stream",
     "text": [
      " * Serving Flask app \"__main__\" (lazy loading)\n",
      " * Environment: production\n",
      "   WARNING: This is a development server. Do not use it in a production deployment.\n",
      "   Use a production WSGI server instead.\n",
      " * Debug mode: off\n"
     ]
    },
    {
     "name": "stderr",
     "output_type": "stream",
     "text": [
      " * Running on http://127.0.0.1:5000/ (Press CTRL+C to quit)\n"
     ]
    },
    {
     "name": "stdout",
     "output_type": "stream",
     "text": [
      "[('city', 'Moscow'), ('country', 'RU'), ('destination', 'Бирюлёво'), ('desired_GMT', 17), ('time_sent', 17), ('appID', 7561)]\n"
     ]
    },
    {
     "name": "stderr",
     "output_type": "stream",
     "text": [
      "127.0.0.1 - - [04/Aug/2020 12:27:15] \"\u001b[37mPOST /order HTTP/1.0\u001b[0m\" 200 -\n"
     ]
    }
   ],
   "source": [
    "# A very simple Flask Hello World app for you to get started with...\n",
    "from flask import Flask, render_template, request, url_for, jsonify\n",
    "import requests\n",
    "import os\n",
    "\n",
    "\n",
    "# IT IS VERY IMPORTANT TO SPECIFY THE ABSOLUTE (STARTING WITH FORWARD SLASH (I.E. FROM THE ROOT)) OR \n",
    "# RELATIVE PATHS TO WHERE THE STATIC (CSS, JS) AND TEMPLATE (HTML) FILES WILL BE. IT'S OKAY TO HAVE THEM IN \n",
    "# THE SAME FOLDER\n",
    "app = Flask(__name__,\n",
    "            static_url_path='', \n",
    "            static_folder='/Users/romankoshkin/ridesmart',\n",
    "            template_folder='/Users/romankoshkin/ridesmart')\n",
    "\n",
    "@app.route('/site')\n",
    "def site():\n",
    "    return render_template(\"index.html\")\n",
    "\n",
    "@app.route('/')\n",
    "def hello_world():\n",
    "    return 'Hello from Flask!'\n",
    "\n",
    "@app.route('/order', methods=['POST'])\n",
    "def my_test_endpoint():\n",
    "    input_json = request.get_json(force=True) # force=True, if another developer forgot to set the MIME type to 'application/json'\n",
    "    print([(k, input_json[k]) for k in input_json.keys()])\n",
    "    notify(input_json)\n",
    "    add2DB(input_json)\n",
    "    dictToReturn = {'answer':42}\n",
    "    return jsonify(dictToReturn)\n",
    "\n",
    "@app.route('/query-example')\n",
    "def query_example():\n",
    "    language = request.args.get('language') #if key doesn't exist, returns None\n",
    "    framework = request.args['framework']   #if key doesn't exist, returns a 400, bad request error\n",
    "    website = request.args.get('website')\n",
    "\n",
    "    return '''<h1>The language value is: {}</h1><h1>The framework value is: {}</h1><h1>The website value is: {}</h1>'''.format(language, framework, website)\n",
    "\n",
    "def add2DB(input_json):\n",
    "    line = ''\n",
    "    cwd = os.getcwd()\n",
    "    with open(cwd + '/DB.txt', 'a') as f:\n",
    "        for k in input_json.keys():\n",
    "            line += str(input_json[k]) + ','\n",
    "        line += '\\n'\n",
    "        f.writelines(line)\n",
    "\n",
    "def notify(input_json):\n",
    "    bot_token = '1103695667:AAF6_WLEpnh9b4rminEKMzSnje7BiRUPDWQ'\n",
    "    bot_chatID = '348368436'\n",
    "    txt = [input_json[k] for k in input_json.keys()]\n",
    "    bot_message = 'city: {}, Country: {}, destination: {}, desired_GMT: {}, time_sent: {}, appID: {}'.format(*txt)\n",
    "    send_text = ('https://api.telegram.org/bot' + bot_token +\n",
    "             '/sendMessage?chat_id=' + bot_chatID +\n",
    "             '&parse_mode=Markdown&text=' + bot_message)\n",
    "    response = requests.get(send_text)\n",
    "    response.json()\n",
    "\n",
    "def shutdown_server():\n",
    "    func = request.environ.get('werkzeug.server.shutdown')\n",
    "    if func is None:\n",
    "        raise RuntimeError('Not running with the Werkzeug Server')\n",
    "    func()\n",
    "\n",
    "@app.route('/shutdown', methods=['POST'])\n",
    "def shutdown():\n",
    "    shutdown_server()\n",
    "    return 'Server shutting down...'\n",
    "\n",
    "\n",
    "if __name__ == '__main__':\n",
    "#     app.run(debug=False, port=5000) #run app in debug mode on port 5000\n",
    "    app.run(debug=False) #run app in debug mode on port 5000"
   ]
  },
  {
   "cell_type": "code",
   "execution_count": null,
   "metadata": {},
   "outputs": [],
   "source": []
  }
 ],
 "metadata": {
  "kernelspec": {
   "display_name": "Python 3",
   "language": "python",
   "name": "python3"
  },
  "language_info": {
   "codemirror_mode": {
    "name": "ipython",
    "version": 3
   },
   "file_extension": ".py",
   "mimetype": "text/x-python",
   "name": "python",
   "nbconvert_exporter": "python",
   "pygments_lexer": "ipython3",
   "version": "3.7.3"
  }
 },
 "nbformat": 4,
 "nbformat_minor": 2
}
