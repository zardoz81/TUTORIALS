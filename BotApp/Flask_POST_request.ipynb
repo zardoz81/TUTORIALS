{
 "cells": [
  {
   "cell_type": "markdown",
   "metadata": {},
   "source": [
    "# First, run Flask_server.ipynb in a separate notebook \n",
    "Flask_server.ipynb"
   ]
  },
  {
   "cell_type": "code",
   "execution_count": null,
   "metadata": {},
   "outputs": [],
   "source": [
    "\"\"\"\n",
    "SHUTDOWN A LOCAL SERVER REMOTELY\n",
    "\"\"\"\n",
    "import requests\n",
    "\n",
    "dictToSend = {\n",
    "    'city': 'Moscow',\n",
    "    'country': 'RU',\n",
    "    'destination':'Бирюлёво',\n",
    "    'desired_GMT': 17, \n",
    "    'time_sent': 17,\n",
    "    'appID': 7561\n",
    "}\n",
    "\n",
    "res = requests.post('http://127.0.0.1:5000/shutdown', json=dictToSend)\n",
    "print ('response from server:',res.text)"
   ]
  },
  {
   "cell_type": "code",
   "execution_count": 79,
   "metadata": {},
   "outputs": [
    {
     "name": "stdout",
     "output_type": "stream",
     "text": [
      "response from server: <!DOCTYPE HTML PUBLIC \"-//W3C//DTD HTML 3.2 Final//EN\">\n",
      "<title>500 Internal Server Error</title>\n",
      "<h1>Internal Server Error</h1>\n",
      "<p>The server encountered an internal error and was unable to complete your request. Either the server is overloaded or there is an error in the application.</p>\n",
      "\n"
     ]
    }
   ],
   "source": [
    "\"\"\"\n",
    "SHUTDOWN A REMOTE SERVER REMOTELY\n",
    "\"\"\"\n",
    "import requests\n",
    "\n",
    "dictToSend = {\n",
    "    'city': 'Moscow',\n",
    "    'country': 'RU',\n",
    "    'destination':'Бирюлёво',\n",
    "    'desired_GMT': 17, \n",
    "    'time_sent': 17,\n",
    "    'appID': 7561\n",
    "}\n",
    "\n",
    "res = requests.post('http://nightdude.pythonanywhere.com/shutdown', json=dictToSend)\n",
    "print ('response from server:',res.text)"
   ]
  },
  {
   "cell_type": "code",
   "execution_count": null,
   "metadata": {},
   "outputs": [],
   "source": []
  },
  {
   "cell_type": "code",
   "execution_count": null,
   "metadata": {},
   "outputs": [],
   "source": []
  },
  {
   "cell_type": "code",
   "execution_count": null,
   "metadata": {},
   "outputs": [],
   "source": []
  },
  {
   "cell_type": "code",
   "execution_count": 67,
   "metadata": {},
   "outputs": [
    {
     "name": "stdout",
     "output_type": "stream",
     "text": [
      "response from server: {\"answer\":42}\n",
      "\n"
     ]
    }
   ],
   "source": [
    "\"\"\"\n",
    "POST A REQUEST TO A LOCAL SERVER\n",
    "\"\"\"\n",
    "import requests\n",
    "\n",
    "dictToSend = {\n",
    "    'city': 'Moscow',\n",
    "    'country': 'RU',\n",
    "    'destination':'Бирюлёво',\n",
    "    'desired_GMT': 17, \n",
    "    'time_sent': 17,\n",
    "    'appID': 7561\n",
    "}\n",
    "\n",
    "res = requests.post('http://127.0.0.1:5000/order', json=dictToSend)\n",
    "print ('response from server:',res.text)\n",
    "dictFromServer = res.json()"
   ]
  },
  {
   "cell_type": "code",
   "execution_count": 15,
   "metadata": {},
   "outputs": [
    {
     "name": "stdout",
     "output_type": "stream",
     "text": [
      "response from server: {\"ans\":\"good\",\"answer\":42}\n",
      "\n"
     ]
    }
   ],
   "source": [
    "\"\"\"\n",
    "POST A REQUEST TO A REMOTE SERVER\n",
    "\"\"\"\n",
    "\n",
    "import requests\n",
    "\n",
    "dictToSend = {\n",
    "    'city': 'Okinawa',\n",
    "    'country': 'JP',\n",
    "    'destination':'Юрово',\n",
    "    'desired_GMT': 17, \n",
    "    'time_sent': 17,\n",
    "    'appID': 7561\n",
    "}\n",
    "\n",
    "res = requests.post('http://nightdude.pythonanywhere.com/order', json=dictToSend)\n",
    "print ('response from server:',res.text)\n",
    "dictFromServer = res.json()"
   ]
  },
  {
   "cell_type": "code",
   "execution_count": 12,
   "metadata": {},
   "outputs": [
    {
     "data": {
      "text/plain": [
       "{'ok': True,\n",
       " 'result': {'message_id': 281,\n",
       "  'from': {'id': 1103695667,\n",
       "   'is_bot': True,\n",
       "   'first_name': 'Nightman33',\n",
       "   'username': 'nightman33_bot'},\n",
       "  'chat': {'id': 348368436,\n",
       "   'first_name': 'Roman',\n",
       "   'last_name': 'Koshkin',\n",
       "   'type': 'private'},\n",
       "  'date': 1587618905,\n",
       "  'text': 'testtest'}}"
      ]
     },
     "execution_count": 12,
     "metadata": {},
     "output_type": "execute_result"
    }
   ],
   "source": [
    "\"\"\"\n",
    "SNIPPET OF CODE TO SEND A MESSAGE TO A TELEGRAM BOT\n",
    "\"\"\"\n",
    "\n",
    "import requests\n",
    "\n",
    "bot_token = '1103695667:AAF6_WLEpnh9b4rminEKMzSnje7BiRUPDWQ'\n",
    "bot_chatID = '348368436'\n",
    "bot_message = 'testtest'\n",
    "send_text = ('https://api.telegram.org/bot' + bot_token + \n",
    "             '/sendMessage?chat_id=' + bot_chatID + \n",
    "             '&parse_mode=Markdown&text=' + bot_message)\n",
    "\n",
    "response = requests.get(send_text)\n",
    "response.json()"
   ]
  },
  {
   "cell_type": "markdown",
   "metadata": {},
   "source": [
    "### You can also send information to a server by appending parameter names and their values after a \"?\" like this:\n",
    "\n",
    "\"\"\"\n",
    "SNIPPET OF CODE TO SEND A MESSAGE TO A TELEGRAM BOT\n",
    "\"\"\"\n",
    "\n",
    "http://nightdude.pythonanywhere.com/query-example?language=Russian&framework=B&website=Roman\n",
    "\n",
    "http://127.0.0.1:5000/query-example?language=Russian&framework=B&website=Roman\n",
    "\n",
    "In this example we pass 3 parameters:\n",
    "- language=Russian\n",
    "- framework=B\n",
    "- website=Roman"
   ]
  },
  {
   "cell_type": "code",
   "execution_count": null,
   "metadata": {},
   "outputs": [],
   "source": []
  },
  {
   "cell_type": "markdown",
   "metadata": {},
   "source": [
    "## Great tutorial on how to use Flask\n",
    "https://scotch.io/bar-talk/processing-incoming-request-data-in-flask"
   ]
  },
  {
   "cell_type": "markdown",
   "metadata": {},
   "source": [
    "## How to intercept POST requests from an app (mobile/desktop)\n",
    "\n",
    "https://hookbin.com/G9JJxp1NgJupadWdQ1n9"
   ]
  },
  {
   "cell_type": "markdown",
   "metadata": {},
   "source": [
    "- Логи пишутся сюда. При запросе с приложения на сервер, сервер пишет 6 переменных (полученных с клиента) в этот лог, отправляет сообщение на бот\n",
    "https://www.pythonanywhere.com/user/nightdude/files/home/nightdude/DB.txt\n",
    "\n",
    "- Серверная часть здесь\n",
    "    https://www.pythonanywhere.com/user/nightdude/files/home/nightdude/mysite/flask_app.py?edit\n",
    "\n",
    "- и здесь https:localhost/Users/romankoshkin/TUTORIALS/Flask_server.ipynb"
   ]
  },
  {
   "cell_type": "code",
   "execution_count": null,
   "metadata": {},
   "outputs": [],
   "source": []
  },
  {
   "cell_type": "code",
   "execution_count": null,
   "metadata": {},
   "outputs": [],
   "source": []
  },
  {
   "cell_type": "code",
   "execution_count": null,
   "metadata": {},
   "outputs": [],
   "source": []
  },
  {
   "cell_type": "code",
   "execution_count": null,
   "metadata": {},
   "outputs": [],
   "source": []
  },
  {
   "cell_type": "code",
   "execution_count": null,
   "metadata": {},
   "outputs": [],
   "source": []
  },
  {
   "cell_type": "code",
   "execution_count": 22,
   "metadata": {},
   "outputs": [
    {
     "data": {
      "text/plain": [
       "'item1: 0 \\nitem2: 1 \\n'"
      ]
     },
     "execution_count": 22,
     "metadata": {},
     "output_type": "execute_result"
    }
   ],
   "source": [
    "input_json = {'item1':'0', 'item2':'1'}\n",
    "bot_message = ''\n",
    "for key in input_json.keys():\n",
    "    bot_message += '{}: {} \\n'.format(str(key), str(input_json[key]))\n",
    "bot_message"
   ]
  },
  {
   "cell_type": "code",
   "execution_count": 16,
   "metadata": {},
   "outputs": [
    {
     "data": {
      "text/plain": [
       "' city: Moscow, \\n Country: Россия, \\n Destination: Юго-Запад, \\n DesiredGMT: 28.4.2020, \\n Submitted at: 22.22, \\n AppID: 00000'"
      ]
     },
     "execution_count": 16,
     "metadata": {},
     "output_type": "execute_result"
    }
   ],
   "source": [
    "import pickle\n",
    "with open('dump.p', 'rb') as f:\n",
    "    txt = pickle.load(f)\n",
    "txt"
   ]
  },
  {
   "cell_type": "code",
   "execution_count": 17,
   "metadata": {},
   "outputs": [
    {
     "data": {
      "text/plain": [
       "' city: Moscow, \\n  country: Россия, \\n  Destination: Юго-Запад, \\n  desiredGMT: 30.4.2020, \\n  time_sent: 22.22, \\n  AppID: 00000, \\n '"
      ]
     },
     "execution_count": 17,
     "metadata": {},
     "output_type": "execute_result"
    }
   ],
   "source": [
    "import pickle\n",
    "with open('dump1.p', 'rb') as f:\n",
    "    txt = pickle.load(f)\n",
    "txt"
   ]
  },
  {
   "cell_type": "code",
   "execution_count": 20,
   "metadata": {},
   "outputs": [
    {
     "data": {
      "text/plain": [
       "' city: Moscow, \\n  country: Россия, \\n  Destination: Юго-Запад, \\n  desiredGMT: 30.4.2020, \\n  time_sent: 22.22, \\n  AppID: 00000'"
      ]
     },
     "execution_count": 20,
     "metadata": {},
     "output_type": "execute_result"
    }
   ],
   "source": [
    "txt[:-4]"
   ]
  },
  {
   "cell_type": "code",
   "execution_count": null,
   "metadata": {},
   "outputs": [],
   "source": []
  }
 ],
 "metadata": {
  "kernelspec": {
   "display_name": "Python 3",
   "language": "python",
   "name": "python3"
  },
  "language_info": {
   "codemirror_mode": {
    "name": "ipython",
    "version": 3
   },
   "file_extension": ".py",
   "mimetype": "text/x-python",
   "name": "python",
   "nbconvert_exporter": "python",
   "pygments_lexer": "ipython3",
   "version": "3.7.3"
  }
 },
 "nbformat": 4,
 "nbformat_minor": 2
}
