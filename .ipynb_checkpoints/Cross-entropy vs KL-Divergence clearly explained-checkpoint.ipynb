{
 "cells": [
  {
   "cell_type": "code",
   "execution_count": 3,
   "metadata": {},
   "outputs": [
    {
     "name": "stdout",
     "output_type": "stream",
     "text": [
      "[0.2 0.4 0.3 0.1]\n",
      "[0.2 0.4 0.3 0.1]\n",
      "Cross-entropy: \n",
      "Entropy:  1.2798542258336674\n",
      "D_kl:  0.0\n",
      "[0.3 0.2 0.1 0.4]\n",
      "[0.2 0.4 0.3 0.1]\n",
      "Cross-entropy:  1.6669743269244566\n",
      "Entropy:  1.2798542258336674\n",
      "D_kl:  0.3871201010907892\n"
     ]
    }
   ],
   "source": [
    "import numpy as np\n",
    "\n",
    "predictions = np.array([0.2, 0.4, 0.3, 0.1])\n",
    "print(predictions)\n",
    "targets = np.array([0.2, 0.4, 0.3, 0.1])\n",
    "print(targets)\n",
    "H_x = -np.dot(targets, np.log(predictions))\n",
    "print('Cross-entropy: ', )\n",
    "H = -np.dot(targets, np.log(targets))\n",
    "print('Entropy: ', H)\n",
    "print('D_kl: ', H_x - H)\n",
    "\n",
    "predictions = np.array([0.2, 0.4, 0.3, 0.1])\n",
    "predictions = np.random.permutation(predictions)\n",
    "print(predictions)\n",
    "targets = np.array([0.2, 0.4, 0.3, 0.1])\n",
    "print(targets)\n",
    "H_x = -np.dot(targets, np.log(predictions))\n",
    "print('Cross-entropy: ', H_x)\n",
    "print('Entropy: ', H)\n",
    "print('D_kl: ', H_x - H)"
   ]
  },
  {
   "cell_type": "markdown",
   "metadata": {},
   "source": [
    "As is said in Wikipedia, KL-divergence is a better measure than cross-entropy of a 'distance' between two distributions (i.e. *models* of data), because it subtracts entropy from cross-entropy to give a pure measure of distance.\n",
    "\n",
    "$$\n",
    "D_{KL}(P||Q) = -\\mathbb{E}_{p(x)}\\log q(x) + \\mathbb{E}_{p(x)}\\log p(x) = - \\sum_{x \\in \\mathcal{X}} p(x) \\log q(x) + \\sum_{x \\in \\mathcal{X}} p(x) \\log p(x)\n",
    "$$\n",
    "\n",
    "Interestingly, **entropy is the expectation of data under a certain model**, (here $p(x)$)"
   ]
  },
  {
   "cell_type": "code",
   "execution_count": null,
   "metadata": {},
   "outputs": [],
   "source": []
  }
 ],
 "metadata": {
  "kernelspec": {
   "display_name": "Python 3",
   "language": "python",
   "name": "python3"
  },
  "language_info": {
   "codemirror_mode": {
    "name": "ipython",
    "version": 3
   },
   "file_extension": ".py",
   "mimetype": "text/x-python",
   "name": "python",
   "nbconvert_exporter": "python",
   "pygments_lexer": "ipython3",
   "version": "3.7.3"
  }
 },
 "nbformat": 4,
 "nbformat_minor": 2
}
