{
 "cells": [
  {
   "cell_type": "markdown",
   "metadata": {},
   "source": [
    "# Naive Bayes Classifier | Naive Bayes Algorithm | Naive Bayes Classifier With Example | Simplilearn\n",
    "https://www.youtube.com/watch?v=l3dZ6ZNFjo0"
   ]
  },
  {
   "cell_type": "markdown",
   "metadata": {},
   "source": [
    "suppose we have\n",
    "\n",
    "- one binary DEPENDENT variable buy A (Y/N)\n",
    "- three binary independent variables \n",
    "    - B day (weekday/weekend/holiday)\n",
    "    - C discount (Y/N)\n",
    "    - D free delivery (Y/N)\n",
    "\n",
    "And we want to classify whether a customer bought or didn't buy GIVEN a particular combination of dependent variables:\n",
    "\n",
    "$$\n",
    "P(A|B,C,D)\n",
    "$$\n",
    "\n",
    "So, the prediction will be according to where the bigger probability. Specifically, if the probabiltiy of buying given that it is a holiday, a discount and free delivery\n",
    "\n",
    "$$\n",
    "P(A=yes|B=holiday,C=yes,D=yes) > P(A=no|B=holiday,C=yes,D=yes)\n",
    "$$\n",
    "\n",
    "we predict that the customer will most likely buy (instead of not buying).\n",
    "\n",
    "$$\n",
    "P(A=yes|B=holiday,C=yes,D=yes) = \\frac{\\big[ P(B=holiday|A=yes)  P(C=yes|A=yes)  P(D=yes|A=yes) \\big] P(A=yes)}{\\big[ P(B=holiday)  P(C=no)  P(D=yes) \\big]}\n",
    "$$\n",
    "\n",
    "The conditional probabilities are found from likelihood tables, which in turn are obtained from frequency tables. For example:\n",
    "\n",
    "<img src=\"./img/Likelihood_table.png\" alt=\"Drawing\" style=\"width: 400px;\"/>\n",
    "<img src=\"./img/Discount.png\" alt=\"Drawing\" style=\"width: 400px;\"/>\n",
    "<img src=\"./img/Delivery.png\" alt=\"Drawing\" style=\"width: 400px;\"/>\n",
    "\n"
   ]
  },
  {
   "cell_type": "markdown",
   "metadata": {},
   "source": [
    "$$\n",
    "P(A=yes|B=holiday,C=yes,D=yes) = \\frac{\\big[ P(B=holiday|A=yes)  P(C=yes|A=yes)  P(D=yes|A=yes) \\big] P(A=yes)}{\\big[ P(B=holiday)  P(C=no)  P(D=yes) \\big]}\n",
    "$$"
   ]
  },
  {
   "cell_type": "markdown",
   "metadata": {},
   "source": [
    "## Actually, the Bayes classifier can be defined as follows:\n",
    "$$\n",
    "\\hat{y} = \\underset{k \\in {1,...,K}}{\\operatorname{argmax}} p(C_k) \\prod_{i=1}^{n}p(x_i|C_k)\n",
    "$$\n",
    "\n",
    "**Which means:**\n",
    "\n",
    "_What is the probability that class $C_k$ is true given observed values of variables $x_i$?_\n",
    "\n",
    "For classification, we don't need the denominator (with the full probability of all the conditions happening), and can drop it."
   ]
  },
  {
   "cell_type": "markdown",
   "metadata": {},
   "source": [
    "the probability of buying given the three conditions\n",
    "\n",
    "`(8/24 * 19/24 * 21/24 * 24/30) / (11/30*20/30*23/30)`\n",
    "\n",
    "the probability of NOT buying given the three conditions\n",
    "\n",
    "`(3/6 * 1/6 * 2/6 * 6/30) / (11/30 * 20/30 * 23/30)`\n"
   ]
  },
  {
   "cell_type": "code",
   "execution_count": 24,
   "metadata": {},
   "outputs": [
    {
     "data": {
      "text/plain": [
       "0.9856719367588934"
      ]
     },
     "execution_count": 24,
     "metadata": {},
     "output_type": "execute_result"
    }
   ],
   "source": [
    "# the probablity of buying\n",
    "a = (8/24 * 19/24 * 21/24 * 24/30) / (11/30*20/30*23/30)\n",
    "a"
   ]
  },
  {
   "cell_type": "code",
   "execution_count": 25,
   "metadata": {},
   "outputs": [
    {
     "data": {
      "text/plain": [
       "0.029644268774703556"
      ]
     },
     "execution_count": 25,
     "metadata": {},
     "output_type": "execute_result"
    }
   ],
   "source": [
    "# the probablity of NOT buying\n",
    "b = (3/6 * 1/6 * 2/6 * 6/30) / (11/30 * 20/30 * 23/30)\n",
    "b"
   ]
  },
  {
   "cell_type": "markdown",
   "metadata": {},
   "source": [
    "# now we need to normalize these probabilities so they sum to one"
   ]
  },
  {
   "cell_type": "code",
   "execution_count": 26,
   "metadata": {},
   "outputs": [
    {
     "data": {
      "text/plain": [
       "0.9708029197080292"
      ]
     },
     "execution_count": 26,
     "metadata": {},
     "output_type": "execute_result"
    }
   ],
   "source": [
    "# The likelihood of buying\n",
    "a/(a + b)"
   ]
  },
  {
   "cell_type": "code",
   "execution_count": 27,
   "metadata": {},
   "outputs": [
    {
     "data": {
      "text/plain": [
       "0.0291970802919708"
      ]
     },
     "execution_count": 27,
     "metadata": {},
     "output_type": "execute_result"
    }
   ],
   "source": [
    "# The likelihood of NOT buying\n",
    "b/(a + b)"
   ]
  },
  {
   "cell_type": "code",
   "execution_count": null,
   "metadata": {},
   "outputs": [],
   "source": []
  }
 ],
 "metadata": {
  "kernelspec": {
   "display_name": "Python 3",
   "language": "python",
   "name": "python3"
  },
  "language_info": {
   "codemirror_mode": {
    "name": "ipython",
    "version": 3
   },
   "file_extension": ".py",
   "mimetype": "text/x-python",
   "name": "python",
   "nbconvert_exporter": "python",
   "pygments_lexer": "ipython3",
   "version": "3.7.3"
  }
 },
 "nbformat": 4,
 "nbformat_minor": 2
}
