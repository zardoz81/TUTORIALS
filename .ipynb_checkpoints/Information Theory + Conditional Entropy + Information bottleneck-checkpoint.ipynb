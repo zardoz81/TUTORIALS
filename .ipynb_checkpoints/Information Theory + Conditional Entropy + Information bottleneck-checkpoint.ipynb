{
 "cells": [
  {
   "cell_type": "markdown",
   "metadata": {},
   "source": [
    "### The amount of information is:\n",
    "\n",
    "# the minimum number of (yes/no) questions you would expect (on average) to ask to guess the next symbol in the message. \n",
    "## So the more questions we have to ask (on average), the more information the messge contains, and the higher the uncertainty **per symbol** there is.\n",
    "\n",
    "For example, we have a message of length 4 whose symbols come from the the set $\\{A, B, C, D\\}$. If the symbols are equiprobable, we have to ask (on average) two questions per symbol to encode/decode the message. I.e. the uncertainty of the message is 2 bits per symbol. However, if the probability of these symbols occurring is different, e.g. $[0.5, 0.125, 0.125, 0.25]$, the first question we ask would be \"Is it A?\" to eliminate the most likely option. Thus, we have to ask fewer question to decode/encode the message (actually, 1.75 bits(questions)/symbol)\n"
   ]
  },
  {
   "cell_type": "markdown",
   "metadata": {},
   "source": [
    "# If data has a pointy distribution, it contains less information and less uncertainty"
   ]
  },
  {
   "cell_type": "markdown",
   "metadata": {},
   "source": [
    "## suppose we have two messges with the same number of symbols. In the first message, the symbols are equiprobable, in the second have a slightly different distribution\n",
    "\n",
    "- x = {0.25, 0.25, 0.25, 0.25}\n",
    "- y = {0.5, 0.125, 0.125, 0.25}\n",
    "\n",
    "## which one of them has more information?"
   ]
  },
  {
   "cell_type": "code",
   "execution_count": 4,
   "metadata": {},
   "outputs": [
    {
     "name": "stdout",
     "output_type": "stream",
     "text": [
      "2.00 bits\n",
      "1.75 bits\n"
     ]
    }
   ],
   "source": [
    "import numpy as np\n",
    "import matplotlib.pyplot as plt\n",
    "%matplotlib inline\n",
    "\n",
    "# https://www.khanacademy.org/computing/computer-science/informationtheory/moderninfotheory/v/information-entropy\n",
    "\n",
    "x = np.array([0.25, 0.25, 0.25, 0.25])\n",
    "y = np.array([0.5, 0.125, 0.125, 0.25])\n",
    "\n",
    "print('{:.2f} bits'.format(-np.sum(x*np.log2(x))))\n",
    "print('{:.2f} bits'.format(-np.sum(y*np.log2(y))))"
   ]
  },
  {
   "cell_type": "markdown",
   "metadata": {},
   "source": [
    "## Turns out that the first one does. In other words, it requires more bits to transmit the same message."
   ]
  },
  {
   "cell_type": "code",
   "execution_count": null,
   "metadata": {},
   "outputs": [],
   "source": []
  },
  {
   "cell_type": "code",
   "execution_count": null,
   "metadata": {},
   "outputs": [],
   "source": []
  },
  {
   "cell_type": "markdown",
   "metadata": {},
   "source": [
    "## Conditional Entropy\n",
    "Conditional entropy is the amount of information (i.e. number of bits) needed to describe a codeword $\\tilde x \\in {\\tilde X}$  given that the value of the input variable $x \\in X$ is known. The entropy goes to zero if there's a unique mapping between each $x$ and $\\tilde x$\n",
    "\n",
    "## Average Volume\n",
    "\n",
    "$$\\boxed{\n",
    "2^{H(X|\\tilde X)}\n",
    "}$$\n",
    "\n",
    "is the number of elements in $X$ that are mapped to the same codeword in $ \\tilde X$ "
   ]
  },
  {
   "cell_type": "code",
   "execution_count": 5,
   "metadata": {},
   "outputs": [
    {
     "name": "stdout",
     "output_type": "stream",
     "text": [
      "Conditional entropy: 0.00002\n",
      "Average volume of elements of X mapped to the same element of X_tilde: 1.00\n"
     ]
    },
    {
     "data": {
      "image/png": "[encoded data removed]",
      "text/plain": [
       "<Figure size 360x72 with 1 Axes>"
      ]
     },
     "metadata": {
      "needs_background": "light"
     },
     "output_type": "display_data"
    }
   ],
   "source": [
    "Px = np.array([0.25,0.25,0.25,0.25])\n",
    "H = 0\n",
    "k = 0.999999\n",
    "pxx = np.eye(4)*np.diag(np.repeat(k, 4)) + np.ones((4,4))*(1-k)/3 - np.diag(np.repeat((1-k)/3, 4)).astype('float32')\n",
    "\n",
    "plt.figure(figsize=(5,1))\n",
    "table = plt.table(cellText=np.round(pxx, 3),\n",
    "          rowLabels=['$x_1$', '$x_2$', '$x_3$', '$x_4$'],\n",
    "          colLabels=['$ \\~{x}_1$', '$\\~{x}_2$', '$\\~{x}_3$', '$\\~{x}_4$'],\n",
    "          loc='top')\n",
    "plt.gca().axis('off')\n",
    "table.scale(1,2)\n",
    "table.set_fontsize(14)\n",
    "\n",
    "for x in range(4):\n",
    "    for x_ in range(4):\n",
    "        H -= Px[x] * pxx[x_, x] * np.log2(pxx[x_, x])\n",
    "print('Conditional entropy: {:.5f}'.format(H))\n",
    "print('Average volume of elements of X mapped to the same element of X_tilde: {:.2f}'.format(2**H))"
   ]
  },
  {
   "cell_type": "markdown",
   "metadata": {},
   "source": [
    "## Now the same thing, but the softest partitioning possible\n",
    "#### I.e. there is no unambiguous correspondence between $x_i$ and $\\tilde{x}_i$, and each $x_i$ corresponds to an average of 4 $\\tilde{x}_i$"
   ]
  },
  {
   "cell_type": "code",
   "execution_count": 6,
   "metadata": {},
   "outputs": [
    {
     "name": "stdout",
     "output_type": "stream",
     "text": [
      "Conditional entropy: 2.00000\n",
      "Average volume of elements of X mapped to the same element of X_tilde: 4.00\n"
     ]
    },
    {
     "data": {
      "image/png": "[encoded data removed]",
      "text/plain": [
       "<Figure size 360x72 with 1 Axes>"
      ]
     },
     "metadata": {
      "needs_background": "light"
     },
     "output_type": "display_data"
    }
   ],
   "source": [
    "Px = np.array([0.25,0.25,0.25,0.25])\n",
    "H = 0\n",
    "k = 0.25\n",
    "pxx = np.eye(4)*np.diag(np.repeat(k, 4)) + np.ones((4,4))*(1-k)/3 - np.diag(np.repeat((1-k)/3, 4)).astype('float32')\n",
    "\n",
    "plt.figure(figsize=(5,1))\n",
    "table = plt.table(cellText=np.round(pxx, 3),\n",
    "          rowLabels=['$x_1$', '$x_2$', '$x_3$', '$x_4$'],\n",
    "          colLabels=['$ \\~{x}_1$', '$\\~{x}_2$', '$\\~{x}_3$', '$\\~{x}_4$'],\n",
    "          loc='top')\n",
    "plt.gca().axis('off')\n",
    "table.scale(1,2)\n",
    "table.set_fontsize(14)\n",
    "\n",
    "for x in range(4):\n",
    "    for x_ in range(4):\n",
    "        H -= Px[x] * pxx[x_, x] * np.log2(pxx[x_, x])\n",
    "print('Conditional entropy: {:.5f}'.format(H))\n",
    "print('Average volume of elements of X mapped to the same element of X_tilde: {:.2f}'.format(2**H))"
   ]
  },
  {
   "cell_type": "code",
   "execution_count": null,
   "metadata": {},
   "outputs": [],
   "source": []
  }
 ],
 "metadata": {
  "kernelspec": {
   "display_name": "Python 3",
   "language": "python",
   "name": "python3"
  },
  "language_info": {
   "codemirror_mode": {
    "name": "ipython",
    "version": 3
   },
   "file_extension": ".py",
   "mimetype": "text/x-python",
   "name": "python",
   "nbconvert_exporter": "python",
   "pygments_lexer": "ipython3",
   "version": "3.7.3"
  }
 },
 "nbformat": 4,
 "nbformat_minor": 2
}
