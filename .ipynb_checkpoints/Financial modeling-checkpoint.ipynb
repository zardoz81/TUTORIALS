{
 "cells": [
  {
   "cell_type": "code",
   "execution_count": 106,
   "metadata": {},
   "outputs": [
    {
     "name": "stdout",
     "output_type": "stream",
     "text": [
      "rur_usd: [72.5 65.4]\n",
      "usd_cbr: [71.  63.9]\n",
      "usd_rur: [69.5 62.4]\n",
      "rur_eur: [79.5 71.7]\n",
      "eur_cbr: [78.  70.2]\n",
      "eur_rur: [76.5 68.7]\n",
      "\n",
      "\n",
      "В долларах:\t было 66239\t стало 71015\t приб_абс: 4776\t\t %: 7.21\n",
      "В евро:\t\t было 60426\t стало 64790\t приб_абс: 4364\t\t %: 7.22\n",
      "В рублях:\t было 4741352\t стало 4582906\t приб_абс: -158445\t %: -3.34\n"
     ]
    }
   ],
   "source": [
    "import numpy as np\n",
    "import matplotlib.pyplot as plt\n",
    "\n",
    "\n",
    "infl_rur = 0.07 # per year\n",
    "infl_usd = 0.02\n",
    "infl_eur = 0.02\n",
    "\n",
    "spread = 1.5\n",
    "\n",
    "# rate_change = 1.10\n",
    "rate_change = 0.9\n",
    "\n",
    "usd_cbr = np.array([71.0, 71.0*rate_change])\n",
    "eur_cbr = np.array([78.0, 78.0*rate_change])\n",
    "eur_usd = 1.09\n",
    "usd_eur = 0.91\n",
    "\n",
    "\n",
    "rur_org = 3189232\n",
    "rur_deposit = 1000000\n",
    "# rur_deposit_interest = 1.067\n",
    "rur_deposit_interest = 1.0\n",
    "\n",
    "usd_org = 13834\n",
    "usd_deposit = 0\n",
    "usd_deposit_interest = 1.05\n",
    "\n",
    "\n",
    "eur_org = 7721\n",
    "eur_deposit = 0\n",
    "eur_deposit_interest = 1.05\n",
    "\n",
    "rur_end = (rur_deposit*rur_deposit_interest + (rur_org-rur_deposit))#*(1-infl_rur)\n",
    "rur = np.array([rur_org, rur_end])\n",
    "\n",
    "usd_end = (usd_deposit*usd_deposit_interest + (usd_org-usd_deposit))#*(1-infl_usd)\n",
    "usd = np.array([usd_org, usd_end])\n",
    "\n",
    "eur_end = (eur_deposit*eur_deposit_interest + (eur_org-eur_deposit))#*(1-infl_eur)\n",
    "eur = np.array([eur_org, eur_end])\n",
    "\n",
    "\n",
    "rur_usd = usd_cbr + spread\n",
    "usd_rur = usd_cbr - spread\n",
    "rur_eur = eur_cbr + spread\n",
    "eur_rur = eur_cbr - spread\n",
    "\n",
    "print('rur_usd: {}'.format(rur_usd))\n",
    "print('usd_cbr: {}'.format(usd_cbr))\n",
    "print('usd_rur: {}'.format(usd_rur))\n",
    "print('rur_eur: {}'.format(rur_eur))\n",
    "print('eur_cbr: {}'.format(eur_cbr))\n",
    "print('eur_rur: {}'.format(eur_rur))\n",
    "\n",
    "\n",
    "tot_val_usd = usd + eur*eur_usd + rur/rur_usd\n",
    "tot_val_eur = eur + usd*usd_eur + rur/rur_eur\n",
    "tot_val_rur = rur + usd*usd_rur + eur*eur_rur\n",
    "\n",
    "print('\\n')\n",
    "\n",
    "perc_usd_gain = np.diff(tot_val_usd)[0]/tot_val_usd[0] * 100\n",
    "perc_eur_gain = np.diff(tot_val_eur)[0]/tot_val_eur[0] * 100\n",
    "perc_rur_gain = np.diff(tot_val_rur)[0]/tot_val_rur[0] * 100\n",
    "print('В долларах:\\t было {:.0f}\\t стало {:.0f}\\t приб_абс: {:.0f}\\t\\t %: {:.2f}'.format(*tot_val_usd, np.diff(tot_val_usd)[0], perc_usd_gain))\n",
    "print('В евро:\\t\\t было {:.0f}\\t стало {:.0f}\\t приб_абс: {:.0f}\\t\\t %: {:.2f}'.format(*tot_val_eur, np.diff(tot_val_eur)[0], perc_eur_gain))\n",
    "print('В рублях:\\t было {:.0f}\\t стало {:.0f}\\t приб_абс: {:.0f}\\t %: {:.2f}'.format(*tot_val_rur, np.diff(tot_val_rur)[0], perc_rur_gain))\n"
   ]
  },
  {
   "cell_type": "code",
   "execution_count": null,
   "metadata": {},
   "outputs": [],
   "source": []
  },
  {
   "cell_type": "code",
   "execution_count": null,
   "metadata": {},
   "outputs": [],
   "source": []
  },
  {
   "cell_type": "code",
   "execution_count": 111,
   "metadata": {},
   "outputs": [
    {
     "name": "stdout",
     "output_type": "stream",
     "text": [
      "rur_usd: [72.5 86.7]\n",
      "usd_cbr: [71.  85.2]\n",
      "usd_rur: [69.5 83.7]\n",
      "rur_eur: [79.5 95.1]\n",
      "eur_cbr: [78.  93.6]\n",
      "eur_rur: [76.5 92.1]\n",
      "\n",
      "\n",
      "В долларах:\t было 66239\t стало 59807\t приб_абс: -6432\t\t %: -9.71\n",
      "В евро:\t\t было 60426\t стало 54550\t приб_абс: -5876\t\t %: -9.72\n",
      "В рублях:\t было 4741352\t стало 5125242\t приб_абс: 383890\t %: 8.10\n"
     ]
    }
   ],
   "source": [
    "import numpy as np\n",
    "import matplotlib.pyplot as plt\n",
    "\n",
    "\n",
    "infl_rur = 0.07 # per year\n",
    "infl_usd = 0.02\n",
    "infl_eur = 0.02\n",
    "\n",
    "spread = 1.5\n",
    "\n",
    "rate_change = 1.2\n",
    "\n",
    "usd_cbr = np.array([71.0, 71.0*rate_change])\n",
    "eur_cbr = np.array([78.0, 78.0*rate_change])\n",
    "eur_usd = 1.09\n",
    "usd_eur = 0.91\n",
    "\n",
    "\n",
    "rur_org = 3189232\n",
    "rur_deposit = 1000000\n",
    "rur_deposit_interest = 1.067\n",
    "\n",
    "usd_org = 13834\n",
    "usd_deposit = 0\n",
    "usd_deposit_interest = 1.05\n",
    "\n",
    "\n",
    "eur_org = 7721\n",
    "eur_deposit = 0\n",
    "eur_deposit_interest = 1.05\n",
    "\n",
    "rur_end = (rur_deposit*rur_deposit_interest + (rur_org-rur_deposit))#*(1-infl_rur)\n",
    "rur = np.array([rur_org, rur_end])\n",
    "\n",
    "usd_end = (usd_deposit*usd_deposit_interest + (usd_org-usd_deposit))#*(1-infl_usd)\n",
    "usd = np.array([usd_org, usd_end])\n",
    "\n",
    "eur_end = (eur_deposit*eur_deposit_interest + (eur_org-eur_deposit))#*(1-infl_eur)\n",
    "eur = np.array([eur_org, eur_end])\n",
    "\n",
    "\n",
    "rur_usd = usd_cbr + spread\n",
    "usd_rur = usd_cbr - spread\n",
    "rur_eur = eur_cbr + spread\n",
    "eur_rur = eur_cbr - spread\n",
    "\n",
    "print('rur_usd: {}'.format(rur_usd))\n",
    "print('usd_cbr: {}'.format(usd_cbr))\n",
    "print('usd_rur: {}'.format(usd_rur))\n",
    "print('rur_eur: {}'.format(rur_eur))\n",
    "print('eur_cbr: {}'.format(eur_cbr))\n",
    "print('eur_rur: {}'.format(eur_rur))\n",
    "\n",
    "\n",
    "tot_val_usd = usd + eur*eur_usd + rur/rur_usd\n",
    "tot_val_eur = eur + usd*usd_eur + rur/rur_eur\n",
    "tot_val_rur = rur + usd*usd_rur + eur*eur_rur\n",
    "\n",
    "print('\\n')\n",
    "\n",
    "perc_usd_gain = np.diff(tot_val_usd)[0]/tot_val_usd[0] * 100\n",
    "perc_eur_gain = np.diff(tot_val_eur)[0]/tot_val_eur[0] * 100\n",
    "perc_rur_gain = np.diff(tot_val_rur)[0]/tot_val_rur[0] * 100\n",
    "print('В долларах:\\t было {:.0f}\\t стало {:.0f}\\t приб_абс: {:.0f}\\t\\t %: {:.2f}'.format(*tot_val_usd, np.diff(tot_val_usd)[0], perc_usd_gain))\n",
    "print('В евро:\\t\\t было {:.0f}\\t стало {:.0f}\\t приб_абс: {:.0f}\\t\\t %: {:.2f}'.format(*tot_val_eur, np.diff(tot_val_eur)[0], perc_eur_gain))\n",
    "print('В рублях:\\t было {:.0f}\\t стало {:.0f}\\t приб_абс: {:.0f}\\t %: {:.2f}'.format(*tot_val_rur, np.diff(tot_val_rur)[0], perc_rur_gain))\n"
   ]
  },
  {
   "cell_type": "code",
   "execution_count": null,
   "metadata": {},
   "outputs": [],
   "source": []
  },
  {
   "cell_type": "code",
   "execution_count": null,
   "metadata": {},
   "outputs": [],
   "source": []
  },
  {
   "cell_type": "code",
   "execution_count": null,
   "metadata": {},
   "outputs": [],
   "source": []
  },
  {
   "cell_type": "code",
   "execution_count": 87,
   "metadata": {},
   "outputs": [
    {
     "name": "stdout",
     "output_type": "stream",
     "text": [
      "rur_usd: [72.5 86.5]\n",
      "usd_cbr: [71. 85.]\n",
      "usd_rur: [69.5 83.5]\n",
      "rur_eur: [79.5 94.5]\n",
      "eur_cbr: [78. 93.]\n",
      "eur_rur: [76.5 91.5]\n",
      "\n",
      "\n",
      "В долларах:\t было 66239\t стало 64691\t приб_абс: -1548\t\t %: -2.34\n",
      "В евро:\t\t было 60426\t стало 59109\t приб_абс: -1317\t\t %: -2.18\n",
      "В рублях:\t было 4741352\t стало 5449147\t приб_абс: 707796\t %: 14.93\n"
     ]
    }
   ],
   "source": [
    "import numpy as np\n",
    "import matplotlib.pyplot as plt\n",
    "\n",
    "\n",
    "infl_rur = 0.10 # per year\n",
    "infl_usd = 0.02\n",
    "infl_eur = 0.02\n",
    "\n",
    "\n",
    "\n",
    "rur_org = 3189232\n",
    "rur_deposit = 1000000\n",
    "rur_deposit_interest = 1.067\n",
    "\n",
    "usd_org = 13834\n",
    "usd_deposit = 0\n",
    "usd_deposit_interest = 1.05\n",
    "\n",
    "\n",
    "eur_org = 7721\n",
    "eur_deposit = 0\n",
    "eur_deposit_interest = 1.05\n",
    "\n",
    "# rur_end = (rur_deposit*rur_deposit_interest)*(1-infl_rur)\n",
    "rur_end = (rur_deposit*rur_deposit_interest)\n",
    "rur = np.array([rur_org, rur_end])\n",
    "\n",
    "# usd_end = (usd_deposit*usd_deposit_interest + (usd_org-usd_deposit + (rur_org-rur_deposit)*0.5/rur_usd[0]))*(1-infl_usd)\n",
    "usd_end = (usd_deposit*usd_deposit_interest + (usd_org-usd_deposit + (rur_org-rur_deposit)*0.5/rur_usd[0]))\n",
    "usd = np.array([usd_org, usd_end])\n",
    "\n",
    "# eur_end = (eur_deposit*eur_deposit_interest + (eur_org-eur_deposit + (rur_org-rur_deposit)*0.5/rur_eur[0]))*(1-infl_eur)\n",
    "eur_end = (eur_deposit*eur_deposit_interest + (eur_org-eur_deposit + (rur_org-rur_deposit)*0.5/rur_eur[0]))\n",
    "eur = np.array([eur_org, eur_end])\n",
    "\n",
    "\n",
    "spread = 1.5\n",
    "\n",
    "usd_cbr = np.array([71.0, 85.0])\n",
    "eur_cbr = np.array([78.0, 93.0])\n",
    "rur_usd = usd_cbr + spread\n",
    "usd_rur = usd_cbr - spread\n",
    "rur_eur = eur_cbr + spread\n",
    "eur_rur = eur_cbr - spread\n",
    "\n",
    "print('rur_usd: {}'.format(rur_usd))\n",
    "print('usd_cbr: {}'.format(usd_cbr))\n",
    "print('usd_rur: {}'.format(usd_rur))\n",
    "print('rur_eur: {}'.format(rur_eur))\n",
    "print('eur_cbr: {}'.format(eur_cbr))\n",
    "print('eur_rur: {}'.format(eur_rur))\n",
    "\n",
    "\n",
    "eur_usd = 1.09\n",
    "usd_eur = 0.91\n",
    "\n",
    "\n",
    "tot_val_usd = usd + eur*eur_usd + rur/rur_usd\n",
    "tot_val_eur = eur + usd*usd_eur + rur/rur_eur\n",
    "tot_val_rur = rur + usd*usd_rur + eur*eur_rur\n",
    "\n",
    "print('\\n')\n",
    "\n",
    "perc_usd_gain = np.diff(tot_val_usd)[0]/tot_val_usd[0] * 100\n",
    "perc_eur_gain = np.diff(tot_val_eur)[0]/tot_val_eur[0] * 100\n",
    "perc_rur_gain = np.diff(tot_val_rur)[0]/tot_val_rur[0] * 100\n",
    "print('В долларах:\\t было {:.0f}\\t стало {:.0f}\\t приб_абс: {:.0f}\\t\\t %: {:.2f}'.format(*tot_val_usd, np.diff(tot_val_usd)[0], perc_usd_gain))\n",
    "print('В евро:\\t\\t было {:.0f}\\t стало {:.0f}\\t приб_абс: {:.0f}\\t\\t %: {:.2f}'.format(*tot_val_eur, np.diff(tot_val_eur)[0], perc_eur_gain))\n",
    "print('В рублях:\\t было {:.0f}\\t стало {:.0f}\\t приб_абс: {:.0f}\\t %: {:.2f}'.format(*tot_val_rur, np.diff(tot_val_rur)[0], perc_rur_gain))\n",
    "\n",
    "\n"
   ]
  },
  {
   "cell_type": "code",
   "execution_count": null,
   "metadata": {},
   "outputs": [],
   "source": []
  },
  {
   "cell_type": "code",
   "execution_count": null,
   "metadata": {},
   "outputs": [],
   "source": []
  },
  {
   "cell_type": "code",
   "execution_count": 95,
   "metadata": {},
   "outputs": [
    {
     "name": "stdout",
     "output_type": "stream",
     "text": [
      "rur_usd: [72.5 65.4]\n",
      "usd_cbr: [71.  63.9]\n",
      "usd_rur: [69.5 62.4]\n",
      "rur_eur: [79.5 71.7]\n",
      "eur_cbr: [78.  70.2]\n",
      "eur_rur: [76.5 68.7]\n",
      "\n",
      "\n",
      "В долларах:\t было 66239\t стало 71015\t приб_абс: 4776\t\t %: 7.21\n",
      "В евро:\t\t было 60426\t стало 64790\t приб_абс: 4364\t\t %: 7.22\n",
      "В рублях:\t было 4741352\t стало 4582906\t приб_абс: -158445\t %: -3.34\n"
     ]
    }
   ],
   "source": [
    "import numpy as np\n",
    "import matplotlib.pyplot as plt\n",
    "\n",
    "\n",
    "infl_rur = 0.07 # per year\n",
    "infl_usd = 0.02\n",
    "infl_eur = 0.02\n",
    "\n",
    "spread = 1.5\n",
    "\n",
    "# rate_change = 1.10\n",
    "rate_change = 0.9\n",
    "\n",
    "usd_cbr = np.array([71.0, 71.0*rate_change])\n",
    "eur_cbr = np.array([78.0, 78.0*rate_change])\n",
    "eur_usd = 1.09\n",
    "usd_eur = 0.91\n",
    "\n",
    "\n",
    "rur_org = 3189232\n",
    "rur_deposit = 1000000\n",
    "# rur_deposit_interest = 1.067\n",
    "rur_deposit_interest = 1.0\n",
    "\n",
    "usd_org = 13834\n",
    "usd_deposit = 0\n",
    "usd_deposit_interest = 1.05\n",
    "\n",
    "\n",
    "eur_org = 7721\n",
    "eur_deposit = 0\n",
    "eur_deposit_interest = 1.05\n",
    "\n",
    "rur_end = (rur_deposit*rur_deposit_interest + (rur_org-rur_deposit))#*(1-infl_rur)\n",
    "rur = np.array([rur_org, rur_end])\n",
    "\n",
    "usd_end = (usd_deposit*usd_deposit_interest + (usd_org-usd_deposit))#*(1-infl_usd)\n",
    "usd = np.array([usd_org, usd_end])\n",
    "\n",
    "eur_end = (eur_deposit*eur_deposit_interest + (eur_org-eur_deposit))#*(1-infl_eur)\n",
    "eur = np.array([eur_org, eur_end])\n",
    "\n",
    "\n",
    "rur_usd = usd_cbr + spread\n",
    "usd_rur = usd_cbr - spread\n",
    "rur_eur = eur_cbr + spread\n",
    "eur_rur = eur_cbr - spread\n",
    "\n",
    "print('rur_usd: {}'.format(rur_usd))\n",
    "print('usd_cbr: {}'.format(usd_cbr))\n",
    "print('usd_rur: {}'.format(usd_rur))\n",
    "print('rur_eur: {}'.format(rur_eur))\n",
    "print('eur_cbr: {}'.format(eur_cbr))\n",
    "print('eur_rur: {}'.format(eur_rur))\n",
    "\n",
    "\n",
    "tot_val_usd = usd + eur*eur_usd + rur/rur_usd\n",
    "tot_val_eur = eur + usd*usd_eur + rur/rur_eur\n",
    "tot_val_rur = rur + usd*usd_rur + eur*eur_rur\n",
    "\n",
    "print('\\n')\n",
    "\n",
    "perc_usd_gain = np.diff(tot_val_usd)[0]/tot_val_usd[0] * 100\n",
    "perc_eur_gain = np.diff(tot_val_eur)[0]/tot_val_eur[0] * 100\n",
    "perc_rur_gain = np.diff(tot_val_rur)[0]/tot_val_rur[0] * 100\n",
    "print('В долларах:\\t было {:.0f}\\t стало {:.0f}\\t приб_абс: {:.0f}\\t\\t %: {:.2f}'.format(*tot_val_usd, np.diff(tot_val_usd)[0], perc_usd_gain))\n",
    "print('В евро:\\t\\t было {:.0f}\\t стало {:.0f}\\t приб_абс: {:.0f}\\t\\t %: {:.2f}'.format(*tot_val_eur, np.diff(tot_val_eur)[0], perc_eur_gain))\n",
    "print('В рублях:\\t было {:.0f}\\t стало {:.0f}\\t приб_абс: {:.0f}\\t %: {:.2f}'.format(*tot_val_rur, np.diff(tot_val_rur)[0], perc_rur_gain))\n"
   ]
  },
  {
   "cell_type": "code",
   "execution_count": null,
   "metadata": {},
   "outputs": [],
   "source": []
  },
  {
   "cell_type": "code",
   "execution_count": null,
   "metadata": {},
   "outputs": [],
   "source": []
  },
  {
   "cell_type": "code",
   "execution_count": 141,
   "metadata": {},
   "outputs": [
    {
     "name": "stdout",
     "output_type": "stream",
     "text": [
      "2593.7424601\n"
     ]
    },
    {
     "data": {
      "image/png": "[encoded data removed]",
      "text/plain": [
       "<Figure size 1080x360 with 2 Axes>"
      ]
     },
     "metadata": {
      "needs_background": "light"
     },
     "output_type": "display_data"
    }
   ],
   "source": [
    "x = 1000\n",
    "r = 0.1\n",
    "T = 10\n",
    "\n",
    "X = [x]\n",
    "Y = [1]\n",
    "for t in range(T):\n",
    "    x += x*r\n",
    "    X.append(x)\n",
    "    Y.append(x/1000)\n",
    "print(x)\n",
    "plt.figure(figsize=(15,5))\n",
    "plt.subplot(1,2,1)\n",
    "plt.plot(X)\n",
    "plt.title('Purchasing power')\n",
    "plt.xlabel('years')\n",
    "plt.grid()\n",
    "\n",
    "plt.subplot(1,2,2)\n",
    "plt.plot(Y)\n",
    "plt.title('Remaining fraction of the original purchasing power')\n",
    "plt.xlabel('years')\n",
    "plt.grid()\n"
   ]
  },
  {
   "cell_type": "code",
   "execution_count": 134,
   "metadata": {},
   "outputs": [
    {
     "data": {
      "text/plain": [
       "33718.65198130003"
      ]
     },
     "execution_count": 134,
     "metadata": {},
     "output_type": "execute_result"
    }
   ],
   "source": [
    "13000*1.1**10"
   ]
  },
  {
   "cell_type": "code",
   "execution_count": 137,
   "metadata": {},
   "outputs": [
    {
     "data": {
      "text/plain": [
       "0.25936923076923074"
      ]
     },
     "execution_count": 137,
     "metadata": {},
     "output_type": "execute_result"
    }
   ],
   "source": [
    "33718/13000/10"
   ]
  },
  {
   "cell_type": "code",
   "execution_count": 127,
   "metadata": {},
   "outputs": [
    {
     "name": "stdout",
     "output_type": "stream",
     "text": [
      "13793\n",
      "15172\n"
     ]
    }
   ],
   "source": [
    "inv = 1e6\n",
    "interest = 1.1\n",
    "print(int(inv/rur_usd[0]))\n",
    "print(int(inv/rur_usd[0]*interest))"
   ]
  },
  {
   "cell_type": "code",
   "execution_count": 130,
   "metadata": {},
   "outputs": [
    {
     "data": {
      "text/plain": [
       "0.162206"
      ]
     },
     "execution_count": 130,
     "metadata": {},
     "output_type": "execute_result"
    }
   ],
   "source": [
    "(int(inv/rur_usd[0]*1.1*usd_rur[1]) - inv)/inv"
   ]
  },
  {
   "cell_type": "code",
   "execution_count": 125,
   "metadata": {},
   "outputs": [
    {
     "data": {
      "text/plain": [
       "72.5"
      ]
     },
     "execution_count": 125,
     "metadata": {},
     "output_type": "execute_result"
    }
   ],
   "source": []
  },
  {
   "cell_type": "code",
   "execution_count": 126,
   "metadata": {},
   "outputs": [
    {
     "data": {
      "text/plain": [
       "79.60000000000001"
      ]
     },
     "execution_count": 126,
     "metadata": {},
     "output_type": "execute_result"
    }
   ],
   "source": [
    "rur_usd[1]"
   ]
  },
  {
   "cell_type": "code",
   "execution_count": null,
   "metadata": {},
   "outputs": [],
   "source": []
  }
 ],
 "metadata": {
  "kernelspec": {
   "display_name": "Python 3",
   "language": "python",
   "name": "python3"
  },
  "language_info": {
   "codemirror_mode": {
    "name": "ipython",
    "version": 3
   },
   "file_extension": ".py",
   "mimetype": "text/x-python",
   "name": "python",
   "nbconvert_exporter": "python",
   "pygments_lexer": "ipython3",
   "version": "3.7.3"
  }
 },
 "nbformat": 4,
 "nbformat_minor": 2
}
