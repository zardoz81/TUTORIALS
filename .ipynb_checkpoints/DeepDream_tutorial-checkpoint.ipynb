{
 "cells": [
  {
   "cell_type": "code",
   "execution_count": 334,
   "metadata": {},
   "outputs": [],
   "source": [
    "from keras.layers import Input, Dense\n",
    "from keras.models import Model\n",
    "from keras.datasets import mnist\n",
    "from keras import optimizers\n",
    "import scipy\n",
    "\n",
    "import numpy as np\n",
    "import time\n",
    "import matplotlib.pyplot as plt\n",
    "\n",
    "import torch\n",
    "from torch.autograd import Variable\n",
    "import torch.optim as optim\n",
    "import torch.nn as nn\n",
    "import torch.nn.functional as F\n",
    "import torch.optim as optim\n",
    "\n",
    "\n",
    "def one_hot(y):\n",
    "    oh = torch.zeros(y.shape[0],10) + 0.00000000000001\n",
    "    for i in range(y.shape[0]):\n",
    "        j = y[i].detach().numpy().astype('int16')\n",
    "        oh[i,j] = 1.0\n",
    "    return torch.tensor(oh, dtype=torch.float)\n",
    "\n",
    "def cross_entropy(P,Q):\n",
    "    H = - torch.sum(torch.matmul(P, torch.log(Q.transpose(1,0))))\n",
    "    return(H)"
   ]
  },
  {
   "cell_type": "code",
   "execution_count": 350,
   "metadata": {},
   "outputs": [],
   "source": [
    "(x_train, y_train), (x_test, y_test) = mnist.load_data()\n",
    "x_train = torch.tensor(x_train, dtype=torch.float)\n",
    "\n",
    "# y = one_hot(torch.tensor(y_train, dtype=torch.float)) # for MSEloss\n",
    "y = torch.tensor(y_train,dtype=torch.long)          # for CrossEntropyLoss\n",
    "\n",
    "x = x_train.view(-1,1,28,28)"
   ]
  },
  {
   "cell_type": "code",
   "execution_count": 355,
   "metadata": {},
   "outputs": [
    {
     "name": "stdout",
     "output_type": "stream",
     "text": [
      "Sequential(\n",
      "  (0): Conv2d(1, 32, kernel_size=(5, 5), stride=(1, 1), padding=(3, 3))\n",
      "  (1): ReLU()\n",
      "  (2): MaxPool2d(kernel_size=2, stride=2, padding=0, dilation=1, ceil_mode=False)\n",
      "  (3): BatchNorm2d(32, eps=1e-05, momentum=0.1, affine=True, track_running_stats=True)\n",
      "  (4): Conv2d(32, 64, kernel_size=(3, 3), stride=(1, 1), padding=(1, 1))\n",
      "  (5): ReLU()\n",
      "  (6): MaxPool2d(kernel_size=2, stride=2, padding=0, dilation=1, ceil_mode=False)\n",
      "  (7): BatchNorm2d(64, eps=1e-05, momentum=0.1, affine=True, track_running_stats=True)\n",
      "  (8): Flatten()\n",
      "  (9): Linear(in_features=3136, out_features=10, bias=True)\n",
      "  (10): Softmax()\n",
      ")\n"
     ]
    }
   ],
   "source": [
    "\"\"\"\n",
    "We first create and train a model that learns the features of numbers:\n",
    "\"\"\"\n",
    "class Flatten(nn.Module):\n",
    "    def forward(self, x):\n",
    "        return x.view(x.size()[0], -1)\n",
    "    \n",
    "model = nn.Sequential(\n",
    "    nn.Conv2d(1,32,5, padding=3),\n",
    "    nn.ReLU(),\n",
    "    nn.MaxPool2d(2),\n",
    "    nn.BatchNorm2d(32),\n",
    "    nn.Conv2d(32,64,3, padding=1),\n",
    "    nn.ReLU(),\n",
    "    nn.MaxPool2d(2),\n",
    "    nn.BatchNorm2d(64),\n",
    "    Flatten(),\n",
    "    nn.Linear(3136,10),\n",
    "    nn.Softmax(dim=1)\n",
    ")\n",
    "\n",
    "print(model)\n",
    "\n",
    "for i in model.parameters():\n",
    "    i.requires_grad = True\n",
    "\n",
    "optimizer = optim.Adam(model.parameters())\n",
    "# criterion = nn.MSELoss()\n",
    "criterion = nn.CrossEntropyLoss()\n",
    "# criterion = cross_entropy\n",
    "\n",
    "hist = []"
   ]
  },
  {
   "cell_type": "code",
   "execution_count": 356,
   "metadata": {},
   "outputs": [
    {
     "name": "stdout",
     "output_type": "stream",
     "text": [
      "Loss: 13.59\n",
      "Loss: 13.16\n",
      "Loss: 12.73\n",
      "Loss: 12.30\n",
      "Loss: 11.90\n",
      "Loss: 11.50\n",
      "Loss: 11.11\n",
      "Loss: 10.73\n",
      "Loss: 10.35\n",
      "Loss: 9.98\n",
      "Loss: 9.66\n",
      "Loss: 9.32\n",
      "Loss: 8.98\n",
      "Loss: 8.65\n",
      "Loss: 8.35\n",
      "Loss: 8.04\n",
      "Loss: 7.76\n",
      "Loss: 7.47\n",
      "Loss: 7.21\n",
      "Loss: 6.94\n",
      "Loss: 6.68\n",
      "Loss: 6.42\n",
      "Loss: 6.20\n",
      "Loss: 5.97\n",
      "Loss: 5.71\n",
      "Loss: 5.50\n",
      "Loss: 5.29\n",
      "Loss: 5.07\n",
      "Loss: 4.88\n",
      "Loss: 4.69\n",
      "Loss: 4.50\n",
      "Loss: 4.33\n",
      "Loss: 4.16\n",
      "Loss: 3.99\n",
      "Loss: 3.84\n",
      "Loss: 3.65\n",
      "Loss: 3.53\n",
      "Loss: 3.39\n",
      "Loss: 3.25\n",
      "Loss: 3.11\n",
      "Loss: 2.99\n",
      "Loss: 2.89\n",
      "Loss: 2.77\n",
      "Loss: 2.65\n",
      "Loss: 2.56\n",
      "Loss: 2.48\n",
      "Loss: 2.38\n",
      "Loss: 2.29\n",
      "Loss: 2.23\n",
      "Loss: 2.16\n"
     ]
    },
    {
     "data": {
      "text/plain": [
       "[<matplotlib.lines.Line2D at 0x1351dd710>]"
      ]
     },
     "execution_count": 356,
     "metadata": {},
     "output_type": "execute_result"
    },
    {
     "data": {
      "image/png": "[encoded data removed]",
      "text/plain": [
       "<matplotlib.figure.Figure at 0x137033f60>"
      ]
     },
     "metadata": {},
     "output_type": "display_data"
    }
   ],
   "source": [
    "\"\"\"\n",
    "We train the model for 20 epochs on batches of 1000 samples\n",
    "\"\"\"\n",
    "\n",
    "for i in range(50):\n",
    "    samp = np.random.choice(60000, 1000).astype('int32').tolist()\n",
    "    optimizer.zero_grad()\n",
    "\n",
    "    predictions = model(x[samp,:,:,:])\n",
    "#     targets = y[samp,:]   # for MSEloss\n",
    "    targets = y[samp]    # otherwise\n",
    "\n",
    "    loss = criterion(predictions, targets)\n",
    "    \n",
    "    # L1 and L2 regularization (Elastic Net) for the second conn2d layer ONLY:\n",
    "    lmbda1, lmbda2 = 0.02, 0.02\n",
    "    for p in model[4].parameters():\n",
    "        loss += lmbda1 * torch.norm(p,1).sum()\n",
    "        loss += lmbda2 * p.pow(2).sum()\n",
    "        \n",
    "    loss.backward()\n",
    "    hist.append(loss)\n",
    "    optimizer.step()\n",
    "    print('Loss: {:.2f}'.format(loss.item()))\n",
    "\n",
    "plt.plot(hist)"
   ]
  },
  {
   "cell_type": "code",
   "execution_count": 317,
   "metadata": {},
   "outputs": [],
   "source": [
    "\"\"\"\n",
    "Now we create an 'image' that we'll optimize though gradient descent. \n",
    "Hopefully, as we maximize the activation of one neuron (say, 0), we'll get the weights of the im that look\n",
    "like zero.\n",
    "\"\"\"\n",
    "# im = Variable(torch.randn(1,1,28,28), requires_grad=True)\n",
    "im = Variable(torch.zeros(1,1,28,28), requires_grad=True)"
   ]
  },
  {
   "cell_type": "code",
   "execution_count": 319,
   "metadata": {},
   "outputs": [
    {
     "data": {
      "text/plain": [
       "[<matplotlib.lines.Line2D at 0x136065e80>]"
      ]
     },
     "execution_count": 319,
     "metadata": {},
     "output_type": "execute_result"
    },
    {
     "data": {
      "image/png": "[encoded data removed]",
      "text/plain": [
       "<matplotlib.figure.Figure at 0x135735c50>"
      ]
     },
     "metadata": {},
     "output_type": "display_data"
    }
   ],
   "source": [
    "# we freeze all the paramters but the 'image' we'll do gradient descent on:\n",
    "for i in model.parameters():\n",
    "    i.requires_grad = False\n",
    "    \n",
    "optimizer = optim.Adam([im])\n",
    "# criterion = nn.CrossEntropyLoss()\n",
    "criterion = nn.MSELoss()\n",
    "# criterion = cross_entropy\n",
    "hist = []\n",
    "\n",
    "for i in range(100):\n",
    "    optimizer.zero_grad()\n",
    "\n",
    "    predictions = model(im)\n",
    "    targets = torch.tensor([1,0,0,0,0,0,0,0,0,0], dtype=torch.float).view(1,10)    # otherwise\n",
    "\n",
    "    loss = criterion(predictions, targets)\n",
    "\n",
    "    # L1 and L2 regularization (Elastic Net) for the IMAGE only (we leave the model paramters alone!):\n",
    "    lmbda = 0.025\n",
    "    loss += 0.0 * torch.norm(im,1).sum()\n",
    "    loss += lmbda * torch.pow(im,2).sum()\n",
    "    \n",
    "    loss.backward()\n",
    "    hist.append(loss)\n",
    "    optimizer.step()\n",
    "    \n",
    "plt.plot(hist)"
   ]
  },
  {
   "cell_type": "code",
   "execution_count": 320,
   "metadata": {},
   "outputs": [
    {
     "data": {
      "text/plain": [
       "tensor(1)"
      ]
     },
     "execution_count": 320,
     "metadata": {},
     "output_type": "execute_result"
    }
   ],
   "source": [
    "y[i]"
   ]
  },
  {
   "cell_type": "code",
   "execution_count": 321,
   "metadata": {},
   "outputs": [
    {
     "data": {
      "image/png": "[encoded data removed]",
      "text/plain": [
       "<matplotlib.figure.Figure at 0x13570ab70>"
      ]
     },
     "metadata": {},
     "output_type": "display_data"
    }
   ],
   "source": [
    "i = 6\n",
    "\n",
    "plt.figure(figsize=(15,7))\n",
    "plt.subplot(1,2,1)\n",
    "plt.imshow(x[i,:,:,:].reshape(28,28))\n",
    "aa = plt.title(['GT ', y[i].item(), ', Pred ', torch.argmax(model(x[i,:,:,:].view(1,1,28,28))).item()])\n",
    "\n",
    "plt.subplot(1,2,2)\n",
    "plt.imshow(im.view(28,28).detach().numpy())\n",
    "aa = plt.title(['Dreamed image', np.argmax(model(im).detach().numpy())])\n"
   ]
  },
  {
   "cell_type": "code",
   "execution_count": 307,
   "metadata": {},
   "outputs": [
    {
     "data": {
      "text/plain": [
       "tensor([[0.0201, 0.8124, 0.0226, 0.0075, 0.0534, 0.0158, 0.0258, 0.0089, 0.0255,\n",
       "         0.0082]], grad_fn=<SoftmaxBackward>)"
      ]
     },
     "execution_count": 307,
     "metadata": {},
     "output_type": "execute_result"
    }
   ],
   "source": [
    "model(im)"
   ]
  },
  {
   "cell_type": "code",
   "execution_count": 374,
   "metadata": {},
   "outputs": [
    {
     "name": "stdout",
     "output_type": "stream",
     "text": [
      "0\n",
      "0\n",
      "0\n",
      "0\n",
      "0\n",
      "0\n",
      "0\n",
      "0\n",
      "2\n",
      "0\n",
      "0\n",
      "0\n",
      "0\n",
      "0\n",
      "0\n",
      "0\n",
      "0\n",
      "0\n",
      "0\n",
      "0\n",
      "0\n",
      "0\n",
      "0\n",
      "0\n",
      "0\n",
      "0\n",
      "6\n",
      "0\n",
      "0\n",
      "0\n",
      "0\n",
      "0\n",
      "0\n",
      "0\n",
      "0\n",
      "0\n",
      "0\n",
      "0\n",
      "0\n",
      "0\n",
      "0\n",
      "0\n",
      "0\n",
      "2\n",
      "0\n",
      "0\n",
      "0\n",
      "0\n",
      "0\n",
      "0\n",
      "0\n",
      "0\n",
      "0\n",
      "0\n",
      "2\n",
      "0\n",
      "0\n",
      "0\n",
      "0\n",
      "0\n",
      "0\n",
      "0\n",
      "0\n",
      "0\n",
      "0\n",
      "0\n",
      "0\n",
      "0\n",
      "0\n",
      "0\n",
      "0\n",
      "2\n",
      "0\n",
      "0\n",
      "0\n",
      "0\n",
      "0\n",
      "0\n",
      "0\n",
      "0\n",
      "0\n",
      "0\n",
      "0\n",
      "0\n",
      "0\n",
      "0\n",
      "0\n",
      "2\n",
      "0\n",
      "2\n",
      "0\n",
      "0\n",
      "0\n",
      "0\n",
      "0\n",
      "0\n",
      "0\n",
      "0\n",
      "0\n",
      "0\n"
     ]
    }
   ],
   "source": [
    "Z = np.array(np.nonzero(y.detach().numpy()==0)).flatten().tolist()\n",
    "Z_activations = model(x[Z,:,:,:]).detach().numpy()\n",
    "for i in range(100):\n",
    "    print(np.argmax(Z_activations[i,:]))"
   ]
  },
  {
   "cell_type": "code",
   "execution_count": 375,
   "metadata": {},
   "outputs": [
    {
     "name": "stdout",
     "output_type": "stream",
     "text": [
      "VGG(\n",
      "  (features): Sequential(\n",
      "    (0): Conv2d(3, 64, kernel_size=(3, 3), stride=(1, 1), padding=(1, 1))\n",
      "    (1): ReLU(inplace)\n",
      "    (2): Conv2d(64, 64, kernel_size=(3, 3), stride=(1, 1), padding=(1, 1))\n",
      "    (3): ReLU(inplace)\n",
      "    (4): MaxPool2d(kernel_size=2, stride=2, padding=0, dilation=1, ceil_mode=False)\n",
      "    (5): Conv2d(64, 128, kernel_size=(3, 3), stride=(1, 1), padding=(1, 1))\n",
      "    (6): ReLU(inplace)\n",
      "    (7): Conv2d(128, 128, kernel_size=(3, 3), stride=(1, 1), padding=(1, 1))\n",
      "    (8): ReLU(inplace)\n",
      "    (9): MaxPool2d(kernel_size=2, stride=2, padding=0, dilation=1, ceil_mode=False)\n",
      "    (10): Conv2d(128, 256, kernel_size=(3, 3), stride=(1, 1), padding=(1, 1))\n",
      "    (11): ReLU(inplace)\n",
      "    (12): Conv2d(256, 256, kernel_size=(3, 3), stride=(1, 1), padding=(1, 1))\n",
      "    (13): ReLU(inplace)\n",
      "    (14): Conv2d(256, 256, kernel_size=(3, 3), stride=(1, 1), padding=(1, 1))\n",
      "    (15): ReLU(inplace)\n",
      "    (16): MaxPool2d(kernel_size=2, stride=2, padding=0, dilation=1, ceil_mode=False)\n",
      "    (17): Conv2d(256, 512, kernel_size=(3, 3), stride=(1, 1), padding=(1, 1))\n",
      "    (18): ReLU(inplace)\n",
      "    (19): Conv2d(512, 512, kernel_size=(3, 3), stride=(1, 1), padding=(1, 1))\n",
      "    (20): ReLU(inplace)\n",
      "    (21): Conv2d(512, 512, kernel_size=(3, 3), stride=(1, 1), padding=(1, 1))\n",
      "    (22): ReLU(inplace)\n",
      "    (23): MaxPool2d(kernel_size=2, stride=2, padding=0, dilation=1, ceil_mode=False)\n",
      "    (24): Conv2d(512, 512, kernel_size=(3, 3), stride=(1, 1), padding=(1, 1))\n",
      "    (25): ReLU(inplace)\n",
      "    (26): Conv2d(512, 512, kernel_size=(3, 3), stride=(1, 1), padding=(1, 1))\n",
      "    (27): ReLU(inplace)\n",
      "    (28): Conv2d(512, 512, kernel_size=(3, 3), stride=(1, 1), padding=(1, 1))\n",
      "    (29): ReLU(inplace)\n",
      "    (30): MaxPool2d(kernel_size=2, stride=2, padding=0, dilation=1, ceil_mode=False)\n",
      "  )\n",
      "  (classifier): Sequential(\n",
      "    (0): Linear(in_features=25088, out_features=4096, bias=True)\n",
      "    (1): ReLU(inplace)\n",
      "    (2): Dropout(p=0.5)\n",
      "    (3): Linear(in_features=4096, out_features=4096, bias=True)\n",
      "    (4): ReLU(inplace)\n",
      "    (5): Dropout(p=0.5)\n",
      "    (6): Linear(in_features=4096, out_features=1000, bias=True)\n",
      "  )\n",
      ")\n"
     ]
    }
   ],
   "source": [
    "import torchvision.models as models\n",
    "vgg16 = models.vgg16(pretrained=True)\n",
    "print(vgg16)"
   ]
  },
  {
   "cell_type": "code",
   "execution_count": 376,
   "metadata": {},
   "outputs": [
    {
     "ename": "NameError",
     "evalue": "name 'transforms' is not defined",
     "output_type": "error",
     "traceback": [
      "\u001b[0;31m---------------------------------------------------------------------------\u001b[0m",
      "\u001b[0;31mNameError\u001b[0m                                 Traceback (most recent call last)",
      "\u001b[0;32m<ipython-input-376-5c7ac6a23fec>\u001b[0m in \u001b[0;36m<module>\u001b[0;34m()\u001b[0m\n\u001b[1;32m      1\u001b[0m \u001b[0mdata_dir\u001b[0m \u001b[0;34m=\u001b[0m \u001b[0;34m'/home/amplifier/home/NEW_DL/img/'\u001b[0m\u001b[0;34m\u001b[0m\u001b[0m\n\u001b[1;32m      2\u001b[0m \u001b[0;34m\u001b[0m\u001b[0m\n\u001b[0;32m----> 3\u001b[0;31m data_transforms = transforms.Compose([\n\u001b[0m\u001b[1;32m      4\u001b[0m         \u001b[0;31m# Data augmentation is a good practice for the train set\u001b[0m\u001b[0;34m\u001b[0m\u001b[0;34m\u001b[0m\u001b[0m\n\u001b[1;32m      5\u001b[0m         \u001b[0;31m# Here, we randomly crop the image to 224x224 and\u001b[0m\u001b[0;34m\u001b[0m\u001b[0;34m\u001b[0m\u001b[0m\n",
      "\u001b[0;31mNameError\u001b[0m: name 'transforms' is not defined"
     ]
    }
   ],
   "source": [
    "data_dir = '/home/amplifier/home/NEW_DL/img/'\n",
    "\n",
    "data_transforms = transforms.Compose([\n",
    "        # Data augmentation is a good practice for the train set\n",
    "        # Here, we randomly crop the image to 224x224 and\n",
    "        # randomly flip it horizontally. \n",
    "        transforms.Resize((224, 224)),\n",
    "        transforms.ToTensor(),\n",
    "    ])\n",
    "\n",
    "train_dataset = torchvision.datasets.ImageFolder(\n",
    "    root=data_dir,\n",
    "    transform=data_transforms\n",
    ")\n",
    "train_loader = torch.utils.data.DataLoader(\n",
    "    train_dataset,\n",
    "    batch_size=64,\n",
    "    num_workers=0,\n",
    "    shuffle=True\n",
    ")"
   ]
  },
  {
   "cell_type": "code",
   "execution_count": 377,
   "metadata": {},
   "outputs": [
    {
     "ename": "NameError",
     "evalue": "name 'train_loader' is not defined",
     "output_type": "error",
     "traceback": [
      "\u001b[0;31m---------------------------------------------------------------------------\u001b[0m",
      "\u001b[0;31mNameError\u001b[0m                                 Traceback (most recent call last)",
      "\u001b[0;32m<ipython-input-377-917367df92c9>\u001b[0m in \u001b[0;36m<module>\u001b[0;34m()\u001b[0m\n\u001b[1;32m      1\u001b[0m \u001b[0;31m# you can get the data and labels WITH an ORDINAL NUMBER from generator using 'enumerate':\u001b[0m\u001b[0;34m\u001b[0m\u001b[0;34m\u001b[0m\u001b[0m\n\u001b[0;32m----> 2\u001b[0;31m \u001b[0;32mfor\u001b[0m \u001b[0mbatch_idx\u001b[0m\u001b[0;34m,\u001b[0m \u001b[0;34m(\u001b[0m\u001b[0mdata\u001b[0m\u001b[0;34m,\u001b[0m \u001b[0mtarget\u001b[0m\u001b[0;34m)\u001b[0m \u001b[0;32min\u001b[0m \u001b[0menumerate\u001b[0m\u001b[0;34m(\u001b[0m\u001b[0mtrain_loader\u001b[0m\u001b[0;34m)\u001b[0m\u001b[0;34m:\u001b[0m\u001b[0;34m\u001b[0m\u001b[0m\n\u001b[0m\u001b[1;32m      3\u001b[0m     \u001b[0minp\u001b[0m \u001b[0;34m=\u001b[0m \u001b[0mdata\u001b[0m\u001b[0;34m\u001b[0m\u001b[0m\n\u001b[1;32m      4\u001b[0m     \u001b[0mt\u001b[0m \u001b[0;34m=\u001b[0m \u001b[0mtarget\u001b[0m\u001b[0;34m\u001b[0m\u001b[0m\n",
      "\u001b[0;31mNameError\u001b[0m: name 'train_loader' is not defined"
     ]
    }
   ],
   "source": [
    "# you can get the data and labels WITH an ORDINAL NUMBER from generator using 'enumerate':\n",
    "for batch_idx, (data, target) in enumerate(train_loader):\n",
    "    inp = data\n",
    "    t = target"
   ]
  },
  {
   "cell_type": "code",
   "execution_count": null,
   "metadata": {},
   "outputs": [],
   "source": [
    "# you can get the data and labels from generator like this:\n",
    "for (data, target) in train_loader:\n",
    "    print(target)"
   ]
  },
  {
   "cell_type": "code",
   "execution_count": null,
   "metadata": {},
   "outputs": [],
   "source": [
    "print('Data shape: ', data.shape)\n",
    "print('Targets: ', target)"
   ]
  },
  {
   "cell_type": "code",
   "execution_count": null,
   "metadata": {},
   "outputs": [],
   "source": [
    "pred = vgg16(data.cuda())\n",
    "dec = decode_predictions(pred.cpu().detach().numpy())"
   ]
  },
  {
   "cell_type": "code",
   "execution_count": null,
   "metadata": {},
   "outputs": [],
   "source": [
    "plt.figure(figsize = (15,5))\n",
    "for i in range(pred.shape[0]):\n",
    "    plt.subplot(2,4,i+1)\n",
    "    plt.imshow(data.detach().numpy()[i,:,:,:].transpose(1,2,0))\n",
    "    plt.title(dec[i][0][1])\n",
    "    plt.xticks([])\n",
    "    plt.yticks([])"
   ]
  },
  {
   "cell_type": "code",
   "execution_count": null,
   "metadata": {},
   "outputs": [],
   "source": [
    "\"\"\"\n",
    "Now we create an 'image' that we'll optimize though gradient descent. \n",
    "Hopefully, as we maximize the activation of one neuron (say, 0), we'll get the weights of the im that look\n",
    "like zero.\n",
    "\"\"\"\n",
    "torch.set_default_tensor_type('torch.cuda.FloatTensor')\n",
    "# im = Variable(torch.randn(1,3,224,224), requires_grad=True)\n",
    "\n",
    "# transfer the image tensor and the model itself to CUDA:\n",
    "im = Variable(torch.zeros(1,3,224,224), requires_grad=True).cuda()\n",
    "vgg16.cuda()\n",
    "print('The input tensor is now on:', im.device)\n",
    "hist = []"
   ]
  },
  {
   "cell_type": "code",
   "execution_count": null,
   "metadata": {},
   "outputs": [],
   "source": [
    "# we freeze all the paramters but the 'image' we'll do gradient descent on:\n",
    "for i in vgg16.parameters():\n",
    "    i.requires_grad = False\n",
    "    \n",
    "optimizer = optim.Adam([im])\n",
    "# criterion = nn.CrossEntropyLoss()\n",
    "criterion = nn.MSELoss()\n",
    "\n",
    "\n",
    "targets = torch.zeros(1,1000, dtype=torch.float)    # otherwise\n",
    "targets[0,11] = 1.0\n",
    "\n",
    "# targets = torch.tensor(6, dtype=torch.long).view(-1,1)\n",
    "\n",
    "for i in range(100):\n",
    "    optimizer.zero_grad()\n",
    "\n",
    "    predictions = vgg16(im)\n",
    "\n",
    "    loss = criterion(predictions, targets)\n",
    "\n",
    "    # L1 and L2 regularization (Elastic Net) for the IMAGE only (we leave the model paramters alone!):\n",
    "    lmbda = 0\n",
    "    loss += 0.01 * torch.norm(im,1).sum()\n",
    "    loss += 0.01 * torch.pow(im,2).sum()\n",
    "    \n",
    "    loss.backward()\n",
    "    hist.append(loss)\n",
    "    optimizer.step()\n",
    "    \n",
    "plt.plot(hist)"
   ]
  },
  {
   "cell_type": "code",
   "execution_count": null,
   "metadata": {},
   "outputs": [],
   "source": [
    "dec = decode_predictions(targets.cpu().detach().numpy())\n",
    "xx = im.cpu().detach().numpy()[0,1,:,:]\n",
    "yy = vgg16(im).cpu().detach().numpy().flatten()\n",
    "plt.imshow(xx)\n",
    "plt.title([dec[0][0][1], np.argmax(yy)])\n",
    "plt.colorbar()"
   ]
  },
  {
   "cell_type": "code",
   "execution_count": null,
   "metadata": {},
   "outputs": [],
   "source": [
    "pred = vgg16(im).cpu().detach().numpy().flatten()"
   ]
  },
  {
   "cell_type": "code",
   "execution_count": null,
   "metadata": {},
   "outputs": [],
   "source": [
    "print(np.argmax(pred), np.max(pred))"
   ]
  },
  {
   "cell_type": "code",
   "execution_count": null,
   "metadata": {},
   "outputs": [],
   "source": [
    "xx = im.cpu().detach().numpy()[0,:,:,:].transpose(1,2,0)\n",
    "scaled = (xx + 1)*1/2.\n",
    "plt.imshow(scaled)"
   ]
  },
  {
   "cell_type": "code",
   "execution_count": null,
   "metadata": {},
   "outputs": [],
   "source": [
    "print(list(vgg16.children())[1])\n",
    "classifier = list(vgg16.children())[1]\n",
    "clas_layers = list(classifier.children())\n",
    "clas_layers.extend(nn.Softmax(dim=1))\n",
    "clas_layers"
   ]
  },
  {
   "cell_type": "code",
   "execution_count": null,
   "metadata": {},
   "outputs": [],
   "source": []
  }
 ],
 "metadata": {
  "kernelspec": {
   "display_name": "Python 3",
   "language": "python",
   "name": "python3"
  },
  "language_info": {
   "codemirror_mode": {
    "name": "ipython",
    "version": 3
   },
   "file_extension": ".py",
   "mimetype": "text/x-python",
   "name": "python",
   "nbconvert_exporter": "python",
   "pygments_lexer": "ipython3",
   "version": "3.6.3"
  }
 },
 "nbformat": 4,
 "nbformat_minor": 2
}
