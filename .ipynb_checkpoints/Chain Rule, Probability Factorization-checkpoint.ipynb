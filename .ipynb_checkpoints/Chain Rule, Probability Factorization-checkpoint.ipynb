{
 "cells": [
  {
   "cell_type": "markdown",
   "metadata": {},
   "source": [
    "<font size=\"5\">\n",
    "$$\n",
    "\\boxed{\n",
    "p(x,t,q) = p(x|t,q)p(t|q)p(q)\n",
    "}\n",
    "$$\n",
    "</font>"
   ]
  },
  {
   "cell_type": "markdown",
   "metadata": {},
   "source": [
    "# Example 1\n",
    "<font size=\"4\">\n",
    "\n",
    "$$\n",
    "\\boxed{\n",
    "p(x|t,q) = p(x|t)p(x|q)\n",
    "}\n",
    "$$\n",
    "\n",
    "because if we start with the chain rule (see above), we will have:\n",
    "\n",
    "$$\n",
    "p(x,t,q) = p(x|t,q)p(t,q)\n",
    "$$\n",
    "\n",
    "by the definition of conditional probability $\\boxed{P(A,B) = P(A|B)P(B)}$ (<font color='red'> **here x is A and t,q is B** </font>)\n",
    "\n",
    "\n",
    "\n",
    "\n",
    "\n",
    "\n",
    "\n",
    "</font>\n",
    "\n"
   ]
  },
  {
   "cell_type": "markdown",
   "metadata": {},
   "source": [
    "<font size=\"4\">\n",
    "    \n",
    "So by the above difinition of conditional probability, \n",
    "\n",
    "$$\n",
    "p(x|t,q) = p(x,t,q)/p(t,q)\n",
    "$$\n",
    "\n",
    "And because by the chain rule\n",
    "\n",
    "$$\n",
    "p(x,t,q) = p(x|t,q)p(t|q)p(q)\n",
    "$$\n",
    "\n",
    "And because by the difinition of conditional probability\n",
    "\n",
    "$$\n",
    "p(t,q) = p(t|q)p(q)\n",
    "$$\n",
    "\n",
    "$$\n",
    "p(x|t,q) = \\frac {p(x|t,q)p(t|q)p(q)}{p(t|q)p(q)}\n",
    "$$\n",
    "\n",
    "</font>"
   ]
  },
  {
   "cell_type": "markdown",
   "metadata": {},
   "source": [
    "## Likewise, using the chain rule and the difinition of conditional probability, you can factorize any joint probability:\n",
    "<font size=\"4\">\n",
    "\n",
    "$$\n",
    "p(x,t,q) = p(x|t,q)p(t,q) = p(x|t,q)p(t|q)p(q)\n",
    "$$\n",
    "\n",
    "$$\n",
    "p(x,t,q) = p(x,t|q)p(q)\n",
    "$$\n",
    "</font>"
   ]
  },
  {
   "cell_type": "markdown",
   "metadata": {},
   "source": [
    "# In other words, you can factorize any crazy probability\n",
    "\n",
    "\n",
    "<font size=\"4\">\n",
    "\n",
    "either using the difinition of conditional probability:\n",
    "\n",
    "$$\n",
    "p(a,b,c,d) = p(a,b,c|d)p(d)\n",
    "$$\n",
    "\n",
    "or the chain rule (each step of which boils down to the definition of the conditional probablity):\n",
    "\n",
    "$$\n",
    "p(a,b,c,d) = p(a|b,c,d)p(b,c,d) = p(a|b,c,d)p(b|c,d)p(c,d) = p(a|b,c,d)p(b|c,d)p(c|d)p(d)\n",
    "$$\n",
    "</font>"
   ]
  },
  {
   "cell_type": "markdown",
   "metadata": {},
   "source": [
    "# Example 2\n",
    "\n",
    "<font size=\"4\">\n",
    "we need to rearrange this probability\n",
    "    \n",
    "$$\n",
    "\\boxed{p(x,t|\\theta)}\n",
    "$$\n",
    "  \n",
    "It is easier to start the rearrangement from a joint probability. By the definition of conditional probability\n",
    "\n",
    "$$\n",
    "p(t, x|\\theta) = \\frac{p(t,x,\\theta)}{p(\\theta)} = \\frac{p(t|x,\\theta)p(x,\\theta)}{p(\\theta)} = \\frac{p(t|x,\\theta)p(x|\\theta)p(\\theta)}{p(\\theta)} = p(t|x,\\theta)p(x|\\theta)\n",
    "$$\n",
    "</font>\n"
   ]
  },
  {
   "cell_type": "code",
   "execution_count": null,
   "metadata": {},
   "outputs": [],
   "source": []
  }
 ],
 "metadata": {
  "kernelspec": {
   "display_name": "Python 3",
   "language": "python",
   "name": "python3"
  },
  "language_info": {
   "codemirror_mode": {
    "name": "ipython",
    "version": 3
   },
   "file_extension": ".py",
   "mimetype": "text/x-python",
   "name": "python",
   "nbconvert_exporter": "python",
   "pygments_lexer": "ipython3",
   "version": "3.7.3"
  }
 },
 "nbformat": 4,
 "nbformat_minor": 2
}
