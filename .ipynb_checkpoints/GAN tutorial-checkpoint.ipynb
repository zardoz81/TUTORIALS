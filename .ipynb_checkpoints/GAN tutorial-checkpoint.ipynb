{
 "cells": [
  {
   "cell_type": "code",
   "execution_count": 16,
   "metadata": {},
   "outputs": [],
   "source": [
    "# make sure you don't hog all the video memory\n",
    "import os\n",
    "import tensorflow as tf\n",
    "from tensorflow.python.client import device_lib\n",
    "os.environ[\"CUDA_VISIBLE_DEVICES\"]=\"3\"\n",
    "config = tf.ConfigProto()\n",
    "config.gpu_options.allow_growth = True\n",
    "sess = tf.Session(config=config)\n",
    "###################################\n",
    "\n",
    "import numpy as np\n",
    "import matplotlib.pyplot as plt\n",
    "from keras.datasets import mnist\n",
    "import time\n",
    "(x_train, y_train), (x_test, y_test) = mnist.load_data()\n",
    "\n",
    "x_train = x_train.astype('float32') / 255.\n",
    "x_test = x_test.astype('float32') / 255.\n",
    "x_train = np.reshape(x_train, (len(x_train), 28, 28, 1))  # adapt this if using `channels_first` image data format\n",
    "x_test = np.reshape(x_test, (len(x_test), 28, 28, 1))  # adapt this if using `channels_first` image data format"
   ]
  },
  {
   "cell_type": "code",
   "execution_count": 17,
   "metadata": {},
   "outputs": [
    {
     "data": {
      "text/plain": [
       "(60000, 28, 28, 1)"
      ]
     },
     "execution_count": 17,
     "metadata": {},
     "output_type": "execute_result"
    },
    {
     "data": {
      "image/png": "[encoded data removed]",
      "text/plain": [
       "<Figure size 432x288 with 1 Axes>"
      ]
     },
     "metadata": {
      "needs_background": "light"
     },
     "output_type": "display_data"
    }
   ],
   "source": [
    "plt.imshow(x_train[41,:,:,0])\n",
    "x_train.shape"
   ]
  },
  {
   "cell_type": "code",
   "execution_count": 18,
   "metadata": {},
   "outputs": [],
   "source": [
    "# we first define the autoencoder's architecture:\n",
    "from keras.layers import Input, Dense, Conv2D, MaxPooling2D, UpSampling2D, Flatten, Reshape, Activation, Lambda\n",
    "from keras.activations import softmax\n",
    "from keras.optimizers import Adam\n",
    "from keras.models import Model\n",
    "from keras import backend as K\n",
    "from keras.models import load_model\n",
    "from keras.callbacks import TensorBoard\n",
    "import numpy as np\n",
    "import matplotlib.pyplot as plt\n",
    "\n",
    "def SoftMax(x):\n",
    "    return K.tf.nn.softmax(x)\n",
    "\n",
    "def Discriminator():\n",
    "    input_img = Input(shape=(28, 28, 1))  # adapt this if using `channels_first` image data format   \n",
    "    e1 = Conv2D(8, (3, 3), activation='relu', padding='same', name = \"lane1\")(input_img)\n",
    "    e2 = MaxPooling2D((2, 2), padding='same')(e1)\n",
    "    e3 = Conv2D(16, (3, 3), activation='relu', padding='same', name = \"lane2\")(e2)\n",
    "    e4 = MaxPooling2D((2, 2), padding='same')(e3)\n",
    "    e5 = Conv2D(32, (3, 3), activation='relu', padding='same', name = \"lane3\")(e4)\n",
    "    e6 = MaxPooling2D((2, 2), padding='same')(e5)\n",
    "    e7 = Flatten()(e6)\n",
    "    e8 = Dense(100, activation='relu')(e7)\n",
    "    e9 = Dense(2, activation=SoftMax)(e8)\n",
    "    return Model(input_img, e9)\n",
    "\n",
    "def Generator():\n",
    "    input_img = Input(shape=(14, 14, 1))  # adapt this if using `channels_first` image data format   \n",
    "    d1 = Conv2D(8, (3, 3), activation='relu', padding='same')(input_img)\n",
    "    d2 = Conv2D(16, (3, 3), activation='relu', padding='same')(d1)\n",
    "#     d3 = Conv2D(32, (3, 3), activation='relu', padding='same')(d2)\n",
    "    d4 = Flatten()(d2)\n",
    "    d5 = Dense(784)(d4)\n",
    "    d6 = Reshape((28,28,1))(d5)\n",
    "    return Model(input_img, d6)"
   ]
  },
  {
   "cell_type": "code",
   "execution_count": 19,
   "metadata": {},
   "outputs": [
    {
     "name": "stdout",
     "output_type": "stream",
     "text": [
      "Generator\n",
      "_________________________________________________________________\n",
      "Layer (type)                 Output Shape              Param #   \n",
      "=================================================================\n",
      "input_76 (InputLayer)        (None, 14, 14, 1)         0         \n",
      "_________________________________________________________________\n",
      "conv2d_3 (Conv2D)            (None, 14, 14, 8)         80        \n",
      "_________________________________________________________________\n",
      "conv2d_4 (Conv2D)            (None, 14, 14, 16)        1168      \n",
      "_________________________________________________________________\n",
      "flatten_3 (Flatten)          (None, 3136)              0         \n",
      "_________________________________________________________________\n",
      "dense_4 (Dense)              (None, 784)               2459408   \n",
      "_________________________________________________________________\n",
      "reshape_2 (Reshape)          (None, 28, 28, 1)         0         \n",
      "=================================================================\n",
      "Total params: 2,460,656\n",
      "Trainable params: 2,460,656\n",
      "Non-trainable params: 0\n",
      "_________________________________________________________________\n",
      "Discriminator\n",
      "_________________________________________________________________\n",
      "Layer (type)                 Output Shape              Param #   \n",
      "=================================================================\n",
      "input_77 (InputLayer)        (None, 28, 28, 1)         0         \n",
      "_________________________________________________________________\n",
      "lane1 (Conv2D)               (None, 28, 28, 8)         80        \n",
      "_________________________________________________________________\n",
      "max_pooling2d_4 (MaxPooling2 (None, 14, 14, 8)         0         \n",
      "_________________________________________________________________\n",
      "lane2 (Conv2D)               (None, 14, 14, 16)        1168      \n",
      "_________________________________________________________________\n",
      "max_pooling2d_5 (MaxPooling2 (None, 7, 7, 16)          0         \n",
      "_________________________________________________________________\n",
      "lane3 (Conv2D)               (None, 7, 7, 32)          4640      \n",
      "_________________________________________________________________\n",
      "max_pooling2d_6 (MaxPooling2 (None, 4, 4, 32)          0         \n",
      "_________________________________________________________________\n",
      "flatten_4 (Flatten)          (None, 512)               0         \n",
      "_________________________________________________________________\n",
      "dense_5 (Dense)              (None, 100)               51300     \n",
      "_________________________________________________________________\n",
      "dense_6 (Dense)              (None, 2)                 202       \n",
      "=================================================================\n",
      "Total params: 57,390\n",
      "Trainable params: 57,390\n",
      "Non-trainable params: 0\n",
      "_________________________________________________________________\n"
     ]
    }
   ],
   "source": [
    "x = Input(shape=(28, 28, 1))\n",
    "# gen = Model(x, Generator()(x))\n",
    "# gen.compile(optimizer='adadelta', loss='binary_crossentropy')\n",
    "# enc.summary()\n",
    "\n",
    "print('Generator')\n",
    "gen = Generator()\n",
    "# op = Adam(lr=0.005, beta_1=0.9, beta_2=0.999, epsilon=None, decay=0.0, amsgrad=False)\n",
    "# op = Adam(lr=0.01)\n",
    "gen.compile(optimizer='adadelta', loss='binary_crossentropy')\n",
    "gen.summary()\n",
    "print('Discriminator')\n",
    "dis = Discriminator()\n",
    "dis.compile(optimizer='adadelta', loss='binary_crossentropy')\n",
    "dis.summary()"
   ]
  },
  {
   "cell_type": "code",
   "execution_count": 20,
   "metadata": {},
   "outputs": [],
   "source": [
    "def onehot(labels):\n",
    "    out = []\n",
    "    for label in labels:\n",
    "        out.append([1,0] if label==1 else [0,1])\n",
    "    return np.array(out)\n",
    "\n",
    "def FitDiscriminator(gen, dis):\n",
    "    # Generate some fake fours:\n",
    "\n",
    "    # get random inputs:\n",
    "    x_rand = np.random.randn(100,14,14,1)\n",
    "\n",
    "    # forward the generator to generate fakes:\n",
    "    fakes = gen.predict(x_rand)\n",
    "\n",
    "    # make a tensor of fake and real images:\n",
    "    reals_ids = np.random.choice(np.where(y_train==2)[0], 100).tolist()\n",
    "    reals = x_train[reals_ids,:,:,:]\n",
    "    batch_labels = np.concatenate([np.repeat(1, 100), np.repeat(0, 100)], axis=0)\n",
    "    batch_images = np.concatenate([reals, fakes],axis=0)\n",
    "    shuffle_mask = np.random.choice(200, size=200, replace=False).tolist()\n",
    "\n",
    "    # shuffle the batch and labels:\n",
    "    batch_labels = batch_labels[shuffle_mask]\n",
    "    batch_images = batch_images[shuffle_mask,:,:,:]\n",
    "\n",
    "    # backward the discriminator\n",
    "    dis.fit(batch_images, onehot(batch_labels),\n",
    "                epochs=6,\n",
    "                batch_size=10,\n",
    "                shuffle=True,\n",
    "                verbose=0)\n",
    "    return gen, dis\n",
    "\n",
    "def FitGenerator(gen, dis):\n",
    "    dis.trainable = False\n",
    "    inpt = Input(shape=(14, 14, 1))\n",
    "    GAN = Model(inpt, dis(gen(inpt)))\n",
    "#     op = Adam(lr=0.009, beta_1=0.9, beta_2=0.999, epsilon=None, decay=0.0, amsgrad=False)\n",
    "#     op = Adam(lr=0.01)\n",
    "    GAN.compile(optimizer='adadelta', loss='binary_crossentropy')\n",
    "#     GAN.summary()\n",
    "    x_rand = np.random.randn(100,14,14,1)\n",
    "    y_rand = np.repeat(1, 100)\n",
    "    GAN.fit(x_rand, onehot(y_rand),\n",
    "                    epochs=3,\n",
    "                    batch_size=10,\n",
    "                    shuffle=True,\n",
    "                    verbose=0)\n",
    "    dis.trainable = True\n",
    "    return gen, dis\n",
    "\n",
    "def SeeFake(gen):\n",
    "    x_rand = np.random.randn(1,14,14,1)\n",
    "\n",
    "    # forward the generator to generate fakes:\n",
    "    fakes = gen.predict(x_rand)\n",
    "    plt.imshow(fakes[0,:,:,0])"
   ]
  },
  {
   "cell_type": "code",
   "execution_count": 21,
   "metadata": {},
   "outputs": [
    {
     "data": {
      "image/png": "[encoded data removed]",
      "text/plain": [
       "<Figure size 432x288 with 1 Axes>"
      ]
     },
     "metadata": {
      "needs_background": "light"
     },
     "output_type": "display_data"
    }
   ],
   "source": [
    "SeeFake(gen)"
   ]
  },
  {
   "cell_type": "code",
   "execution_count": null,
   "metadata": {},
   "outputs": [],
   "source": []
  },
  {
   "cell_type": "code",
   "execution_count": 22,
   "metadata": {},
   "outputs": [
    {
     "name": "stdout",
     "output_type": "stream",
     "text": [
      "Epoch: 0\telapsed: 7.46 seconds\n",
      "Epoch: 1\telapsed: 4.32 seconds\n",
      "Epoch: 2\telapsed: 4.40 seconds\n",
      "Epoch: 3\telapsed: 4.46 seconds\n",
      "Epoch: 4\telapsed: 4.49 seconds\n",
      "Epoch: 5\telapsed: 4.56 seconds\n",
      "Epoch: 6\telapsed: 4.51 seconds\n",
      "Epoch: 7\telapsed: 4.58 seconds\n",
      "Epoch: 8\telapsed: 4.65 seconds\n",
      "Epoch: 9\telapsed: 4.62 seconds\n"
     ]
    },
    {
     "data": {
      "image/png": "[encoded data removed]",
      "text/plain": [
       "<Figure size 432x288 with 1 Axes>"
      ]
     },
     "metadata": {
      "needs_background": "light"
     },
     "output_type": "display_data"
    }
   ],
   "source": [
    "import time\n",
    "for i in range(10):\n",
    "    t = time.time()\n",
    "    gen, dis = FitDiscriminator(gen, dis)\n",
    "    gen, dis = FitGenerator(gen, dis)\n",
    "    print('Epoch: {:.0f}\\telapsed: {:.2f} seconds'.format(i, time.time() - t))\n",
    "    \n",
    "SeeFake(gen)"
   ]
  },
  {
   "cell_type": "code",
   "execution_count": 23,
   "metadata": {},
   "outputs": [
    {
     "data": {
      "image/png": "[encoded data removed]",
      "text/plain": [
       "<Figure size 432x288 with 1 Axes>"
      ]
     },
     "metadata": {
      "needs_background": "light"
     },
     "output_type": "display_data"
    }
   ],
   "source": [
    "SeeFake(gen)"
   ]
  },
  {
   "cell_type": "code",
   "execution_count": 24,
   "metadata": {},
   "outputs": [
    {
     "name": "stdout",
     "output_type": "stream",
     "text": [
      "Epoch: 0\telapsed: 4.63 seconds\n",
      "Epoch: 1\telapsed: 4.75 seconds\n",
      "Epoch: 2\telapsed: 4.94 seconds\n",
      "Epoch: 3\telapsed: 4.84 seconds\n",
      "Epoch: 4\telapsed: 5.45 seconds\n",
      "Epoch: 5\telapsed: 4.93 seconds\n",
      "Epoch: 6\telapsed: 5.03 seconds\n",
      "Epoch: 7\telapsed: 5.08 seconds\n",
      "Epoch: 8\telapsed: 5.07 seconds\n",
      "Epoch: 9\telapsed: 5.13 seconds\n"
     ]
    },
    {
     "data": {
      "image/png": "[encoded data removed]",
      "text/plain": [
       "<Figure size 432x288 with 1 Axes>"
      ]
     },
     "metadata": {
      "needs_background": "light"
     },
     "output_type": "display_data"
    }
   ],
   "source": [
    "for i in range(10):\n",
    "    t = time.time()\n",
    "    gen, dis = FitDiscriminator(gen, dis)\n",
    "    gen, dis = FitGenerator(gen, dis)\n",
    "    print('Epoch: {:.0f}\\telapsed: {:.2f} seconds'.format(i, time.time() - t))\n",
    "    \n",
    "SeeFake(gen)"
   ]
  },
  {
   "cell_type": "code",
   "execution_count": 25,
   "metadata": {},
   "outputs": [
    {
     "name": "stdout",
     "output_type": "stream",
     "text": [
      "Epoch: 0\telapsed: 5.13 seconds\n",
      "Epoch: 1\telapsed: 5.22 seconds\n",
      "Epoch: 2\telapsed: 5.28 seconds\n",
      "Epoch: 3\telapsed: 5.25 seconds\n",
      "Epoch: 4\telapsed: 5.37 seconds\n",
      "Epoch: 5\telapsed: 5.39 seconds\n",
      "Epoch: 6\telapsed: 5.43 seconds\n",
      "Epoch: 7\telapsed: 5.52 seconds\n",
      "Epoch: 8\telapsed: 5.52 seconds\n",
      "Epoch: 9\telapsed: 5.55 seconds\n"
     ]
    },
    {
     "data": {
      "image/png": "[encoded data removed]",
      "text/plain": [
       "<Figure size 432x288 with 1 Axes>"
      ]
     },
     "metadata": {
      "needs_background": "light"
     },
     "output_type": "display_data"
    }
   ],
   "source": [
    "for i in range(10):\n",
    "    t = time.time()\n",
    "    gen, dis = FitDiscriminator(gen, dis)\n",
    "    gen, dis = FitGenerator(gen, dis)\n",
    "    print('Epoch: {:.0f}\\telapsed: {:.2f} seconds'.format(i, time.time() - t))\n",
    "    \n",
    "SeeFake(gen)"
   ]
  },
  {
   "cell_type": "code",
   "execution_count": 26,
   "metadata": {},
   "outputs": [
    {
     "name": "stdout",
     "output_type": "stream",
     "text": [
      "Epoch: 0\telapsed: 5.52 seconds\n",
      "Epoch: 1\telapsed: 5.56 seconds\n",
      "Epoch: 2\telapsed: 5.72 seconds\n",
      "Epoch: 3\telapsed: 5.78 seconds\n",
      "Epoch: 4\telapsed: 5.79 seconds\n",
      "Epoch: 5\telapsed: 5.87 seconds\n",
      "Epoch: 6\telapsed: 5.89 seconds\n",
      "Epoch: 7\telapsed: 6.64 seconds\n",
      "Epoch: 8\telapsed: 6.03 seconds\n",
      "Epoch: 9\telapsed: 6.10 seconds\n"
     ]
    },
    {
     "data": {
      "image/png": "[encoded data removed]",
      "text/plain": [
       "<Figure size 432x288 with 1 Axes>"
      ]
     },
     "metadata": {
      "needs_background": "light"
     },
     "output_type": "display_data"
    }
   ],
   "source": [
    "for i in range(10):\n",
    "    t = time.time()\n",
    "    gen, dis = FitDiscriminator(gen, dis)\n",
    "    gen, dis = FitGenerator(gen, dis)\n",
    "    print('Epoch: {:.0f}\\telapsed: {:.2f} seconds'.format(i, time.time() - t))\n",
    "    \n",
    "SeeFake(gen)"
   ]
  },
  {
   "cell_type": "code",
   "execution_count": 27,
   "metadata": {},
   "outputs": [
    {
     "name": "stdout",
     "output_type": "stream",
     "text": [
      "Epoch: 0\telapsed: 6.10 seconds\n",
      "Epoch: 1\telapsed: 6.17 seconds\n",
      "Epoch: 2\telapsed: 6.22 seconds\n",
      "Epoch: 3\telapsed: 6.22 seconds\n",
      "Epoch: 4\telapsed: 6.31 seconds\n",
      "Epoch: 5\telapsed: 6.33 seconds\n",
      "Epoch: 6\telapsed: 6.31 seconds\n",
      "Epoch: 7\telapsed: 6.36 seconds\n",
      "Epoch: 8\telapsed: 6.44 seconds\n",
      "Epoch: 9\telapsed: 6.47 seconds\n"
     ]
    },
    {
     "data": {
      "image/png": "[encoded data removed]",
      "text/plain": [
       "<Figure size 432x288 with 1 Axes>"
      ]
     },
     "metadata": {
      "needs_background": "light"
     },
     "output_type": "display_data"
    }
   ],
   "source": [
    "for i in range(10):\n",
    "    t = time.time()\n",
    "    gen, dis = FitDiscriminator(gen, dis)\n",
    "    gen, dis = FitGenerator(gen, dis)\n",
    "    print('Epoch: {:.0f}\\telapsed: {:.2f} seconds'.format(i, time.time() - t))\n",
    "    \n",
    "SeeFake(gen)"
   ]
  },
  {
   "cell_type": "code",
   "execution_count": 28,
   "metadata": {},
   "outputs": [
    {
     "name": "stdout",
     "output_type": "stream",
     "text": [
      "Epoch: 0\telapsed: 6.35 seconds\n",
      "Epoch: 1\telapsed: 6.68 seconds\n",
      "Epoch: 2\telapsed: 6.61 seconds\n",
      "Epoch: 3\telapsed: 6.71 seconds\n",
      "Epoch: 4\telapsed: 6.76 seconds\n",
      "Epoch: 5\telapsed: 6.80 seconds\n",
      "Epoch: 6\telapsed: 6.81 seconds\n",
      "Epoch: 7\telapsed: 6.82 seconds\n",
      "Epoch: 8\telapsed: 6.94 seconds\n",
      "Epoch: 9\telapsed: 6.98 seconds\n"
     ]
    },
    {
     "data": {
      "image/png": "[encoded data removed]",
      "text/plain": [
       "<Figure size 432x288 with 1 Axes>"
      ]
     },
     "metadata": {
      "needs_background": "light"
     },
     "output_type": "display_data"
    }
   ],
   "source": [
    "for i in range(10):\n",
    "    t = time.time()\n",
    "    gen, dis = FitDiscriminator(gen, dis)\n",
    "    gen, dis = FitGenerator(gen, dis)\n",
    "    print('Epoch: {:.0f}\\telapsed: {:.2f} seconds'.format(i, time.time() - t))\n",
    "    \n",
    "SeeFake(gen)"
   ]
  },
  {
   "cell_type": "code",
   "execution_count": 29,
   "metadata": {},
   "outputs": [
    {
     "name": "stdout",
     "output_type": "stream",
     "text": [
      "Epoch: 0\telapsed: 6.99 seconds\n",
      "Epoch: 1\telapsed: 6.98 seconds\n",
      "Epoch: 2\telapsed: 7.16 seconds\n",
      "Epoch: 3\telapsed: 7.17 seconds\n",
      "Epoch: 4\telapsed: 8.08 seconds\n",
      "Epoch: 5\telapsed: 7.30 seconds\n",
      "Epoch: 6\telapsed: 7.39 seconds\n",
      "Epoch: 7\telapsed: 7.29 seconds\n",
      "Epoch: 8\telapsed: 7.36 seconds\n",
      "Epoch: 9\telapsed: 7.44 seconds\n"
     ]
    },
    {
     "data": {
      "image/png": "[encoded data removed]",
      "text/plain": [
       "<Figure size 432x288 with 1 Axes>"
      ]
     },
     "metadata": {
      "needs_background": "light"
     },
     "output_type": "display_data"
    }
   ],
   "source": [
    "for i in range(10):\n",
    "    t = time.time()\n",
    "    gen, dis = FitDiscriminator(gen, dis)\n",
    "    gen, dis = FitGenerator(gen, dis)\n",
    "    print('Epoch: {:.0f}\\telapsed: {:.2f} seconds'.format(i, time.time() - t))\n",
    "    \n",
    "SeeFake(gen)"
   ]
  },
  {
   "cell_type": "code",
   "execution_count": null,
   "metadata": {},
   "outputs": [],
   "source": []
  },
  {
   "cell_type": "code",
   "execution_count": 30,
   "metadata": {},
   "outputs": [
    {
     "name": "stdout",
     "output_type": "stream",
     "text": [
      "FITTING DISCRIMINATOR:\n",
      "\n",
      "\tGENERATOR\t DISCRIMINATOR\n",
      "BEFORE:\t 0.26066563 \t 0.24998552\n",
      "AFTER:\t 0.26066563 \t 0.24998552\n",
      "\n",
      "FITTING GENERATOR:\n",
      "\n",
      "\tGENERATOR\t DISCRIMINATOR\n",
      "BEFORE:\t 0.26066563 \t 0.24998552\n",
      "AFTER:\t 0.26066563 \t 0.24998552\n"
     ]
    }
   ],
   "source": [
    "print('FITTING DISCRIMINATOR:\\n')\n",
    "\n",
    "print('\\tGENERATOR\\t', 'DISCRIMINATOR')\n",
    "print('BEFORE:\\t', np.max(gen.layers[4].get_weights()[0]), '\\t', np.max(dis.layers[8].get_weights()[0]))\n",
    "gen, dis = FitDiscriminator(gen, dis)\n",
    "print('AFTER:\\t', np.max(gen.layers[4].get_weights()[0]), '\\t', np.max(dis.layers[8].get_weights()[0]))\n",
    "\n",
    "print('\\nFITTING GENERATOR:\\n')\n",
    "\n",
    "print('\\tGENERATOR\\t', 'DISCRIMINATOR')\n",
    "print('BEFORE:\\t', np.max(gen.layers[4].get_weights()[0]), '\\t', np.max(dis.layers[8].get_weights()[0]))\n",
    "gen, dis = FitGenerator(gen, dis)\n",
    "print('AFTER:\\t', np.max(gen.layers[4].get_weights()[0]), '\\t', np.max(dis.layers[8].get_weights()[0]))"
   ]
  },
  {
   "cell_type": "code",
   "execution_count": null,
   "metadata": {},
   "outputs": [],
   "source": []
  }
 ],
 "metadata": {
  "kernelspec": {
   "display_name": "Python 3",
   "language": "python",
   "name": "python3"
  },
  "language_info": {
   "codemirror_mode": {
    "name": "ipython",
    "version": 3
   },
   "file_extension": ".py",
   "mimetype": "text/x-python",
   "name": "python",
   "nbconvert_exporter": "python",
   "pygments_lexer": "ipython3",
   "version": "3.6.3"
  }
 },
 "nbformat": 4,
 "nbformat_minor": 2
}
