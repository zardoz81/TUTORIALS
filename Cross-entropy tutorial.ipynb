{
 "cells": [
  {
   "cell_type": "markdown",
   "metadata": {},
   "source": [
    "#### Beware: Keras takes targets first, then predictions! Behaves very weirdly:"
   ]
  },
  {
   "cell_type": "code",
   "execution_count": 119,
   "metadata": {},
   "outputs": [
    {
     "name": "stdout",
     "output_type": "stream",
     "text": [
      "[0.19225068 0.19225068 0.19225068 0.7435987 ]\n",
      "0.3300877\n"
     ]
    }
   ],
   "source": [
    "import keras\n",
    "from keras import backend as K\n",
    "\n",
    "a = K.variable(value=[0.1749, 0.1749, 0.1749, 0.4754])\n",
    "# K.reshape(a,(1,4))\n",
    "b = K.variable(value=[0.0, 0.0, 0.0, 1.0])\n",
    "# K.reshape(b,(4,1))\n",
    "c = K.binary_crossentropy(b, a, from_logits=False)\n",
    "\n",
    "print(K.eval(c))\n",
    "\n",
    "print(K.eval(keras.losses.binary_crossentropy(b, a)))"
   ]
  },
  {
   "cell_type": "markdown",
   "metadata": {},
   "source": [
    "#### You can use the canonical formula and compute cross-entropy based on probabilities:\n",
    "$$\n",
    "\\displaystyle H(p,q)=-\\sum _{x\\in {\\mathcal {X}}}p(x)\\,\\log q(x)\n",
    "$$"
   ]
  },
  {
   "cell_type": "code",
   "execution_count": 120,
   "metadata": {},
   "outputs": [
    {
     "data": {
      "text/plain": [
       "0.7435987240560435"
      ]
     },
     "execution_count": 120,
     "metadata": {},
     "output_type": "execute_result"
    }
   ],
   "source": [
    "import numpy as np\n",
    "predictions = np.array([0.1749, 0.1749, 0.1749, 0.4754])\n",
    "targets = np.array([0.0, 0.0, 0.0, 1.0])\n",
    "-np.dot(targets, np.log(predictions))"
   ]
  },
  {
   "cell_type": "markdown",
   "metadata": {},
   "source": [
    "### Be careful with Pytorch as well: it takes LOGITS, NOT probabilities for predictions and class labels, NOT target probabilities:"
   ]
  },
  {
   "cell_type": "code",
   "execution_count": 124,
   "metadata": {},
   "outputs": [
    {
     "name": "stdout",
     "output_type": "stream",
     "text": [
      "predicted logits:  tensor([[0., 0., 0., 1.]], grad_fn=<ViewBackward>)\n",
      "predicted probabilities:  tensor([[0.1749, 0.1749, 0.1749, 0.4754]], grad_fn=<SoftmaxBackward>)\n",
      "tensor([3])\n",
      "tensor(0.7437, grad_fn=<NllLossBackward>)\n"
     ]
    }
   ],
   "source": [
    "import torch\n",
    "from torch import nn\n",
    "loss = nn.CrossEntropyLoss()\n",
    "logits = [0.0, 0.0, 0.0, 1.0]\n",
    "input = torch.tensor(logits, requires_grad=True).view(1,4)\n",
    "target = torch.tensor(3, dtype=torch.long).view(1)\n",
    "output = loss(input, target)\n",
    "print(\"predicted logits: \", input)\n",
    "print(\"predicted probabilities: \", nn.Softmax(dim=1)(input))\n",
    "print(target)\n",
    "print(output)\n"
   ]
  }
 ],
 "metadata": {
  "kernelspec": {
   "display_name": "Python 3",
   "language": "python",
   "name": "python3"
  },
  "language_info": {
   "codemirror_mode": {
    "name": "ipython",
    "version": 3
   },
   "file_extension": ".py",
   "mimetype": "text/x-python",
   "name": "python",
   "nbconvert_exporter": "python",
   "pygments_lexer": "ipython3",
   "version": "3.6.3"
  }
 },
 "nbformat": 4,
 "nbformat_minor": 2
}
