{
 "cells": [
  {
   "cell_type": "markdown",
   "metadata": {},
   "source": [
    "# https://www.auctoris.co.uk/2017/04/29/calling-c-classes-from-python-with-ctypes/"
   ]
  },
  {
   "cell_type": "code",
   "execution_count": 2,
   "metadata": {},
   "outputs": [
    {
     "name": "stdout",
     "output_type": "stream",
     "text": [
      "12\n",
      "<class 'int'>\n"
     ]
    }
   ],
   "source": [
    "from foo import Foo\n",
    "\n",
    "# We'll create a Foo object with a value of 5...\n",
    "f=Foo(5)\n",
    "\n",
    "# Calling f.bar() will print a message including the value...\n",
    "f.bar()\n",
    "\n",
    "# Now we'll use foobar to add a value to that stored in our Foo object, f\n",
    "print (f.foobar(7))\n",
    "\n",
    "# Now we'll do the same thing - but this time demonstrate that it's a normal\n",
    "# Python integer...\n",
    "x = f.foobar(2)\n",
    "\n",
    "print (type(x))"
   ]
  },
  {
   "cell_type": "code",
   "execution_count": 4,
   "metadata": {},
   "outputs": [
    {
     "data": {
      "text/plain": [
       "<foo.Foo at 0x10e5a2cc0>"
      ]
     },
     "execution_count": 4,
     "metadata": {},
     "output_type": "execute_result"
    }
   ],
   "source": [
    "f"
   ]
  },
  {
   "cell_type": "code",
   "execution_count": null,
   "metadata": {},
   "outputs": [],
   "source": []
  }
 ],
 "metadata": {
  "kernelspec": {
   "display_name": "Python 3",
   "language": "python",
   "name": "python3"
  },
  "language_info": {
   "codemirror_mode": {
    "name": "ipython",
    "version": 3
   },
   "file_extension": ".py",
   "mimetype": "text/x-python",
   "name": "python",
   "nbconvert_exporter": "python",
   "pygments_lexer": "ipython3",
   "version": "3.7.3"
  }
 },
 "nbformat": 4,
 "nbformat_minor": 2
}
