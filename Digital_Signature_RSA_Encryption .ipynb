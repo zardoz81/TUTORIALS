{
 "cells": [
  {
   "cell_type": "code",
   "execution_count": 16,
   "metadata": {},
   "outputs": [],
   "source": [
    "from hashlib import sha256"
   ]
  },
  {
   "cell_type": "code",
   "execution_count": 17,
   "metadata": {},
   "outputs": [
    {
     "data": {
      "text/plain": [
       "<sha256 HASH object @ 0x111fd7fa8>"
      ]
     },
     "execution_count": 17,
     "metadata": {},
     "output_type": "execute_result"
    }
   ],
   "source": [
    "m = sha256('asdfasdf'.encode('utf-8'))\n",
    "m"
   ]
  },
  {
   "cell_type": "code",
   "execution_count": 8,
   "metadata": {},
   "outputs": [
    {
     "data": {
      "text/plain": [
       "'2413fb3709b05939f04cf2e92f7d0897fc2596f9ad0b8a9ea855c7bfebaae892'"
      ]
     },
     "execution_count": 8,
     "metadata": {},
     "output_type": "execute_result"
    }
   ],
   "source": [
    "# 64 symbols, each encoded by a hex value (i.e. 4 bits). That is, you have 256 bits\n",
    "m.hexdigest()"
   ]
  },
  {
   "cell_type": "markdown",
   "metadata": {},
   "source": [
    "# https://www.youtube.com/watch?v=GSIDS_lvRv4"
   ]
  },
  {
   "cell_type": "markdown",
   "metadata": {},
   "source": [
    "# https://www.cs.utexas.edu/~mitra/honors/soln.html\n",
    "\n",
    "# RSA Algorithm Example\n",
    "- Choose p = 3 and q = 11\n",
    "- Compute n = p * q = 3 * 11 = 33\n",
    "- Compute φ(n) = (p - 1) * (q - 1) = 2 * 10 = 20\n",
    "- Choose e such that 1 < e < φ(n) and e and φ (n) are coprime. Let e = 7\n",
    "- Compute a value for d such that (d * e) % φ(n) = 1. One solution is d = 3 [(3 * 7) % 20 = 1]\n",
    "- Public key is (e, n) => (7, 33)\n",
    "- Private key is (d, n) => (3, 33)\n",
    "- The encryption of m = 2 is c = 27 % 33 = 29\n",
    "- The decryption of c = 29 is m = 293 % 33 = 2"
   ]
  },
  {
   "cell_type": "code",
   "execution_count": 9,
   "metadata": {},
   "outputs": [
    {
     "name": "stdout",
     "output_type": "stream",
     "text": [
      "d 109182490673\n",
      "e 65537\n",
      "(65537, 5551201688147)\n",
      "(109182490673, 5551201688147)\n"
     ]
    }
   ],
   "source": [
    "# choose e, s.t. \n",
    "# a) 1 < e < (p-1)(q-1)\n",
    "# b) e and (p-1)(q-1) are COPRIME\n",
    "# to test, if two numbers are coprime, use Euclidean algorithm\n",
    "\n",
    "\n",
    "def euclidean_algo(a, b):\n",
    "    r=a%b\n",
    "    while r:\n",
    "        a = b\n",
    "        b = r\n",
    "        r = a%b\n",
    "    return b\n",
    "\n",
    "def Phi(p, q):\n",
    "    return (p-1)*(q-1)\n",
    "    \n",
    "def choose_e(phi):\n",
    "    for e in range(2, phi):\n",
    "        if euclidean_algo(e, phi) == 1:\n",
    "            return e\n",
    "    return None\n",
    "\n",
    "def get_d(e, phi):\n",
    "    for d in range(1, phi):\n",
    "        if (d * e) % phi == 1:\n",
    "            return d\n",
    "    return None\n",
    "\n",
    "def encrypt(msg, private_key):\n",
    "    # cipher = pow(msg, private_key[0]) % private_key[1]  # this is fucking slow/\n",
    "    cipher = pow(msg, private_key[0], private_key[1])\n",
    "    return cipher \n",
    "    \n",
    "def decrypt(cipher, public_key):\n",
    "    # msg = pow(cipher, public_key[0]) % public_key[1] # this is fucking slow\n",
    "    msg = pow(cipher, public_key[0], public_key[1])\n",
    "    return msg\n",
    "    \n",
    "    \n",
    "\n",
    "# Generate the RSA modulus (n)\n",
    "# Select two large primes, p and q. Compute n:\n",
    "p, q = 113, 127\n",
    "\n",
    "n = p * q\n",
    "phi = Phi(p, q)\n",
    "e = choose_e(phi) \n",
    "d = get_d(e, phi)\n",
    "\n",
    "\n",
    "# or use the large numbers, already genrated for you:\n",
    "e = 65537\n",
    "n = 5551201688147\n",
    "d = 109182490673\n",
    "\n",
    "public_key = (e, n)\n",
    "private_key = (d, n)\n",
    "\n",
    "print(public_key)\n",
    "print(private_key)\n"
   ]
  },
  {
   "cell_type": "code",
   "execution_count": 13,
   "metadata": {},
   "outputs": [],
   "source": [
    "msg = 1876"
   ]
  },
  {
   "cell_type": "code",
   "execution_count": 14,
   "metadata": {},
   "outputs": [
    {
     "data": {
      "text/plain": [
       "3787247099958"
      ]
     },
     "execution_count": 14,
     "metadata": {},
     "output_type": "execute_result"
    }
   ],
   "source": [
    "cipher = encrypt(msg, public_key)\n",
    "cipher"
   ]
  },
  {
   "cell_type": "code",
   "execution_count": 15,
   "metadata": {},
   "outputs": [
    {
     "data": {
      "text/plain": [
       "1876"
      ]
     },
     "execution_count": 15,
     "metadata": {},
     "output_type": "execute_result"
    }
   ],
   "source": [
    "decrypt(cipher, private_key)"
   ]
  },
  {
   "cell_type": "code",
   "execution_count": null,
   "metadata": {},
   "outputs": [],
   "source": []
  },
  {
   "cell_type": "code",
   "execution_count": null,
   "metadata": {},
   "outputs": [],
   "source": []
  }
 ],
 "metadata": {
  "kernelspec": {
   "display_name": "Python 3",
   "language": "python",
   "name": "python3"
  },
  "language_info": {
   "codemirror_mode": {
    "name": "ipython",
    "version": 3
   },
   "file_extension": ".py",
   "mimetype": "text/x-python",
   "name": "python",
   "nbconvert_exporter": "python",
   "pygments_lexer": "ipython3",
   "version": "3.7.3"
  }
 },
 "nbformat": 4,
 "nbformat_minor": 4
}
