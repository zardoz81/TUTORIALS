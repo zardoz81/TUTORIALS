{
 "cells": [
  {
   "cell_type": "markdown",
   "metadata": {},
   "source": [
    "Differential equations model processes, in which every next value of the function depends not directly on the argument's value but on the value of the function itself.\n",
    "Compound interest is computed using the differential equation:\n",
    "\n",
    "$$\n",
    "\\frac{dV}{dt} = rV\n",
    "$$\n",
    "\n",
    "where $V$ is the value, $r$ is the interest rate, $t$ is the time period.\n",
    "\n",
    "We solve the first order first degree linear ODE by the method of [separation of variables](https://www.mathsisfun.com/calculus/separation-variables.html) (see also Separation of Variables.pdf locally):\n",
    "\n",
    "Flip the elements of the proportion diagonally to group V-variables on one side of the eqaution:\n",
    "\n",
    "$$\n",
    "\\frac{\\mathrm{d}V}{V} = r \\mathrm{d} t\n",
    "$$\n",
    "\n",
    "since we already have the differentials on both sides, we can just put the integral signs and integrate both sides:\n",
    "\n",
    "$$\n",
    "\\int \\frac{\\mathrm{d}V}{V} = \\int r \\mathrm{d} t\n",
    "$$\n",
    "\n",
    "$$\n",
    "\\int \\frac{\\mathrm{d}V}{V} = r \\int \\mathrm{d} t\n",
    "$$\n",
    "\n",
    "$$\n",
    "\\ln V + C = r (t + D)\n",
    "$$\n",
    "\n",
    "Take $\\exp$ of both sides:\n",
    "$$\n",
    "e^{\\ln V + C} =  e^{r (t + D)}\n",
    "$$\n",
    "\n",
    "Or, put another way:\n",
    "\n",
    "$$\n",
    "e^{\\ln V} e^{C} =  e^{r (t + D)}\n",
    "$$\n",
    "\n",
    "To get:\n",
    "\n",
    "$$\n",
    "V(t) = \\frac{e^{r (t + D)}}{e^{C}}\n",
    "$$\n",
    "\n",
    "Or \n",
    "\n",
    "$$\n",
    "V(t) = \\frac{e^{rt} e^{rD}}{e^{C}}\n",
    "$$\n",
    "\n",
    "Since $e$, $r$, $C$ and $D$ are all constants, we can denote the factor $\\frac{e^{rD}}{e^{C}}$ as $P$ (principal):\n",
    "\n",
    "$$\n",
    "\\boxed {V(t) = Pe^{rt}}\n",
    "$$\n",
    "\n",
    "Let's compare ROI with compound and simple interest over time:"
   ]
  },
  {
   "cell_type": "code",
   "execution_count": 19,
   "metadata": {},
   "outputs": [
    {
     "data": {
      "text/plain": [
       "Text(0.5,0,'years')"
      ]
     },
     "execution_count": 19,
     "metadata": {},
     "output_type": "execute_result"
    },
    {
     "data": {
      "image/png": "[encoded data removed]",
      "text/plain": [
       "<matplotlib.figure.Figure at 0x11723d518>"
      ]
     },
     "metadata": {},
     "output_type": "display_data"
    }
   ],
   "source": [
    "import numpy as np\n",
    "import matplotlib.pyplot as plt\n",
    "r = 0.06   # annual\n",
    "T = 3    # years\n",
    "\n",
    "t = np.linspace(0,T,100)\n",
    "P = 1000000\n",
    "V0 = P*r*t\n",
    "V1 = P*np.exp(r*t) - P\n",
    "plt.plot(t, V0, t, V1)\n",
    "plt.legend({'simple', 'compound'})\n",
    "plt.xlabel('years')"
   ]
  },
  {
   "cell_type": "code",
   "execution_count": null,
   "metadata": {},
   "outputs": [],
   "source": []
  }
 ],
 "metadata": {
  "kernelspec": {
   "display_name": "Python 3",
   "language": "python",
   "name": "python3"
  },
  "language_info": {
   "codemirror_mode": {
    "name": "ipython",
    "version": 3
   },
   "file_extension": ".py",
   "mimetype": "text/x-python",
   "name": "python",
   "nbconvert_exporter": "python",
   "pygments_lexer": "ipython3",
   "version": "3.7.3"
  }
 },
 "nbformat": 4,
 "nbformat_minor": 2
}
